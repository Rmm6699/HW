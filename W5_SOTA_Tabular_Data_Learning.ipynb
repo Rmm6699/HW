{
  "cells": [
    {
      "cell_type": "markdown",
      "metadata": {
        "id": "view-in-github",
        "colab_type": "text"
      },
      "source": [
        "<a href=\"https://colab.research.google.com/github/Rmm6699/HW/blob/master/W5_SOTA_Tabular_Data_Learning.ipynb\" target=\"_parent\"><img src=\"https://colab.research.google.com/assets/colab-badge.svg\" alt=\"Open In Colab\"/></a>"
      ]
    },
    {
      "cell_type": "code",
      "execution_count": null,
      "metadata": {
        "id": "EJsplvOBpqJZ"
      },
      "outputs": [],
      "source": [
        "import argparse\n",
        "import numpy as np\n",
        "from sklearn.datasets import load_digits\n",
        "from sklearn.model_selection import train_test_split\n",
        "from sklearn.metrics import accuracy_score\n",
        "\n",
        "import warnings\n",
        "warnings.filterwarnings(\"ignore\")\n",
        "\n",
        "from utils import preprocess_data"
      ]
    },
    {
      "cell_type": "code",
      "execution_count": null,
      "metadata": {
        "id": "xl9nd24epqJb",
        "outputId": "75f1b0c4-41bd-4baa-b78a-52a61b629992"
      },
      "outputs": [
        {
          "name": "stdout",
          "output_type": "stream",
          "text": [
            "Training Data shape: (1347, 64),        Testing Data shape: (450, 64),        num of class: 10\n"
          ]
        }
      ],
      "source": [
        "#set random seed\n",
        "seed = 1\n",
        "\n",
        "# Load Data\n",
        "X, y = load_digits(return_X_y=True)\n",
        "X_train, X_test, y_train, y_test = train_test_split(X, y, random_state=seed)\n",
        "print(f'Training Data shape: {X_train.shape},\\\n",
        "        Testing Data shape: {X_test.shape},\\\n",
        "        num of class: {max(y_train.max(), y_test.max())+1}')"
      ]
    },
    {
      "cell_type": "markdown",
      "metadata": {
        "id": "NA7b12NypqJc"
      },
      "source": [
        "# Deep Forest\n",
        "\n",
        "Zhi-Hua Zhou, Ji Feng, Deep Forest, 2020.\n",
        "\n",
        "[Github](https://github.com/LAMDA-NJU/Deep-Forest)"
      ]
    },
    {
      "cell_type": "code",
      "execution_count": null,
      "metadata": {
        "id": "MRGcJXkmpqJd"
      },
      "outputs": [],
      "source": [
        "!pip3 install deep-forest"
      ]
    },
    {
      "cell_type": "code",
      "execution_count": null,
      "metadata": {
        "id": "DtgNXLLIpqJe",
        "outputId": "4540e391-b530-4f47-ae35-a16fc9a1579f"
      },
      "outputs": [
        {
          "name": "stdout",
          "output_type": "stream",
          "text": [
            "[2022-05-20 04:34:54.589] Start to fit the model:\n",
            "[2022-05-20 04:34:54.589] Fitting cascade layer = 0 \n",
            "[2022-05-20 04:34:56.760] layer = 0  | Val Acc = 92.450 % | Elapsed = 2.171 s\n",
            "[2022-05-20 04:34:56.778] Fitting cascade layer = 1 \n",
            "[2022-05-20 04:34:58.683] layer = 1  | Val Acc = 92.850 % | Elapsed = 1.905 s\n",
            "[2022-05-20 04:34:58.698] Fitting cascade layer = 2 \n",
            "[2022-05-20 04:35:00.557] layer = 2  | Val Acc = 92.950 % | Elapsed = 1.859 s\n",
            "[2022-05-20 04:35:00.569] Fitting cascade layer = 3 \n",
            "[2022-05-20 04:35:02.484] layer = 3  | Val Acc = 92.850 % | Elapsed = 1.915 s\n",
            "[2022-05-20 04:35:02.485] Early stopping counter: 1 out of 2\n",
            "[2022-05-20 04:35:02.498] Fitting cascade layer = 4 \n",
            "[2022-05-20 04:35:04.367] layer = 4  | Val Acc = 92.600 % | Elapsed = 1.869 s\n",
            "[2022-05-20 04:35:04.367] Early stopping counter: 2 out of 2\n",
            "[2022-05-20 04:35:04.367] Handling early stopping\n",
            "[2022-05-20 04:35:04.368] The optimal number of layers: 3\n",
            "[2022-05-20 04:35:04.371] Start to evalute the model:\n",
            "[2022-05-20 04:35:04.376] Evaluating cascade layer = 0 \n",
            "[2022-05-20 04:35:04.410] Evaluating cascade layer = 1 \n",
            "[2022-05-20 04:35:04.443] Evaluating cascade layer = 2 \n",
            "\n",
            "Testing Accuracy: 96.000 %\n"
          ]
        }
      ],
      "source": [
        "from deepforest import CascadeForestClassifier\n",
        "\n",
        "model = CascadeForestClassifier(random_state=seed)\n",
        "model.fit(X_train, y_train)\n",
        "y_pred = model.predict(X_test)\n",
        "acc = accuracy_score(y_test, y_pred) * 100\n",
        "print(\"\\nTesting Accuracy: {:.3f} %\".format(acc))"
      ]
    },
    {
      "cell_type": "markdown",
      "metadata": {
        "id": "-7TvQejTpqJe"
      },
      "source": [
        "# VIME\n",
        "Jinsung Yoon, Yao Zhang, James Jordon, Mihaela van der Schaar, VIME: Extending the Success of Self- and Semi-supervised Learning to Tabular Domain, Neural Information Processing Systems (NeurIPS), 2020.\n",
        "\n",
        "[Github](https://github.com/jsyoon0823/VIME)"
      ]
    },
    {
      "cell_type": "code",
      "execution_count": null,
      "metadata": {
        "id": "cn0m7WfxpqJf",
        "outputId": "65e11b5c-b056-4232-b96d-6862d285554e"
      },
      "outputs": [
        {
          "name": "stdout",
          "output_type": "stream",
          "text": [
            "WARNING:tensorflow:From C:\\Users\\user\\anaconda3\\envs\\ESUN_Competition\\lib\\site-packages\\tensorflow\\python\\compat\\v2_compat.py:111: disable_resource_variables (from tensorflow.python.ops.variable_scope) is deprecated and will be removed in a future version.\n",
            "Instructions for updating:\n",
            "non-resource variables are not supported in the long term\n"
          ]
        }
      ],
      "source": [
        "from vime.vime_utils import perf_metric\n",
        "from vime.model import VIME"
      ]
    },
    {
      "cell_type": "code",
      "execution_count": null,
      "metadata": {
        "id": "cXdr-8wcpqJf",
        "outputId": "58fb5dc9-17ba-46aa-c239-75950f70f663"
      },
      "outputs": [
        {
          "name": "stdout",
          "output_type": "stream",
          "text": [
            "Train on 135 samples\n",
            "Epoch 1/10\n",
            "135/135 [==============================] - 0s 628us/sample - loss: 1.0700 - mask_loss: 0.6970 - feature_loss: 0.1823\n",
            "Epoch 2/10\n",
            "135/135 [==============================] - 0s 22us/sample - loss: 1.0293 - mask_loss: 0.6753 - feature_loss: 0.1710\n",
            "Epoch 3/10\n",
            "135/135 [==============================] - 0s 15us/sample - loss: 1.0006 - mask_loss: 0.6617 - feature_loss: 0.1683\n",
            "Epoch 4/10\n",
            "135/135 [==============================] - 0s 15us/sample - loss: 0.9724 - mask_loss: 0.6494 - feature_loss: 0.1604\n",
            "Epoch 5/10\n",
            "135/135 [==============================] - 0s 22us/sample - loss: 0.9418 - mask_loss: 0.6298 - feature_loss: 0.1540\n",
            "Epoch 6/10\n",
            "135/135 [==============================] - 0s 15us/sample - loss: 0.9100 - mask_loss: 0.6116 - feature_loss: 0.1455\n",
            "Epoch 7/10\n",
            "135/135 [==============================] - 0s 15us/sample - loss: 0.8758 - mask_loss: 0.5957 - feature_loss: 0.1395\n",
            "Epoch 8/10\n",
            "135/135 [==============================] - 0s 22us/sample - loss: 0.8430 - mask_loss: 0.5771 - feature_loss: 0.1325\n",
            "Epoch 9/10\n",
            "135/135 [==============================] - 0s 22us/sample - loss: 0.8098 - mask_loss: 0.5479 - feature_loss: 0.1244\n",
            "Epoch 10/10\n",
            "135/135 [==============================] - 0s 22us/sample - loss: 0.7782 - mask_loss: 0.5335 - feature_loss: 0.1180\n",
            "WARNING:tensorflow:From C:\\Users\\user\\anaconda3\\envs\\ESUN_Competition\\lib\\site-packages\\tensorflow\\python\\ops\\init_ops.py:97: calling GlorotUniform.__init__ (from tensorflow.python.ops.init_ops) with dtype is deprecated and will be removed in a future version.\n",
            "Instructions for updating:\n",
            "Call initializer instance with the dtype argument instead of passing it to the constructor\n",
            "WARNING:tensorflow:From C:\\Users\\user\\anaconda3\\envs\\ESUN_Competition\\lib\\site-packages\\tensorflow\\python\\ops\\init_ops.py:97: calling Zeros.__init__ (from tensorflow.python.ops.init_ops) with dtype is deprecated and will be removed in a future version.\n",
            "Instructions for updating:\n",
            "Call initializer instance with the dtype argument instead of passing it to the constructor\n",
            "WARNING:tensorflow:No training configuration found in the save file, so the model was *not* compiled. Compile it manually.\n",
            "Iteration: 0/1000, Current loss: 2.3158\n",
            "Iteration: 100/1000, Current loss: 0.6365\n",
            "Iteration: 200/1000, Current loss: 0.471\n",
            "Iteration: 300/1000, Current loss: 0.3766\n",
            "Iteration: 400/1000, Current loss: 0.3521\n",
            "Iteration: 500/1000, Current loss: 0.3261\n",
            "Iteration: 600/1000, Current loss: 0.2971\n",
            "Iteration: 700/1000, Current loss: 0.2873\n",
            "INFO:tensorflow:Restoring parameters from ./save_model/class_model.ckpt\n"
          ]
        }
      ],
      "source": [
        "# Set arguments\n",
        "parser = argparse.ArgumentParser()\n",
        "parser.add_argument('--p_m', type=float, default=0.3)\n",
        "parser.add_argument('--alpha', type=float, default=2.0)\n",
        "parser.add_argument('--K', type=int, default=3)\n",
        "parser.add_argument('--beta', type=float, default=2.0)\n",
        "parser.add_argument('--hidden_dim', type=int, default=128)\n",
        "parser.add_argument('--label_data_rate', type=float, default=0.9)\n",
        "parser.add_argument('--file_path', type=str, default='./vime/save_model')\n",
        "parser.add_argument('--file_name', type=str, default='./vime/save_model/encoder_model.h5')\n",
        "args = parser.parse_args([])\n",
        "\n",
        "# Initial VIME Model\n",
        "vime = VIME(args)\n",
        "\n",
        "# Preprocess Data\n",
        "X_train_vime, y_train_vime, X_unlab_vime, X_test_vime = preprocess_data(X_train, y_train, X_test, y_test, \n",
        "                                                                        Normalize=True, label_data_rate=args.label_data_rate, one_hot=True)\n",
        "\n",
        "# Start train the vime-self model only using X_unlab_vime (unsupervised)\n",
        "vime.train_self_model_and_save(X_unlab_vime, batch_size=128, epochs=10)\n",
        "\n",
        "# Train the vime-semi model using X_train_vime, y_train_vime and X_unlab_vime (semi-supervised)\n",
        "y_test_pred = vime.train_semi_model_and_predict(X_train_vime, y_train_vime, \n",
        "                                                X_unlab_vime, X_test_vime, batch_size=128, epochs=1000)"
      ]
    },
    {
      "cell_type": "code",
      "execution_count": null,
      "metadata": {
        "id": "nmc40A9lpqJg",
        "outputId": "69ae1acb-73a4-4203-de05-40d9e0abc06f"
      },
      "outputs": [
        {
          "name": "stdout",
          "output_type": "stream",
          "text": [
            "VIME accuracy: 0.9711111111111111\n"
          ]
        }
      ],
      "source": [
        "# Test VIME\n",
        "acc = accuracy_score(y_test, np.argmax(y_test_pred, -1))\n",
        "\n",
        "print('VIME accuracy: '+ str(acc))"
      ]
    },
    {
      "cell_type": "markdown",
      "metadata": {
        "id": "8PzV4H9HpqJg"
      },
      "source": [
        "# SubTab\n",
        "Talip Ucar, Ehsan Hajiramezanali, Lindsay Edwards, SubTab: Subsetting Features of Tabular Data for Self-Supervised Representation Learning, Neural Information Processing Systems (NeurIPS), 2021.\n",
        "\n",
        "[Github](https://github.com/AstraZeneca/SubTab)"
      ]
    },
    {
      "cell_type": "code",
      "execution_count": null,
      "metadata": {
        "id": "KYTshlUVpqJg"
      },
      "outputs": [],
      "source": [
        "import torch\n",
        "from subtab.model import SubTab\n",
        "from subtab.utils.arguments import get_arguments"
      ]
    },
    {
      "cell_type": "code",
      "execution_count": null,
      "metadata": {
        "id": "lXz2r-4DpqJg",
        "outputId": "601169d1-cd4d-4cfe-d2ae-29efe532eff9"
      },
      "outputs": [
        {
          "name": "stdout",
          "output_type": "stream",
          "text": [
            "Directories are set.\n"
          ]
        }
      ],
      "source": [
        "# Set arguments\n",
        "args = get_arguments(X_train)\n",
        "\n",
        "# Preprocess Data\n",
        "X_train_sub, y_train_sub, X_test_sub, y_test_sub = preprocess_data(X_train, y_train, X_test, y_test,\n",
        "                                                                   Normalize=True, one_hot=False)"
      ]
    },
    {
      "cell_type": "code",
      "execution_count": null,
      "metadata": {
        "id": "JWmGDywqpqJh",
        "outputId": "901eb531-8213-4812-d320-abda8102de51"
      },
      "outputs": [
        {
          "name": "stdout",
          "output_type": "stream",
          "text": [
            "Directories are set.\n",
            "Building the models for training and evaluation in SubTab framework...\n",
            "----------------------------------------Summary of the models (an Autoencoder and Projection network):----------------------------------------\n",
            "==================================AE Model==================================\n",
            "AEWrapper(\n",
            "  (encoder): ShallowEncoder(\n",
            "    (hidden_layers): HiddenLayers(\n",
            "      (layers): ModuleList(\n",
            "        (0): Linear(in_features=28, out_features=784, bias=True)\n",
            "        (1): LeakyReLU(negative_slope=0.01)\n",
            "      )\n",
            "    )\n",
            "  )\n",
            "  (decoder): ShallowDecoder(\n",
            "    (first_layer): Linear(in_features=784, out_features=64, bias=True)\n",
            "  )\n",
            "  (linear_layer1): Linear(in_features=784, out_features=784, bias=True)\n",
            "  (linear_layer2): Linear(in_features=784, out_features=784, bias=True)\n",
            ")\n",
            "\n"
          ]
        },
        {
          "name": "stderr",
          "output_type": "stream",
          "text": [
            "Losses per batch - Total:8.3149, X recon:4.1751, contrastive:4.1380, z distance:0.001861, Progress: 100%|█| 33/33 [00:1\n",
            "Epoch-1 Total training loss:9.7469 | Losses per batch - X recon:3.7700, contrastive:4.0597, z distance:0.033281, Progre\n",
            "Epoch-2 Total training loss:8.0440 | Losses per batch - X recon:3.8267, contrastive:4.0815, z distance:0.061836, Progre\n",
            "Epoch-3 Total training loss:7.7445 | Losses per batch - X recon:4.0535, contrastive:3.9625, z distance:0.064687, Progre\n",
            "Epoch-4 Total training loss:7.5664 | Losses per batch - X recon:3.4365, contrastive:3.9848, z distance:0.077123, Progre\n",
            "Epoch-5 Total training loss:7.4884 | Losses per batch - X recon:3.5386, contrastive:3.9495, z distance:0.088595, Progre\n",
            "Epoch-6 Total training loss:7.4442 | Losses per batch - X recon:3.3210, contrastive:3.9901, z distance:0.046854, Progre\n",
            "Epoch-7 Total training loss:7.3628 | Losses per batch - X recon:3.4508, contrastive:3.9924, z distance:0.046222, Progre\n",
            "Epoch-8 Total training loss:7.3400 | Losses per batch - X recon:3.3472, contrastive:3.7923, z distance:0.095828, Progre\n",
            "Epoch-9 Total training loss:7.2610 | Losses per batch - X recon:3.5174, contrastive:3.9242, z distance:0.073580, Progre\n",
            "Epoch-10 Total training loss:7.1497 | Losses per batch - X recon:3.5927, contrastive:3.9118, z distance:0.068910, Progr\n",
            "Epoch-11 Total training loss:7.1636 | Losses per batch - X recon:3.2153, contrastive:3.7199, z distance:0.086400, Progr\n",
            "Epoch-12 Total training loss:7.1537 | Losses per batch - X recon:3.3803, contrastive:3.7633, z distance:0.071928, Progr\n",
            "Epoch-13 Total training loss:7.0987 | Losses per batch - X recon:3.1532, contrastive:3.8848, z distance:0.114336, Progr\n",
            "Epoch-14 Total training loss:7.1148 | Losses per batch - X recon:3.5867, contrastive:3.8767, z distance:0.102442, Progr\n",
            "Epoch-15 Total training loss:7.0658 | Losses per batch - X recon:3.0834, contrastive:3.8492, z distance:0.114300, Progr\n",
            "Epoch-16 Total training loss:7.0411 | Losses per batch - X recon:3.3375, contrastive:3.9119, z distance:0.098910, Progr\n",
            "Epoch-17 Total training loss:6.9907 | Losses per batch - X recon:3.4811, contrastive:3.9040, z distance:0.136421, Progr\n",
            "Epoch-18 Total training loss:7.0127 | Losses per batch - X recon:3.3410, contrastive:3.7850, z distance:0.124157, Progr\n",
            "Epoch-19 Total training loss:6.9812 | Losses per batch - X recon:3.0842, contrastive:3.7457, z distance:0.128228, Progr\n",
            "Epoch-20 Total training loss:6.9682 | Losses per batch - X recon:3.1358, contrastive:3.8403, z distance:0.108018, Progr\n",
            "Epoch-21 Total training loss:6.9605 | Losses per batch - X recon:3.4888, contrastive:3.8830, z distance:0.134255, Progr\n",
            "Epoch-22 Total training loss:6.8990 | Losses per batch - X recon:3.3938, contrastive:3.8019, z distance:0.147075, Progr\n",
            "Epoch-23 Total training loss:6.9203 | Losses per batch - X recon:3.0004, contrastive:3.5922, z distance:0.142548, Progr\n",
            "Epoch-24 Total training loss:6.9007 | Losses per batch - X recon:2.9483, contrastive:3.7551, z distance:0.158993, Progr\n",
            "Epoch-25 Total training loss:6.8717 | Losses per batch - X recon:3.1976, contrastive:3.6908, z distance:0.162020, Progr\n",
            "Epoch-26 Total training loss:6.8326 | Losses per batch - X recon:2.9256, contrastive:3.7535, z distance:0.165123, Progr\n",
            "Epoch-27 Total training loss:6.7947 | Losses per batch - X recon:3.3540, contrastive:3.7050, z distance:0.146851, Progr\n",
            "Epoch-28 Total training loss:6.8336 | Losses per batch - X recon:3.0490, contrastive:3.5813, z distance:0.149573, Progr\n",
            "Epoch-29 Total training loss:6.7866 | Losses per batch - X recon:3.2920, contrastive:3.7807, z distance:0.163429, Progr"
          ]
        },
        {
          "name": "stdout",
          "output_type": "stream",
          "text": [
            "Done with saving models.\n"
          ]
        },
        {
          "name": "stderr",
          "output_type": "stream",
          "text": [
            "\n"
          ]
        }
      ],
      "source": [
        "model = SubTab(args)\n",
        "model.fit(X_train_sub, y_train_sub, epochs=30)"
      ]
    },
    {
      "cell_type": "code",
      "execution_count": null,
      "metadata": {
        "id": "ttfuZk2upqJh",
        "outputId": "c2c63468-83eb-4337-b4c1-828914660aff"
      },
      "outputs": [
        {
          "name": "stdout",
          "output_type": "stream",
          "text": [
            "--encoder is loaded\n",
            "Done with loading models.\n"
          ]
        },
        {
          "name": "stderr",
          "output_type": "stream",
          "text": [
            "100%|█████████████████████████████████████████████████████████████████████████████████| 33/33 [00:00<00:00, 135.05it/s]\n"
          ]
        }
      ],
      "source": [
        "# Get embedding\n",
        "z_train_sub, y_train_embed = model.get_embedding()"
      ]
    },
    {
      "cell_type": "code",
      "execution_count": null,
      "metadata": {
        "id": "Af2yMKeKpqJi",
        "outputId": "64755e41-2a12-46c9-fba9-0c39538d48c3"
      },
      "outputs": [
        {
          "name": "stderr",
          "output_type": "stream",
          "text": [
            "100%|█████████████████████████████████████████████████████████████████████████████████| 15/15 [00:00<00:00, 134.87it/s]\n"
          ]
        },
        {
          "name": "stdout",
          "output_type": "stream",
          "text": [
            "******************** Running evaluation using Logistic Regression trained on the joint embeddings of training set and tested on that of test set********************\n",
            ">>>>>>>>>>Sweeping C parameter. Smaller C values specify stronger regularization:\n",
            "**********C=0.01**********\n",
            "Training score: 0.6638257575757576\n",
            "Test score: 0.6644444444444444\n",
            "**********C=0.1**********\n",
            "Training score: 0.8039772727272727\n",
            "Test score: 0.7777777777777778\n",
            "**********C=1**********\n",
            "Training score: 0.8920454545454546\n",
            "Test score: 0.8288888888888889\n",
            "**********C=10**********\n",
            "Training score: 0.9810606060606061\n",
            "Test score: 0.8555555555555555\n",
            "**********C=100.0**********\n",
            "Training score: 1.0\n",
            "Test score: 0.8555555555555555\n",
            "**********C=1000.0**********\n",
            "Training score: 1.0\n",
            "Test score: 0.8511111111111112\n",
            "**********C=10000.0**********\n",
            "Training score: 1.0\n",
            "Test score: 0.8466666666666667\n",
            "**********C=100000.0**********\n",
            "Training score: 1.0\n",
            "Test score: 0.8444444444444444\n",
            "**********C=1000000.0**********\n",
            "Training score: 1.0\n",
            "Test score: 0.84\n",
            "====================================================================================================\n",
            "\n",
            "Classification results are saved at: ./subtab/results/_nsub_4_overlap_0.75_bs_32_zdim_784_epoch_15_seed_1.csv\n"
          ]
        }
      ],
      "source": [
        "model.evaluate(X_test_sub, y_test_sub, z_train_sub, y_train_embed)"
      ]
    },
    {
      "cell_type": "code",
      "execution_count": null,
      "metadata": {
        "id": "5WRS8niupqJi"
      },
      "outputs": [],
      "source": []
    }
  ],
  "metadata": {
    "kernelspec": {
      "display_name": "Python 3 (ipykernel)",
      "language": "python",
      "name": "python3"
    },
    "language_info": {
      "codemirror_mode": {
        "name": "ipython",
        "version": 3
      },
      "file_extension": ".py",
      "mimetype": "text/x-python",
      "name": "python",
      "nbconvert_exporter": "python",
      "pygments_lexer": "ipython3",
      "version": "3.9.7"
    },
    "colab": {
      "provenance": [],
      "include_colab_link": true
    }
  },
  "nbformat": 4,
  "nbformat_minor": 0
}