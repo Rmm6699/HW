{
  "cells": [
    {
      "cell_type": "markdown",
      "metadata": {
        "id": "view-in-github",
        "colab_type": "text"
      },
      "source": [
        "<a href=\"https://colab.research.google.com/github/Rmm6699/HW/blob/master/W9_TA_RecSys.ipynb\" target=\"_parent\"><img src=\"https://colab.research.google.com/assets/colab-badge.svg\" alt=\"Open In Colab\"/></a>"
      ]
    },
    {
      "cell_type": "markdown",
      "metadata": {
        "id": "aq59QRJlqibF"
      },
      "source": [
        "# 永豐銀行 AI人才培育課程--個人化商品推薦系統 #4"
      ]
    },
    {
      "cell_type": "markdown",
      "metadata": {
        "id": "vGS66o8iqibH"
      },
      "source": [
        "# 目錄 Table of Contents <a class=\"anchor\" id=\"0.1\"></a>\n",
        "\n",
        "1.\t[Dataset and Preprocessing](#1)\n",
        "2.\t[Model Architecture](#2)\n",
        "    - 2.1\t[LightGCN](#2.1)\n",
        "    - 2.2\t[NGCF](#2.2)\n",
        "    \n",
        "    \n",
        "3.\t[Loss function and metrics](#3)\n",
        "    - 3.1\t[Bayesian Personalized Ranking loss](#2.1)\n",
        "    - 3.2\t[Metric - Precision, Recall](#2.2)\n",
        "\n",
        "\n",
        "4.\t[Train and evaluate models](#4)"
      ]
    },
    {
      "cell_type": "code",
      "execution_count": null,
      "metadata": {
        "id": "0oxkZ4gaqibI"
      },
      "outputs": [],
      "source": [
        "# Standard library imports\n",
        "import random\n",
        "import time\n",
        "\n",
        "# Third-party imports\n",
        "import matplotlib.pyplot as plt\n",
        "import numpy as np\n",
        "import pandas as pd\n",
        "\n",
        "import torch\n",
        "import torch.nn as nn\n",
        "import torch.nn.functional as F\n",
        "import torch.optim as optim\n",
        "from torch.utils.data import DataLoader\n",
        "\n",
        "import torch_geometric\n",
        "from torch_geometric.nn.conv import MessagePassing\n",
        "from torch_geometric.utils import degree\n",
        "\n",
        "from tqdm.notebook import tqdm\n",
        "from sklearn.preprocessing import LabelEncoder\n",
        "from sklearn.model_selection import train_test_split\n",
        "import scipy.sparse as sp\n",
        "\n",
        "import warnings\n",
        "warnings.filterwarnings('ignore')"
      ]
    },
    {
      "cell_type": "code",
      "execution_count": null,
      "metadata": {
        "id": "dnFGAqfXqibJ",
        "outputId": "32b7b4a4-be05-4e44-a846-ab4291f308a7"
      },
      "outputs": [
        {
          "data": {
            "text/plain": [
              "device(type='cuda')"
            ]
          },
          "execution_count": 2,
          "metadata": {},
          "output_type": "execute_result"
        }
      ],
      "source": [
        "device = torch.device('cuda' if torch.cuda.is_available() else 'cpu')\n",
        "device"
      ]
    },
    {
      "cell_type": "markdown",
      "metadata": {
        "id": "HVpW5VHTqibK"
      },
      "source": [
        "## 1. Dataset and Preprocessing\n",
        "\n",
        "We’ll use the [MovieLens 100K dataset](https://files.grouplens.org/datasets/movielens/ml-100k/), which contains 100,000 ratings by 943 users of 1682 items (movies). To ensure the quality of the dataset, each user has rated at least 20 movies. \n",
        "\n",
        "We’ll focus on the interactions between users and items, in this case user ratings of movies, but the dataset also provides metadata about users and movies, such as user demographics and movie titles, release dates, and genres. T\n",
        "\n",
        "The user ratings of movies form a bipartite graph, which we can apply graph machine learning methods to recommend new movies to users.\n"
      ]
    },
    {
      "cell_type": "code",
      "execution_count": null,
      "metadata": {
        "id": "2sRvCjMZqibK",
        "outputId": "9fcd393e-b769-418d-de05-6a8d5f3d14d5"
      },
      "outputs": [
        {
          "name": "stdout",
          "output_type": "stream",
          "text": [
            "(100000, 4)\n"
          ]
        },
        {
          "data": {
            "text/html": [
              "<div>\n",
              "<style scoped>\n",
              "    .dataframe tbody tr th:only-of-type {\n",
              "        vertical-align: middle;\n",
              "    }\n",
              "\n",
              "    .dataframe tbody tr th {\n",
              "        vertical-align: top;\n",
              "    }\n",
              "\n",
              "    .dataframe thead th {\n",
              "        text-align: right;\n",
              "    }\n",
              "</style>\n",
              "<table border=\"1\" class=\"dataframe\">\n",
              "  <thead>\n",
              "    <tr style=\"text-align: right;\">\n",
              "      <th></th>\n",
              "      <th>user_id</th>\n",
              "      <th>item_id</th>\n",
              "      <th>rating</th>\n",
              "      <th>timestamp</th>\n",
              "    </tr>\n",
              "  </thead>\n",
              "  <tbody>\n",
              "    <tr>\n",
              "      <th>0</th>\n",
              "      <td>196</td>\n",
              "      <td>242</td>\n",
              "      <td>3</td>\n",
              "      <td>881250949</td>\n",
              "    </tr>\n",
              "    <tr>\n",
              "      <th>1</th>\n",
              "      <td>186</td>\n",
              "      <td>302</td>\n",
              "      <td>3</td>\n",
              "      <td>891717742</td>\n",
              "    </tr>\n",
              "    <tr>\n",
              "      <th>2</th>\n",
              "      <td>22</td>\n",
              "      <td>377</td>\n",
              "      <td>1</td>\n",
              "      <td>878887116</td>\n",
              "    </tr>\n",
              "    <tr>\n",
              "      <th>3</th>\n",
              "      <td>244</td>\n",
              "      <td>51</td>\n",
              "      <td>2</td>\n",
              "      <td>880606923</td>\n",
              "    </tr>\n",
              "    <tr>\n",
              "      <th>4</th>\n",
              "      <td>166</td>\n",
              "      <td>346</td>\n",
              "      <td>1</td>\n",
              "      <td>886397596</td>\n",
              "    </tr>\n",
              "  </tbody>\n",
              "</table>\n",
              "</div>"
            ],
            "text/plain": [
              "   user_id  item_id  rating  timestamp\n",
              "0      196      242       3  881250949\n",
              "1      186      302       3  891717742\n",
              "2       22      377       1  878887116\n",
              "3      244       51       2  880606923\n",
              "4      166      346       1  886397596"
            ]
          },
          "execution_count": 3,
          "metadata": {},
          "output_type": "execute_result"
        }
      ],
      "source": [
        "columns_name=['user_id', 'item_id', 'rating', 'timestamp']\n",
        "df = pd.read_csv('./data/u.data', sep='\\t', names=columns_name)\n",
        "print(df.shape)\n",
        "df.head()"
      ]
    },
    {
      "cell_type": "markdown",
      "metadata": {
        "id": "a-psTGRQqibL"
      },
      "source": [
        "We only want to use high ratings as interactions in order to predict which movies a user will enjoy watching next."
      ]
    },
    {
      "cell_type": "code",
      "execution_count": null,
      "metadata": {
        "id": "nANZc86NqibL",
        "outputId": "573b5d6f-0765-41d4-ef18-8dd18ab2a9ab"
      },
      "outputs": [
        {
          "name": "stdout",
          "output_type": "stream",
          "text": [
            "(82520, 4)\n"
          ]
        }
      ],
      "source": [
        "# How many ratings are a 3 or above?\n",
        "df = df[df['rating']>=3]\n",
        "print(df.shape)"
      ]
    },
    {
      "cell_type": "code",
      "execution_count": null,
      "metadata": {
        "id": "sNtTGONHqibL",
        "outputId": "ed77ab11-45ef-44f0-8498-2826dc28f7cd"
      },
      "outputs": [
        {
          "name": "stdout",
          "output_type": "stream",
          "text": [
            "Train Size:  66016\n",
            "Test Size:  16504\n"
          ]
        }
      ],
      "source": [
        "# Perform a 80/20 train-test split on the interactions in the dataset\n",
        "train_df, test_df = train_test_split(df, test_size=0.2, random_state=2022)\n",
        "\n",
        "print(\"Train Size: \", len(train_df))\n",
        "print(\"Test Size: \", len (test_df))"
      ]
    },
    {
      "cell_type": "markdown",
      "metadata": {
        "id": "W62dHO8gqibM"
      },
      "source": [
        "Since we performed the train/test randomly on the interactions, not all users and items may be present in the training set. We will relabel all of users and items to ensure the highest label is the number of users and items, respectively"
      ]
    },
    {
      "cell_type": "code",
      "execution_count": null,
      "metadata": {
        "id": "n6NpWquPqibM",
        "outputId": "2fa52ca8-5d18-4653-db8c-2240e97e5f26"
      },
      "outputs": [
        {
          "name": "stdout",
          "output_type": "stream",
          "text": [
            "number of training users: 943\n",
            "number of training items: 1549\n",
            "number of non-present users: 0\n",
            "number of non-present items: 25\n"
          ]
        }
      ],
      "source": [
        "train_user_ids = train_df['user_id'].unique()\n",
        "train_item_ids = train_df['item_id'].unique()\n",
        "\n",
        "print('number of training users:', len(train_user_ids))\n",
        "print('number of training items:', len(train_item_ids))\n",
        "\n",
        "test_user_ids = test_df['user_id'].unique()\n",
        "test_item_ids = test_df['item_id'].unique()\n",
        "\n",
        "num_nonpst_users = (~np.isin(test_user_ids, train_user_ids)).sum()\n",
        "num_nonpst_items = (~np.isin(test_item_ids, train_item_ids)).sum()\n",
        "\n",
        "print('number of non-present users:', num_nonpst_users)\n",
        "print('number of non-present items:', num_nonpst_items)"
      ]
    },
    {
      "cell_type": "code",
      "execution_count": null,
      "metadata": {
        "id": "mB7Gp_XhqibM"
      },
      "outputs": [],
      "source": [
        "# drop non-present item row\n",
        "test_df = test_df[(test_df['user_id'].isin(train_user_ids)) & \n",
        "                  (test_df['item_id'].isin(train_item_ids))]"
      ]
    },
    {
      "cell_type": "code",
      "execution_count": null,
      "metadata": {
        "id": "uqNIrp-kqibN"
      },
      "outputs": [],
      "source": [
        "le_user = LabelEncoder()\n",
        "le_item = LabelEncoder()\n",
        "train_df['new_user_id'] = le_user.fit_transform(train_df['user_id'].values)\n",
        "train_df['new_item_id'] = le_item.fit_transform(train_df['item_id'].values)"
      ]
    },
    {
      "cell_type": "code",
      "execution_count": null,
      "metadata": {
        "id": "JOGF50PzqibN"
      },
      "outputs": [],
      "source": [
        "test_df['new_user_id'] = le_user.transform(test_df['user_id'].values)\n",
        "test_df['new_item_id'] = le_item.transform(test_df['item_id'].values)"
      ]
    },
    {
      "cell_type": "code",
      "execution_count": null,
      "metadata": {
        "id": "MjFzE-WkqibN",
        "outputId": "630eb8b8-7f60-45b1-a51b-e5db3c7d4e2a"
      },
      "outputs": [
        {
          "name": "stdout",
          "output_type": "stream",
          "text": [
            "Number of Unique Users :  943\n",
            "Number of unique Items :  1549\n"
          ]
        }
      ],
      "source": [
        "n_users = train_df['new_user_id'].nunique()\n",
        "n_items = train_df['new_item_id'].nunique()\n",
        "print(\"Number of Unique Users : \", n_users)\n",
        "print(\"Number of unique Items : \", n_items)"
      ]
    },
    {
      "cell_type": "markdown",
      "metadata": {
        "id": "X4ykjbhyqibN"
      },
      "source": [
        "## Input Data\n",
        "    node features\n",
        "    edge index\n",
        "\n",
        "###  edge index\n",
        "PyG represents graphs as sparse lists of node pairs. Since our graph is undirected, we need to include each edge twice, once for the edges from the users to the items and vice-versa.\n",
        "\n",
        "Similar to above, we add n_users to the item tensor to ensure that every node in the graph has a unique identifier."
      ]
    },
    {
      "cell_type": "code",
      "execution_count": null,
      "metadata": {
        "id": "fzPB5xLEqibN",
        "outputId": "62b18f3e-6bad-4f10-8889-d68465ff65b5"
      },
      "outputs": [
        {
          "data": {
            "text/html": [
              "<div>\n",
              "<style scoped>\n",
              "    .dataframe tbody tr th:only-of-type {\n",
              "        vertical-align: middle;\n",
              "    }\n",
              "\n",
              "    .dataframe tbody tr th {\n",
              "        vertical-align: top;\n",
              "    }\n",
              "\n",
              "    .dataframe thead th {\n",
              "        text-align: right;\n",
              "    }\n",
              "</style>\n",
              "<table border=\"1\" class=\"dataframe\">\n",
              "  <thead>\n",
              "    <tr style=\"text-align: right;\">\n",
              "      <th></th>\n",
              "      <th>user_id</th>\n",
              "      <th>item_id</th>\n",
              "      <th>rating</th>\n",
              "      <th>timestamp</th>\n",
              "      <th>new_user_id</th>\n",
              "      <th>new_item_id</th>\n",
              "    </tr>\n",
              "  </thead>\n",
              "  <tbody>\n",
              "    <tr>\n",
              "      <th>35433</th>\n",
              "      <td>339</td>\n",
              "      <td>427</td>\n",
              "      <td>5</td>\n",
              "      <td>891034778</td>\n",
              "      <td>338</td>\n",
              "      <td>425</td>\n",
              "    </tr>\n",
              "    <tr>\n",
              "      <th>28540</th>\n",
              "      <td>327</td>\n",
              "      <td>172</td>\n",
              "      <td>4</td>\n",
              "      <td>887743986</td>\n",
              "      <td>326</td>\n",
              "      <td>171</td>\n",
              "    </tr>\n",
              "    <tr>\n",
              "      <th>30232</th>\n",
              "      <td>429</td>\n",
              "      <td>81</td>\n",
              "      <td>3</td>\n",
              "      <td>882385243</td>\n",
              "      <td>428</td>\n",
              "      <td>80</td>\n",
              "    </tr>\n",
              "    <tr>\n",
              "      <th>40468</th>\n",
              "      <td>593</td>\n",
              "      <td>692</td>\n",
              "      <td>3</td>\n",
              "      <td>886193724</td>\n",
              "      <td>592</td>\n",
              "      <td>684</td>\n",
              "    </tr>\n",
              "    <tr>\n",
              "      <th>12008</th>\n",
              "      <td>44</td>\n",
              "      <td>717</td>\n",
              "      <td>3</td>\n",
              "      <td>878346470</td>\n",
              "      <td>43</td>\n",
              "      <td>708</td>\n",
              "    </tr>\n",
              "    <tr>\n",
              "      <th>...</th>\n",
              "      <td>...</td>\n",
              "      <td>...</td>\n",
              "      <td>...</td>\n",
              "      <td>...</td>\n",
              "      <td>...</td>\n",
              "      <td>...</td>\n",
              "    </tr>\n",
              "    <tr>\n",
              "      <th>69204</th>\n",
              "      <td>918</td>\n",
              "      <td>275</td>\n",
              "      <td>4</td>\n",
              "      <td>891987176</td>\n",
              "      <td>917</td>\n",
              "      <td>274</td>\n",
              "    </tr>\n",
              "    <tr>\n",
              "      <th>87088</th>\n",
              "      <td>920</td>\n",
              "      <td>333</td>\n",
              "      <td>4</td>\n",
              "      <td>884219993</td>\n",
              "      <td>919</td>\n",
              "      <td>331</td>\n",
              "    </tr>\n",
              "    <tr>\n",
              "      <th>56622</th>\n",
              "      <td>793</td>\n",
              "      <td>458</td>\n",
              "      <td>3</td>\n",
              "      <td>875104243</td>\n",
              "      <td>792</td>\n",
              "      <td>452</td>\n",
              "    </tr>\n",
              "    <tr>\n",
              "      <th>20176</th>\n",
              "      <td>215</td>\n",
              "      <td>23</td>\n",
              "      <td>3</td>\n",
              "      <td>891436048</td>\n",
              "      <td>214</td>\n",
              "      <td>22</td>\n",
              "    </tr>\n",
              "    <tr>\n",
              "      <th>1524</th>\n",
              "      <td>147</td>\n",
              "      <td>904</td>\n",
              "      <td>5</td>\n",
              "      <td>885594015</td>\n",
              "      <td>146</td>\n",
              "      <td>889</td>\n",
              "    </tr>\n",
              "  </tbody>\n",
              "</table>\n",
              "<p>66016 rows × 6 columns</p>\n",
              "</div>"
            ],
            "text/plain": [
              "       user_id  item_id  rating  timestamp  new_user_id  new_item_id\n",
              "35433      339      427       5  891034778          338          425\n",
              "28540      327      172       4  887743986          326          171\n",
              "30232      429       81       3  882385243          428           80\n",
              "40468      593      692       3  886193724          592          684\n",
              "12008       44      717       3  878346470           43          708\n",
              "...        ...      ...     ...        ...          ...          ...\n",
              "69204      918      275       4  891987176          917          274\n",
              "87088      920      333       4  884219993          919          331\n",
              "56622      793      458       3  875104243          792          452\n",
              "20176      215       23       3  891436048          214           22\n",
              "1524       147      904       5  885594015          146          889\n",
              "\n",
              "[66016 rows x 6 columns]"
            ]
          },
          "execution_count": 11,
          "metadata": {},
          "output_type": "execute_result"
        }
      ],
      "source": [
        "train_df"
      ]
    },
    {
      "cell_type": "markdown",
      "metadata": {
        "id": "0pNtExfoqibO"
      },
      "source": [
        "<img src=\"./image/image1.png\" width=\"60%\">"
      ]
    },
    {
      "cell_type": "code",
      "execution_count": null,
      "metadata": {
        "id": "UZItUJuDqibO",
        "outputId": "b7623ab3-5e6c-414d-cd4b-ba860db7e81a"
      },
      "outputs": [
        {
          "name": "stdout",
          "output_type": "stream",
          "text": [
            "tensor([[ 338,  326,  428,  ...,  792,  214,  146],\n",
            "        [1368, 1114, 1023,  ..., 1395,  965, 1832]])\n",
            "\n",
            "tensor([[ 338,  326,  428,  ..., 1395,  965, 1832],\n",
            "        [1368, 1114, 1023,  ...,  792,  214,  146]], device='cuda:0')\n"
          ]
        }
      ],
      "source": [
        "u_id = torch.LongTensor(train_df.new_user_id)\n",
        "i_id = torch.LongTensor(train_df.new_item_id) + n_users # Start from user_id\n",
        "\n",
        "\n",
        "train_edge_index = torch.stack([u_id, i_id])\n",
        "print(train_edge_index)\n",
        "print()\n",
        "\n",
        "# to undirected graph\n",
        "train_edge_index = torch.cat([train_edge_index,\n",
        "                              torch.stack([i_id, u_id])], dim=1).to(device)\n",
        "'''\n",
        "tensor([[user_id, user_id, ... ,item_id , item_id, ...],\n",
        "        [item_id, item_id, ... ,user_id , user_id, ...]])\n",
        "'''\n",
        "print(train_edge_index)"
      ]
    },
    {
      "cell_type": "markdown",
      "metadata": {
        "id": "3T0Aam4HqibO"
      },
      "source": [
        "Let's confirm that the first and last edges match the middle two edges, but with the order of nodes swapped."
      ]
    },
    {
      "cell_type": "code",
      "execution_count": null,
      "metadata": {
        "scrolled": true,
        "id": "JFXZ-UdBqibO",
        "outputId": "1a6a01bf-2f6d-404a-dd6d-7a4a6bebc237"
      },
      "outputs": [
        {
          "name": "stdout",
          "output_type": "stream",
          "text": [
            "tensor([1832,  146], device='cuda:0') tensor([ 338, 1368], device='cuda:0')\n",
            "tensor([ 146, 1832], device='cuda:0') tensor([1368,  338], device='cuda:0')\n"
          ]
        }
      ],
      "source": [
        "print(train_edge_index[:,-1], train_edge_index[:, 0])\n",
        "print(train_edge_index[:, len(train_df)-1], train_edge_index[:, len(train_df)])"
      ]
    },
    {
      "cell_type": "markdown",
      "metadata": {
        "id": "UK_Kxme_qibP"
      },
      "source": [
        "<img src=\"./image/image8.png\" width=\"40%\">\n",
        "<img src=\"./image/image5.png\" width=\"80%\">"
      ]
    },
    {
      "cell_type": "markdown",
      "metadata": {
        "id": "RtIc_SLsqibP"
      },
      "source": [
        "## 2. Model Architecture\n",
        "1. LightGCN, SIGIR 2020. Xiangnan He, Kuan Deng ,Xiang Wang, Yan Li, Yongdong Zhang, Meng Wang (2020). LightGCN: Simplifying and Powering Graph Convolution Network for Recommendation\n",
        "2. NRGNN, Xiang Wang, Xiangnan He, Meng Wang, Fuli Feng, Tat-Seng Chua (2019). Neural Graph Collaborative Filtering"
      ]
    },
    {
      "cell_type": "markdown",
      "metadata": {
        "id": "n-IHaeVUqibP"
      },
      "source": [
        "## 2-1 LightGCN\n",
        "\n",
        "### LightGCN Convolutional Layer\n",
        "\n",
        "The LightGCN architecture is governed by the following rules:\n",
        "\n",
        "$$e_{u}^{(k+1)} = \\sum\\limits_{i \\in N_u} \\frac{1}{\\sqrt{|N_u|}\\sqrt{|N_i|}}e^{(k)}_i$$\n",
        "\n",
        "$$e_{i}^{(k+1)} = \\sum\\limits_{u \\in N_i} \\frac{1}{\\sqrt{|N_i|}\\sqrt{|N_u|}}e^{(k)}_u$$\n",
        "In essence, the embedding for each node after a single LightGCN layer is the sum of the synthetic normalized embeddings of it's neighbors before the layer."
      ]
    },
    {
      "cell_type": "code",
      "execution_count": null,
      "metadata": {
        "id": "4-nzcue0qibP"
      },
      "outputs": [],
      "source": [
        "class LightGCNConv(MessagePassing):\n",
        "    def __init__(self, **kwargs):  \n",
        "        super().__init__(aggr='add')\n",
        "\n",
        "    def forward(self, x, edge_index):\n",
        "        # Compute normalization\n",
        "        from_, to_ = edge_index\n",
        "        \n",
        "        # 1. calculate degree of all nodes \n",
        "        deg = degree(to_, x.size(0), dtype=x.dtype)\n",
        "        \n",
        "        # 2. square root of node's degree\n",
        "        deg_inv_sqrt = deg.pow(-0.5)\n",
        "        deg_inv_sqrt[deg_inv_sqrt == float('inf')] = 0\n",
        "        \n",
        "        # 3. calculate the coefficient of normalization\n",
        "        norm = deg_inv_sqrt[from_] * deg_inv_sqrt[to_]\n",
        "\n",
        "        # Start propagating messages (no update after aggregation)\n",
        "        return self.propagate(edge_index, x=x, norm=norm)\n",
        "\n",
        "    def message(self, x_j, norm):\n",
        "        e_i = x_j\n",
        "        return norm.view(-1, 1) * e_i"
      ]
    },
    {
      "cell_type": "markdown",
      "metadata": {
        "id": "4LMEi15DqibP"
      },
      "source": [
        "Let's test out our implementation of the LightGCN convolution by applying it to a small bipartite graph.\n",
        "\n",
        "This sample graph is undirected, and node 0 is connected to nodes 2 and 3 while node 1 is connected to 3 and 4.\n",
        "<img src=\"./image/image2.png\" width=\"15%\">"
      ]
    },
    {
      "cell_type": "code",
      "execution_count": null,
      "metadata": {
        "scrolled": true,
        "id": "B5E9p8GmqibP",
        "outputId": "b70481f1-78a9-426d-b6e2-2e8201b82b70"
      },
      "outputs": [
        {
          "name": "stdout",
          "output_type": "stream",
          "text": [
            "x->\n",
            " tensor([[1., 0., 0., 0., 0.],\n",
            "        [0., 1., 0., 0., 0.],\n",
            "        [0., 0., 1., 0., 0.],\n",
            "        [0., 0., 0., 1., 0.],\n",
            "        [0., 0., 0., 0., 1.]]) \n",
            "\n",
            "edge_index->\n",
            " tensor([[0, 0, 1, 1, 2, 3, 3, 4],\n",
            "        [2, 3, 3, 4, 0, 0, 1, 1]]) \n",
            "\n",
            "degree->\n",
            " tensor([2., 2., 1., 2., 1.]) \n",
            "\n",
            "after aggregation->\n",
            " tensor([[0.0000, 0.0000, 0.7071, 0.5000, 0.0000],\n",
            "        [0.0000, 0.0000, 0.0000, 0.5000, 0.7071],\n",
            "        [0.7071, 0.0000, 0.0000, 0.0000, 0.0000],\n",
            "        [0.5000, 0.5000, 0.0000, 0.0000, 0.0000],\n",
            "        [0.0000, 0.7071, 0.0000, 0.0000, 0.0000]])\n"
          ]
        }
      ],
      "source": [
        "# LightGCNConv Example\n",
        "test_x = torch.Tensor(np.eye(5))\n",
        "test_edge_index = torch.LongTensor(np.array([\n",
        "  [0, 0, 1, 1, 2, 3, 3, 4],\n",
        "  [2, 3, 3, 4, 0, 0, 1, 1]\n",
        "]))\n",
        "\n",
        "print('x->\\n', test_x, '\\n')\n",
        "print('edge_index->\\n', test_edge_index, '\\n')\n",
        "\n",
        "print('degree->\\n', degree(test_edge_index[1]), '\\n')\n",
        "\n",
        "\n",
        "print('after aggregation->\\n', LightGCNConv()(test_x, test_edge_index))"
      ]
    },
    {
      "cell_type": "markdown",
      "metadata": {
        "id": "TeYdlGFPqibQ"
      },
      "source": [
        "<img src=\"./image/image3.png\" width=\"50%\">\n",
        "<img src=\"./image/image2.png\" width=\"15%\">"
      ]
    },
    {
      "cell_type": "markdown",
      "metadata": {
        "id": "VcYQpGmmqibQ"
      },
      "source": [
        "## 2-2 NGCF\n",
        "\n",
        "### NGCF Layer\n",
        "\n",
        "NGCF is an older architecture than LightGCN that originated by researchers who applied [Graph Convolutional Networks (GCNs)]() to recommender systems. LightGCN functions the same as NGCF, but removes the learnable linear layers, non-linear activation, and dropout.\n",
        "\n",
        "One layer of NGCF updates user and item embeddings as follows:\n",
        "\n",
        "$$e_{u}^{(k+1)} = \\sigma\\left(W_1 e_u^{(k)} + \\sum\\limits_{i \\in N_u} \\frac{1}{\\sqrt{|N_u|}\\sqrt{|N_i|}}(W_1e^{(k)}_i + W_2(e^{(k)}_i \\odot e^{(k)}_u))\\right)$$\n",
        "\n",
        "$$e_{i}^{(k+1)} = \\sigma\\left(W_1 e_i^{(k)} + \\sum\\limits_{u \\in N_i} \\frac{1}{\\sqrt{|N_i|}\\sqrt{|N_u|}}(W_1e^{(k)}_u + W_2(e^{(k)}_u \\odot e^{(k)}_i))\\right)$$\n",
        "\n",
        "Typically, NGCF is implemented with dropout before the activation and with an activation function $\\sigma$ of LeakyReLU."
      ]
    },
    {
      "cell_type": "code",
      "execution_count": null,
      "metadata": {
        "id": "AciAlmjUqibQ"
      },
      "outputs": [],
      "source": [
        "class NGCFConv(MessagePassing):\n",
        "    def __init__(self, latent_dim, dropout, bias=True, **kwargs):  \n",
        "        super(NGCFConv, self).__init__(aggr='add', **kwargs)\n",
        "\n",
        "        self.dropout = dropout\n",
        "\n",
        "        self.W1 = nn.Linear(latent_dim, latent_dim, bias=bias)\n",
        "        self.W2 = nn.Linear(latent_dim, latent_dim, bias=bias)\n",
        "\n",
        "        self.init_parameters()\n",
        "\n",
        "\n",
        "    def init_parameters(self):\n",
        "        nn.init.xavier_uniform_(self.W1.weight)\n",
        "        nn.init.xavier_uniform_(self.W2.weight)\n",
        "\n",
        "    def forward(self, x, edge_index):\n",
        "        \n",
        "        # 1. calculate self transformation\n",
        "        x_i = self.W1(x)\n",
        "        \n",
        "        # 2. Compute normalization\n",
        "        from_, to_ = edge_index\n",
        "        # 2-1 calculate degree of all nodes \n",
        "        deg = degree(to_, x.size(0), dtype=x.dtype)\n",
        "        \n",
        "        # 2-2 square root of node's degree\n",
        "        deg_inv_sqrt = deg.pow(-0.5)\n",
        "        deg_inv_sqrt[deg_inv_sqrt == float('inf')] = 0\n",
        "        \n",
        "        # 2-3 calculate the coefficient of normalization\n",
        "        norm = deg_inv_sqrt[from_] * deg_inv_sqrt[to_]\n",
        "\n",
        "        # 2-4 start propagating messages\n",
        "        x_j = self.propagate(edge_index, x=(x, x), norm=norm)\n",
        "\n",
        "        # 3. Perform update after aggregation\n",
        "        out = x_i + x_j\n",
        "        out = F.dropout(out, self.dropout, self.training)\n",
        "        out = F.leaky_relu(out)\n",
        "        \n",
        "        return out\n",
        "\n",
        "\n",
        "    def message(self, x_j, x_i, norm):\n",
        "        return norm.view(-1, 1) * (self.W1(x_j) + self.W2(x_j * x_i))"
      ]
    },
    {
      "cell_type": "code",
      "execution_count": null,
      "metadata": {
        "id": "JPtz5GQ8qibQ",
        "outputId": "1ef8b37c-c1df-4342-a7e6-2d07bf0da7b5"
      },
      "outputs": [
        {
          "name": "stdout",
          "output_type": "stream",
          "text": [
            "x->\n",
            " tensor([[1., 0., 0., 0., 0.],\n",
            "        [0., 1., 0., 0., 0.],\n",
            "        [0., 0., 1., 0., 0.],\n",
            "        [0., 0., 0., 1., 0.],\n",
            "        [0., 0., 0., 0., 1.]]) \n",
            "\n",
            "edge_index->\n",
            " tensor([[0, 0, 1, 1, 2, 3, 3, 4],\n",
            "        [2, 3, 3, 4, 0, 0, 1, 1]]) \n",
            "\n",
            "tensor([[ 3.4931e-01,  2.0515e-01, -1.8127e-04, -9.1649e-03,  2.0789e+00],\n",
            "        [-3.1156e-03,  6.8046e-01, -6.2430e-04, -3.4357e-03,  1.5011e+00],\n",
            "        [ 1.7607e-01,  6.3813e-03,  4.7521e-01, -9.0297e-03,  1.6552e+00],\n",
            "        [-1.3922e-03,  2.7670e-01, -6.2209e-03, -4.2776e-03,  1.5885e+00],\n",
            "        [ 2.5324e-02,  9.1321e-01,  5.2798e-01, -1.3485e-03,  1.1919e+00]],\n",
            "       grad_fn=<LeakyReluBackward0>)\n"
          ]
        }
      ],
      "source": [
        "# NGCFConv Example\n",
        "test_x = torch.Tensor(np.eye(5))\n",
        "test_edge_index = torch.LongTensor(np.array([\n",
        "  [0, 0, 1, 1, 2, 3, 3, 4],\n",
        "  [2, 3, 3, 4, 0, 0, 1, 1]\n",
        "]))\n",
        "\n",
        "print('x->\\n', test_x, '\\n')\n",
        "print('edge_index->\\n', test_edge_index, '\\n')\n",
        "\n",
        "print(NGCFConv(latent_dim=test_x.shape[0], dropout=0)(test_x, test_edge_index))"
      ]
    },
    {
      "cell_type": "markdown",
      "metadata": {
        "id": "foY1bFPqqibR"
      },
      "source": [
        "### 2-3 Recommender System GNN\n",
        "\n",
        "We will use the following class, `RecSysGNN` in order to stack the NGCF or LightGCN convolutional layers. Some considerations that can be made for tweaking the models are the number of layers of your model and dropout. The more number of layers you add to the model, the more your model will \"diffuse\" information of recommendations made from nodes that are `n`-hops away in a model that uses `n` layers. Dropout can be tweaked to try out different regularization schemes.\n",
        "\n",
        "Notice that our forward function works differently from most neural networks by forward propagating embeddings for all nodes in the graph. This is because the embeddings for a given node depend on the embeddings of it's `n`-hop neighborhood, so they need to be propagated as well."
      ]
    },
    {
      "cell_type": "code",
      "execution_count": null,
      "metadata": {
        "id": "neo082YnqibR"
      },
      "outputs": [],
      "source": [
        "class RecSysGNN(nn.Module):\n",
        "    def __init__(self, latent_dim, num_layers, num_users, num_items, \n",
        "                 model, # 'NGCF' or 'LightGCN'\n",
        "                 dropout=0.1 # Only used in NGCF\n",
        "    ):\n",
        "        super(RecSysGNN, self).__init__()\n",
        "\n",
        "        self.model = model\n",
        "        self.embedding = nn.Embedding(num_users + num_items, latent_dim) # node features\n",
        "\n",
        "        if self.model == 'NGCF':\n",
        "            self.convs = nn.ModuleList(\n",
        "                NGCFConv(latent_dim, dropout=dropout) for _ in range(num_layers))\n",
        "        else:\n",
        "            self.convs = nn.ModuleList(LightGCNConv() for _ in range(num_layers))\n",
        "\n",
        "        self.init_parameters()\n",
        "\n",
        "    def init_parameters(self):\n",
        "        if self.model == 'NGCF':\n",
        "            nn.init.xavier_uniform_(self.embedding.weight, gain=1)\n",
        "        else:\n",
        "            # Authors of LightGCN report higher results with normal initialization\n",
        "            nn.init.normal_(self.embedding.weight, std=0.1) \n",
        "\n",
        "    def forward(self, edge_index):\n",
        "        emb_0 = self.embedding.weight\n",
        "        embeddings = [emb_0] # Collect outputs from every layers\n",
        "        \n",
        "        # Neighborhood aggregation\n",
        "        emb = emb_0\n",
        "        for conv in self.convs:\n",
        "            emb = conv(x=emb, edge_index=edge_index)\n",
        "            embeddings.append(emb)\n",
        "        \n",
        "        # Layer Combination\n",
        "        if self.model == 'NGCF':\n",
        "            out = torch.cat(embeddings, dim=-1)\n",
        "        else: # LightGCN\n",
        "            out = torch.mean(torch.stack(embeddings, dim=0), dim=0)\n",
        "\n",
        "        return emb_0, out\n",
        "\n",
        "\n",
        "    def minibatch(self, users, pos_items, neg_items, edge_index):\n",
        "        emb0, out = self(edge_index) # node features, node embeddings\n",
        "        return (\n",
        "            out[users], \n",
        "            out[pos_items], \n",
        "            out[neg_items], \n",
        "            emb0[users],\n",
        "            emb0[pos_items],\n",
        "            emb0[neg_items]\n",
        "        )"
      ]
    },
    {
      "cell_type": "markdown",
      "metadata": {
        "id": "spdVlqjGqibR"
      },
      "source": [
        "## 3. Loss function and metrics\n",
        "\n",
        "### 3-1 Bayesian Personalized Ranking loss\n",
        "We implement both the Bayesian Personalized Ranking loss function for a single minibatch of users, positive items, and negative items, as well as the precision@K and recall@K metrics.\n",
        "<img src=\"./image/image4.png\" width=\"40%\">\n",
        "<img src=\"./image/image7.png\" width=\"80%\">"
      ]
    },
    {
      "cell_type": "code",
      "execution_count": null,
      "metadata": {
        "id": "pFejyANsqibS"
      },
      "outputs": [],
      "source": [
        "def compute_bpr_loss(users, users_emb, pos_emb, neg_emb, user_emb0, pos_emb0, neg_emb0):\n",
        "    \n",
        "\n",
        "    # compute BPR loss from user, positive item, and negative item embeddings\n",
        "    pos_scores = torch.mul(users_emb, pos_emb).sum(dim=1)\n",
        "    neg_scores = torch.mul(users_emb, neg_emb).sum(dim=1)\n",
        "\n",
        "    bpr_loss = torch.mean(F.softplus(neg_scores - pos_scores))\n",
        "    \n",
        "    # compute loss from initial embeddings, used for regulization\n",
        "    reg_loss = (1/2) * (user_emb0.norm().pow(2)+ \n",
        "                        pos_emb0.norm().pow(2)+\n",
        "                        neg_emb0.norm().pow(2)) / float(len(users))\n",
        "\n",
        "    return bpr_loss, reg_loss"
      ]
    },
    {
      "cell_type": "markdown",
      "metadata": {
        "id": "5Bzxt_6IqibS"
      },
      "source": [
        "### 3-2 Metric - Precision, Recall\n",
        "<img src=\"./image/image6.png\" width=\"60%\">"
      ]
    },
    {
      "cell_type": "code",
      "execution_count": null,
      "metadata": {
        "id": "EzyW8xcDqibS"
      },
      "outputs": [],
      "source": [
        "def get_metrics(user_Embed_wts, item_Embed_wts, n_users, n_items, train_data, test_data, K):\n",
        "    test_user_ids = torch.LongTensor(test_data['new_user_id'].unique())\n",
        "    # compute the score of all user-item pairs\n",
        "    relevance_score = torch.matmul(user_Embed_wts, torch.transpose(item_Embed_wts,0, 1))\n",
        "\n",
        "    # create dense tensor of all user-item interactions\n",
        "    i = torch.stack((\n",
        "        torch.LongTensor(train_df['new_user_id'].values),\n",
        "        torch.LongTensor(train_df['new_item_id'].values)\n",
        "    ))\n",
        "    v = torch.ones((len(train_df)), dtype=torch.float64)\n",
        "    interactions_t = torch.sparse.FloatTensor(i, v, (n_users, n_items))\\\n",
        "      .to_dense().to(device)\n",
        "\n",
        "    # mask out training user-item interactions from metric computation\n",
        "    relevance_score = torch.mul(relevance_score, (1 - interactions_t))\n",
        "\n",
        "    # compute top scoring items for each user\n",
        "    topk_relevance_indices = torch.topk(relevance_score, K).indices\n",
        "    topk_relevance_indices_df = pd.DataFrame(topk_relevance_indices.cpu().numpy(),columns =['top_indx_'+str(x+1) for x in range(K)])\n",
        "    topk_relevance_indices_df['user_ID'] = topk_relevance_indices_df.index\n",
        "    topk_relevance_indices_df['top_rlvnt_itm'] = topk_relevance_indices_df[['top_indx_'+str(x+1) for x in range(K)]].values.tolist()\n",
        "    topk_relevance_indices_df = topk_relevance_indices_df[['user_ID','top_rlvnt_itm']]\n",
        "\n",
        "    # measure overlap between recommended (top-scoring) and held-out user-item \n",
        "    # interactions\n",
        "    test_interacted_items = test_data.groupby('new_user_id')['new_item_id'].apply(list).reset_index()\n",
        "    metrics_df = pd.merge(test_interacted_items, topk_relevance_indices_df, \n",
        "                          how= 'left', left_on = 'new_user_id',right_on = ['user_ID'])\n",
        "    metrics_df['intrsctn_itm'] = [list(set(a).intersection(b)) for a, b in zip(metrics_df.new_item_id, metrics_df.top_rlvnt_itm)]\n",
        "\n",
        "    metrics_df['recall'] = metrics_df.apply(lambda x : len(x['intrsctn_itm'])/len(x['new_item_id']), axis = 1) \n",
        "    metrics_df['precision'] = metrics_df.apply(lambda x : len(x['intrsctn_itm'])/K, axis = 1)\n",
        "\n",
        "    return metrics_df['recall'].mean(), metrics_df['precision'].mean()"
      ]
    },
    {
      "cell_type": "markdown",
      "metadata": {
        "id": "h06FAZH3qibS"
      },
      "source": [
        "## 4. Train and evaluate models"
      ]
    },
    {
      "cell_type": "code",
      "execution_count": null,
      "metadata": {
        "id": "ZIsdx3tNqibT"
      },
      "outputs": [],
      "source": [
        "def train_and_eval(model, optimizer, train_df):\n",
        "    loss_list_epoch = []\n",
        "    recall_list = []\n",
        "    precision_list = []\n",
        "    \n",
        "    train_loader = MyDataLoader(train_df, n_users, n_items, \n",
        "                                batch_size=BATCH_SIZE, shuffle=True, num_workers=12)\n",
        "    \n",
        "    for epoch in tqdm(range(EPOCHS)):\n",
        "        \n",
        "        loss_list = []\n",
        "        \n",
        "        model.train()\n",
        "        for batch in train_loader:\n",
        "            optimizer.zero_grad()\n",
        "            users, pos_items, neg_items = [b.to(device) for b in batch]\n",
        "            users_emb, pos_emb, neg_emb, userEmb0, posEmb0, negEmb0 = model.minibatch(users, pos_items, neg_items, train_edge_index)\n",
        "\n",
        "            bpr_loss, reg_loss = compute_bpr_loss(users, users_emb, \n",
        "                                                  pos_emb, neg_emb, userEmb0,  posEmb0, negEmb0)\n",
        "            loss = bpr_loss + DECAY * reg_loss\n",
        "\n",
        "            loss.backward()\n",
        "            optimizer.step()\n",
        "\n",
        "            loss_list.append(loss.item())\n",
        "\n",
        "        model.eval()\n",
        "        with torch.no_grad():\n",
        "            _, out = model(train_edge_index)\n",
        "            final_user_Embed, final_item_Embed = torch.split(out, (n_users, n_items))\n",
        "            test_topK_recall,  test_topK_precision = get_metrics(final_user_Embed, final_item_Embed, \n",
        "                                                                 n_users, n_items, train_df, test_df, K)\n",
        "\n",
        "        loss_list_epoch.append(round(np.mean(loss_list),4))\n",
        "        recall_list.append(round(test_topK_recall,4))\n",
        "        precision_list.append(round(test_topK_precision,4))\n",
        "        \n",
        "        if (epoch+1) %5 == 0:\n",
        "            print('Epoch: {:02d}, Recall@k: {:.04f}, Precision@k: {:.04f}'.format(\n",
        "                epoch+1, test_topK_recall, test_topK_precision))\n",
        "    return (\n",
        "        loss_list_epoch,\n",
        "        recall_list, \n",
        "        precision_list\n",
        "    )"
      ]
    },
    {
      "cell_type": "markdown",
      "metadata": {
        "id": "gkcTs6XGqibT"
      },
      "source": [
        "### Minibatch Sampling"
      ]
    },
    {
      "cell_type": "code",
      "execution_count": null,
      "metadata": {
        "id": "xP1rboINqibT",
        "outputId": "978b071f-8e5b-4502-f642-da12126c3b50"
      },
      "outputs": [
        {
          "data": {
            "text/plain": [
              "(tensor([338, 326, 428, 592,  43, 573, 337,  55, 879, 839, 398, 275,  86, 593,\n",
              "         373, 605]),\n",
              " tensor([1368, 1114, 1023, 1627, 1651, 1187, 1425, 1349, 2203, 1442, 1070, 1697,\n",
              "         1800, 1123,  973, 1620]),\n",
              " tensor([1276, 2367, 2276, 2384, 2463, 2102, 2317, 2051, 1864, 1678, 1711, 2044,\n",
              "         2358, 2092, 1244, 2389]))"
            ]
          },
          "execution_count": 22,
          "metadata": {},
          "output_type": "execute_result"
        }
      ],
      "source": [
        "class MyDataLoader(DataLoader):\n",
        "    def __init__(self, data, n_user, n_item, **kwargs):\n",
        "        super().__init__(dataset=range(len(data)), collate_fn=self.collate_fn, **kwargs)\n",
        "        self.data = data.loc[:, ['new_user_id', 'new_item_id']]\n",
        "        self.interected_items_df = data.groupby('new_user_id')['new_item_id'].apply(list).reset_index()\n",
        "        self.n_user = n_user\n",
        "        self.n_item = n_item\n",
        "        \n",
        "    def collate_fn(self, batch):\n",
        "        # batch: [0,1,3,2] if batch_size = 4\n",
        "        \n",
        "        users = self.data.iloc[batch, 0].values\n",
        "        pos_items = self.data.iloc[batch, 1].values\n",
        "    \n",
        "        users_df = pd.DataFrame(users, columns = ['users'])\n",
        "        interected_items_df = pd.merge(self.interected_items_df, users_df, \n",
        "                                       how = 'right', left_on = 'new_user_id', right_on = 'users')\n",
        "        \n",
        "        neg_items = interected_items_df['new_item_id'].apply(lambda x: self.sample_neg(x)).values\n",
        "        \n",
        "        return (\n",
        "            torch.LongTensor(list(users)), # user ids\n",
        "            torch.LongTensor(list(pos_items)) + self.n_user, # positive item ids\n",
        "            torch.LongTensor(list(neg_items)) + self.n_user # negative item ids\n",
        "        )\n",
        "        \n",
        "    def sample_neg(self, x):\n",
        "        while True:\n",
        "            neg_id = random.randint(0, self.n_item - 1)\n",
        "            if neg_id not in x:\n",
        "                return neg_id        \n",
        "            \n",
        "loader = MyDataLoader(train_df, n_users, n_items, batch_size=16, shuffle=False, num_workers=4)\n",
        "next(iter(loader))"
      ]
    },
    {
      "cell_type": "code",
      "execution_count": null,
      "metadata": {
        "id": "sMvznbpaqibT",
        "outputId": "a6dedc7b-8b03-4c9f-effd-e81624741b40"
      },
      "outputs": [
        {
          "data": {
            "text/html": [
              "<div>\n",
              "<style scoped>\n",
              "    .dataframe tbody tr th:only-of-type {\n",
              "        vertical-align: middle;\n",
              "    }\n",
              "\n",
              "    .dataframe tbody tr th {\n",
              "        vertical-align: top;\n",
              "    }\n",
              "\n",
              "    .dataframe thead th {\n",
              "        text-align: right;\n",
              "    }\n",
              "</style>\n",
              "<table border=\"1\" class=\"dataframe\">\n",
              "  <thead>\n",
              "    <tr style=\"text-align: right;\">\n",
              "      <th></th>\n",
              "      <th>new_user_id</th>\n",
              "      <th>new_item_id</th>\n",
              "    </tr>\n",
              "  </thead>\n",
              "  <tbody>\n",
              "    <tr>\n",
              "      <th>35433</th>\n",
              "      <td>338</td>\n",
              "      <td>425</td>\n",
              "    </tr>\n",
              "    <tr>\n",
              "      <th>28540</th>\n",
              "      <td>326</td>\n",
              "      <td>171</td>\n",
              "    </tr>\n",
              "    <tr>\n",
              "      <th>30232</th>\n",
              "      <td>428</td>\n",
              "      <td>80</td>\n",
              "    </tr>\n",
              "    <tr>\n",
              "      <th>40468</th>\n",
              "      <td>592</td>\n",
              "      <td>684</td>\n",
              "    </tr>\n",
              "    <tr>\n",
              "      <th>12008</th>\n",
              "      <td>43</td>\n",
              "      <td>708</td>\n",
              "    </tr>\n",
              "    <tr>\n",
              "      <th>...</th>\n",
              "      <td>...</td>\n",
              "      <td>...</td>\n",
              "    </tr>\n",
              "    <tr>\n",
              "      <th>69204</th>\n",
              "      <td>917</td>\n",
              "      <td>274</td>\n",
              "    </tr>\n",
              "    <tr>\n",
              "      <th>87088</th>\n",
              "      <td>919</td>\n",
              "      <td>331</td>\n",
              "    </tr>\n",
              "    <tr>\n",
              "      <th>56622</th>\n",
              "      <td>792</td>\n",
              "      <td>452</td>\n",
              "    </tr>\n",
              "    <tr>\n",
              "      <th>20176</th>\n",
              "      <td>214</td>\n",
              "      <td>22</td>\n",
              "    </tr>\n",
              "    <tr>\n",
              "      <th>1524</th>\n",
              "      <td>146</td>\n",
              "      <td>889</td>\n",
              "    </tr>\n",
              "  </tbody>\n",
              "</table>\n",
              "<p>66016 rows × 2 columns</p>\n",
              "</div>"
            ],
            "text/plain": [
              "       new_user_id  new_item_id\n",
              "35433          338          425\n",
              "28540          326          171\n",
              "30232          428           80\n",
              "40468          592          684\n",
              "12008           43          708\n",
              "...            ...          ...\n",
              "69204          917          274\n",
              "87088          919          331\n",
              "56622          792          452\n",
              "20176          214           22\n",
              "1524           146          889\n",
              "\n",
              "[66016 rows x 2 columns]"
            ]
          },
          "execution_count": 23,
          "metadata": {},
          "output_type": "execute_result"
        }
      ],
      "source": [
        "loader.data"
      ]
    },
    {
      "cell_type": "code",
      "execution_count": null,
      "metadata": {
        "id": "FZqu6-TcqibT",
        "outputId": "56e6f88f-e87b-4832-c0ee-07f22591c0b0"
      },
      "outputs": [
        {
          "data": {
            "text/html": [
              "<div>\n",
              "<style scoped>\n",
              "    .dataframe tbody tr th:only-of-type {\n",
              "        vertical-align: middle;\n",
              "    }\n",
              "\n",
              "    .dataframe tbody tr th {\n",
              "        vertical-align: top;\n",
              "    }\n",
              "\n",
              "    .dataframe thead th {\n",
              "        text-align: right;\n",
              "    }\n",
              "</style>\n",
              "<table border=\"1\" class=\"dataframe\">\n",
              "  <thead>\n",
              "    <tr style=\"text-align: right;\">\n",
              "      <th></th>\n",
              "      <th>new_user_id</th>\n",
              "      <th>new_item_id</th>\n",
              "    </tr>\n",
              "  </thead>\n",
              "  <tbody>\n",
              "    <tr>\n",
              "      <th>0</th>\n",
              "      <td>0</td>\n",
              "      <td>[12, 255, 14, 201, 217, 247, 107, 162, 135, 38...</td>\n",
              "    </tr>\n",
              "    <tr>\n",
              "      <th>1</th>\n",
              "      <td>1</td>\n",
              "      <td>[277, 276, 110, 282, 257, 298, 303, 295, 285, ...</td>\n",
              "    </tr>\n",
              "    <tr>\n",
              "      <th>2</th>\n",
              "      <td>2</td>\n",
              "      <td>[348, 340, 332, 337, 343, 347, 345, 342, 180, ...</td>\n",
              "    </tr>\n",
              "    <tr>\n",
              "      <th>3</th>\n",
              "      <td>3</td>\n",
              "      <td>[359, 322, 354, 10, 257, 263, 49, 259, 357, 32...</td>\n",
              "    </tr>\n",
              "    <tr>\n",
              "      <th>4</th>\n",
              "      <td>4</td>\n",
              "      <td>[377, 226, 401, 418, 182, 234, 385, 97, 61, 40...</td>\n",
              "    </tr>\n",
              "    <tr>\n",
              "      <th>...</th>\n",
              "      <td>...</td>\n",
              "      <td>...</td>\n",
              "    </tr>\n",
              "    <tr>\n",
              "      <th>938</th>\n",
              "      <td>938</td>\n",
              "      <td>[284, 105, 681, 324, 733, 279, 1260, 918, 977,...</td>\n",
              "    </tr>\n",
              "    <tr>\n",
              "      <th>939</th>\n",
              "      <td>939</td>\n",
              "      <td>[182, 150, 268, 203, 742, 622, 212, 199, 1121,...</td>\n",
              "    </tr>\n",
              "    <tr>\n",
              "      <th>940</th>\n",
              "      <td>940</td>\n",
              "      <td>[123, 257, 406, 116, 903, 272, 146, 180, 256, ...</td>\n",
              "    </tr>\n",
              "    <tr>\n",
              "      <th>941</th>\n",
              "      <td>941</td>\n",
              "      <td>[1012, 233, 312, 878, 425, 681, 78, 130, 214, ...</td>\n",
              "    </tr>\n",
              "    <tr>\n",
              "      <th>942</th>\n",
              "      <td>942</td>\n",
              "      <td>[1058, 187, 203, 30, 204, 120, 425, 540, 160, ...</td>\n",
              "    </tr>\n",
              "  </tbody>\n",
              "</table>\n",
              "<p>943 rows × 2 columns</p>\n",
              "</div>"
            ],
            "text/plain": [
              "     new_user_id                                        new_item_id\n",
              "0              0  [12, 255, 14, 201, 217, 247, 107, 162, 135, 38...\n",
              "1              1  [277, 276, 110, 282, 257, 298, 303, 295, 285, ...\n",
              "2              2  [348, 340, 332, 337, 343, 347, 345, 342, 180, ...\n",
              "3              3  [359, 322, 354, 10, 257, 263, 49, 259, 357, 32...\n",
              "4              4  [377, 226, 401, 418, 182, 234, 385, 97, 61, 40...\n",
              "..           ...                                                ...\n",
              "938          938  [284, 105, 681, 324, 733, 279, 1260, 918, 977,...\n",
              "939          939  [182, 150, 268, 203, 742, 622, 212, 199, 1121,...\n",
              "940          940  [123, 257, 406, 116, 903, 272, 146, 180, 256, ...\n",
              "941          941  [1012, 233, 312, 878, 425, 681, 78, 130, 214, ...\n",
              "942          942  [1058, 187, 203, 30, 204, 120, 425, 540, 160, ...\n",
              "\n",
              "[943 rows x 2 columns]"
            ]
          },
          "execution_count": 24,
          "metadata": {},
          "output_type": "execute_result"
        }
      ],
      "source": [
        "loader.interected_items_df"
      ]
    },
    {
      "cell_type": "code",
      "execution_count": null,
      "metadata": {
        "id": "Ek_sy8nqqibU"
      },
      "outputs": [],
      "source": [
        "# Hyper-parameters\n",
        "\n",
        "latent_dim = 64\n",
        "n_layers = 3 \n",
        "\n",
        "EPOCHS = 20\n",
        "BATCH_SIZE = 1024\n",
        "DECAY = 0.0001\n",
        "LR = 0.005\n",
        "K = 20"
      ]
    },
    {
      "cell_type": "markdown",
      "metadata": {
        "id": "xbpyIKxWqibU"
      },
      "source": [
        "### Train and evaluate LightGCN"
      ]
    },
    {
      "cell_type": "code",
      "execution_count": null,
      "metadata": {
        "id": "AxPpWfZQqibU",
        "outputId": "e1bde657-ed38-467b-e167-0403c673fe4c"
      },
      "outputs": [
        {
          "name": "stdout",
          "output_type": "stream",
          "text": [
            "Size of Learnable Embedding :  [torch.Size([2492, 64])]\n"
          ]
        }
      ],
      "source": [
        "lightgcn = RecSysGNN(latent_dim=latent_dim, \n",
        "                     num_layers=n_layers, \n",
        "                     num_users=n_users,\n",
        "                     num_items=n_items,\n",
        "                     model='LightGCN').to(device)\n",
        "\n",
        "optimizer = torch.optim.Adam(lightgcn.parameters(), lr=LR)\n",
        "print(\"Size of Learnable Embedding : \", [x.shape for x in list(lightgcn.parameters())])"
      ]
    },
    {
      "cell_type": "code",
      "execution_count": null,
      "metadata": {
        "scrolled": false,
        "id": "meDm1EOfqibU",
        "outputId": "2ee0eb23-6844-4bfe-b2d8-c378e9a93e89"
      },
      "outputs": [
        {
          "data": {
            "application/vnd.jupyter.widget-view+json": {
              "model_id": "8965fac7498247ed8cd98498b5a8a715",
              "version_major": 2,
              "version_minor": 0
            },
            "text/plain": [
              "HBox(children=(HTML(value=''), FloatProgress(value=0.0, max=20.0), HTML(value='')))"
            ]
          },
          "metadata": {},
          "output_type": "display_data"
        },
        {
          "name": "stdout",
          "output_type": "stream",
          "text": [
            "Epoch: 05, Recall@k: 0.2723, Precision@k: 0.1840\n",
            "Epoch: 10, Recall@k: 0.3009, Precision@k: 0.2037\n",
            "Epoch: 15, Recall@k: 0.3203, Precision@k: 0.2155\n",
            "Epoch: 20, Recall@k: 0.3260, Precision@k: 0.2227\n",
            "\n"
          ]
        }
      ],
      "source": [
        "light_loss, light_recall, light_precision = train_and_eval(lightgcn, optimizer, train_df)"
      ]
    },
    {
      "cell_type": "code",
      "execution_count": null,
      "metadata": {
        "id": "sU03aA7mqibU",
        "outputId": "c6f3dfd3-3276-46d6-c5d3-bcd66ac61d70"
      },
      "outputs": [
        {
          "data": {
            "text/plain": [
              "<matplotlib.legend.Legend at 0x7f54c20a15f8>"
            ]
          },
          "execution_count": 28,
          "metadata": {},
          "output_type": "execute_result"
        },
        {
          "data": {
            "image/png": "[encoded data removed]",
            "text/plain": [
              "<Figure size 432x288 with 1 Axes>"
            ]
          },
          "metadata": {
            "needs_background": "light"
          },
          "output_type": "display_data"
        }
      ],
      "source": [
        "epoch_list = [(i+1) for i in range(EPOCHS)]\n",
        "plt.plot(epoch_list, light_loss, label='Total Training Loss', alpha=1)\n",
        "\n",
        "plt.xlabel('Epoch')\n",
        "plt.ylabel('Loss')\n",
        "plt.legend()"
      ]
    },
    {
      "cell_type": "code",
      "execution_count": null,
      "metadata": {
        "id": "Is4JKCdOqibV",
        "outputId": "6b9cee82-4eeb-4cf4-a8cc-be00e9a8ac10"
      },
      "outputs": [
        {
          "data": {
            "text/plain": [
              "<matplotlib.legend.Legend at 0x7f54c2024208>"
            ]
          },
          "execution_count": 29,
          "metadata": {},
          "output_type": "execute_result"
        },
        {
          "data": {
            "image/png": "[encoded data removed]",
            "text/plain": [
              "<Figure size 432x288 with 1 Axes>"
            ]
          },
          "metadata": {
            "needs_background": "light"
          },
          "output_type": "display_data"
        }
      ],
      "source": [
        "plt.plot(epoch_list, light_recall, label='Recall')\n",
        "plt.plot(epoch_list, light_precision, label='Precision')\n",
        "plt.xlabel('Epoch')\n",
        "plt.ylabel('Metrics')\n",
        "plt.legend()"
      ]
    },
    {
      "cell_type": "markdown",
      "metadata": {
        "id": "Hyw5SVP4qibV"
      },
      "source": [
        "### Train and eval NGCF"
      ]
    },
    {
      "cell_type": "code",
      "execution_count": null,
      "metadata": {
        "id": "6bSX_nIUqibV",
        "outputId": "55e9f970-b296-44d5-a4b1-f847c0001906"
      },
      "outputs": [
        {
          "name": "stdout",
          "output_type": "stream",
          "text": [
            "Size of Learnable Embedding :  [torch.Size([2492, 64]), torch.Size([64, 64]), torch.Size([64]), torch.Size([64, 64]), torch.Size([64]), torch.Size([64, 64]), torch.Size([64]), torch.Size([64, 64]), torch.Size([64]), torch.Size([64, 64]), torch.Size([64]), torch.Size([64, 64]), torch.Size([64])]\n"
          ]
        }
      ],
      "source": [
        "ngcf = RecSysGNN(latent_dim=latent_dim, \n",
        "                 num_layers=n_layers,\n",
        "                 num_users=n_users,\n",
        "                 num_items=n_items,\n",
        "                 model='NGCF').to(device)\n",
        "\n",
        "optimizer = torch.optim.Adam(ngcf.parameters(), lr=LR)\n",
        "print(\"Size of Learnable Embedding : \", [x.shape for x in list(ngcf.parameters())])"
      ]
    },
    {
      "cell_type": "code",
      "execution_count": null,
      "metadata": {
        "id": "BmQmIxAaqibV",
        "outputId": "1c7d702c-f9fe-434a-905a-f909a56af4b2"
      },
      "outputs": [
        {
          "data": {
            "application/vnd.jupyter.widget-view+json": {
              "model_id": "265cd29fe40f47e9b57c5ec8eed8ad85",
              "version_major": 2,
              "version_minor": 0
            },
            "text/plain": [
              "HBox(children=(HTML(value=''), FloatProgress(value=0.0, max=20.0), HTML(value='')))"
            ]
          },
          "metadata": {},
          "output_type": "display_data"
        },
        {
          "name": "stdout",
          "output_type": "stream",
          "text": [
            "Epoch: 05, Recall@k: 0.2870, Precision@k: 0.1946\n",
            "Epoch: 10, Recall@k: 0.2964, Precision@k: 0.1994\n",
            "Epoch: 15, Recall@k: 0.3111, Precision@k: 0.2046\n",
            "Epoch: 20, Recall@k: 0.3078, Precision@k: 0.2082\n",
            "\n"
          ]
        }
      ],
      "source": [
        "ngcf_loss, ngcf_recall, ngcf_precision = train_and_eval(ngcf, optimizer, train_df)"
      ]
    },
    {
      "cell_type": "code",
      "execution_count": null,
      "metadata": {
        "id": "ej9jF0nuqibW",
        "outputId": "f6a5d7fb-69dd-4c62-9bef-3b23696344cf"
      },
      "outputs": [
        {
          "data": {
            "text/plain": [
              "<matplotlib.legend.Legend at 0x7f54c1bf64a8>"
            ]
          },
          "execution_count": 32,
          "metadata": {},
          "output_type": "execute_result"
        },
        {
          "data": {
            "image/png": "[encoded data removed]",
            "text/plain": [
              "<Figure size 432x288 with 1 Axes>"
            ]
          },
          "metadata": {
            "needs_background": "light"
          },
          "output_type": "display_data"
        }
      ],
      "source": [
        "epoch_list = [(i+1) for i in range(EPOCHS)]\n",
        "plt.plot(epoch_list, ngcf_loss, label='Total Training Loss')\n",
        "\n",
        "plt.xlabel('Epoch')\n",
        "plt.ylabel('Loss')\n",
        "plt.legend()"
      ]
    },
    {
      "cell_type": "code",
      "execution_count": null,
      "metadata": {
        "id": "6sOqtCKdqibW",
        "outputId": "c6f20177-3326-4250-b3ef-daa68ede7355"
      },
      "outputs": [
        {
          "data": {
            "text/plain": [
              "<matplotlib.legend.Legend at 0x7f54c13bc9e8>"
            ]
          },
          "execution_count": 33,
          "metadata": {},
          "output_type": "execute_result"
        },
        {
          "data": {
            "image/png": "[encoded data removed]",
            "text/plain": [
              "<Figure size 432x288 with 1 Axes>"
            ]
          },
          "metadata": {
            "needs_background": "light"
          },
          "output_type": "display_data"
        }
      ],
      "source": [
        "plt.plot(epoch_list, ngcf_recall, label='Recall')\n",
        "plt.plot(epoch_list, ngcf_precision, label='Precision')\n",
        "plt.xlabel('Epoch')\n",
        "plt.ylabel('Metrics')\n",
        "plt.legend()"
      ]
    },
    {
      "cell_type": "markdown",
      "metadata": {
        "id": "96ecYpU8qibW"
      },
      "source": [
        "### Compare model performance"
      ]
    },
    {
      "cell_type": "code",
      "execution_count": null,
      "metadata": {
        "id": "tGA-_tXBqibW",
        "outputId": "11894498-2c7a-49ba-bc17-b97c180e529b"
      },
      "outputs": [
        {
          "data": {
            "image/png": "[encoded data removed]",
            "text/plain": [
              "<Figure size 288x288 with 1 Axes>"
            ]
          },
          "metadata": {
            "needs_background": "light"
          },
          "output_type": "display_data"
        }
      ],
      "source": [
        "x = np.arange(2)\n",
        "width = 0.3\n",
        "\n",
        "plt.figure(figsize=(4, 4))\n",
        "plt.bar(x, [max(light_precision), max(light_recall)], width, color='tab:orange', label='LightGCN')\n",
        "plt.bar(x+0.3, [max(ngcf_precision), max(ngcf_recall)], width, color='tab:brown', label='NGCF')\n",
        "plt.xticks(x + width / 2, ['Precision@'+str(K), 'Recall@'+str(K)], fontsize=12)\n",
        "plt.legend()\n",
        "plt.tight_layout()\n",
        "plt.ylabel('Score', fontsize=12)\n",
        "plt.title('Performance', fontsize=12)\n",
        "plt.show()"
      ]
    },
    {
      "cell_type": "markdown",
      "metadata": {
        "id": "qvLzYMHTqibW"
      },
      "source": [
        "-    LightGCN performs better than NGCF with respect to both metrics."
      ]
    }
  ],
  "metadata": {
    "kernelspec": {
      "display_name": "Python 3 (ipykernel)",
      "language": "python",
      "name": "python3"
    },
    "language_info": {
      "codemirror_mode": {
        "name": "ipython",
        "version": 3
      },
      "file_extension": ".py",
      "mimetype": "text/x-python",
      "name": "python",
      "nbconvert_exporter": "python",
      "pygments_lexer": "ipython3",
      "version": "3.9.7"
    },
    "colab": {
      "provenance": [],
      "include_colab_link": true
    }
  },
  "nbformat": 4,
  "nbformat_minor": 0
}