{
  "cells": [
    {
      "cell_type": "markdown",
      "metadata": {
        "id": "view-in-github",
        "colab_type": "text"
      },
      "source": [
        "<a href=\"https://colab.research.google.com/github/Rmm6699/HW/blob/master/%E6%88%90%E5%A4%A7%E6%B0%B8%E8%B1%90AI%E4%BA%BA%E6%89%8D%E5%9F%B9%E8%82%B2%E8%A8%88%E7%95%AB_2022_10_28_prectice_112512.ipynb\" target=\"_parent\"><img src=\"https://colab.research.google.com/assets/colab-badge.svg\" alt=\"Open In Colab\"/></a>"
      ]
    },
    {
      "cell_type": "code",
      "execution_count": null,
      "id": "d1a4f5d6",
      "metadata": {
        "id": "d1a4f5d6"
      },
      "outputs": [],
      "source": [
        "#pip install torch==1.12.1+cu113 torchvision==0.13.1+cu113 torchaudio===0.12.1+cu113 -f https://download.pytorch.org/whl/cu113/torch_stable.html\n",
        "#pip install Pillow   #PIL"
      ]
    },
    {
      "cell_type": "code",
      "execution_count": 1,
      "id": "ec89cc92",
      "metadata": {
        "id": "ec89cc92"
      },
      "outputs": [],
      "source": [
        "import os\n",
        "import numpy as np         # Package that offers comprehensive mathematical functions.\n",
        "from PIL import Image       # An imaging Library , we use it to load and process the image.\n",
        "from matplotlib import cm\n",
        "    \n",
        "import torch\n",
        "import torchvision\n",
        "from torchvision import transforms\n",
        "import torch.nn.functional as F # transform output to probability.\n",
        "import torchvision.models as models"
      ]
    },
    {
      "cell_type": "code",
      "source": [
        "print(\"torch.__version__ : \",torch.__version__)\n",
        "print(\"torchvision.__version__:\",torchvision.__version__)"
      ],
      "metadata": {
        "colab": {
          "base_uri": "https://localhost:8080/"
        },
        "id": "akkcT976U4nE",
        "outputId": "6ae5db99-7734-4a7b-af94-cc95285582e0"
      },
      "id": "akkcT976U4nE",
      "execution_count": 3,
      "outputs": [
        {
          "output_type": "stream",
          "name": "stdout",
          "text": [
            "torch.__version__ :  1.12.1+cu113\n",
            "torchvision.__version__: 0.13.1+cu113\n"
          ]
        }
      ]
    },
    {
      "cell_type": "code",
      "source": [
        "# connect to google drive\n",
        "from google.colab import drive\n",
        "drive.mount('/content/drive/')"
      ],
      "metadata": {
        "colab": {
          "base_uri": "https://localhost:8080/"
        },
        "id": "NwHC3dU7CDe4",
        "outputId": "3aba5145-7121-47cc-e7ea-ee9868085c53"
      },
      "id": "NwHC3dU7CDe4",
      "execution_count": 4,
      "outputs": [
        {
          "output_type": "stream",
          "name": "stdout",
          "text": [
            "Mounted at /content/drive/\n"
          ]
        }
      ]
    },
    {
      "cell_type": "code",
      "execution_count": 5,
      "id": "2f969e1e",
      "metadata": {
        "id": "2f969e1e",
        "colab": {
          "base_uri": "https://localhost:8080/",
          "height": 625,
          "referenced_widgets": [
            "ce2698b8e0e44cd9b383815afdff5d57",
            "bd8a008259d84e75a45040384ac7f96d",
            "6f326cdf9f29496fa58bca96bafada32",
            "994b07f9c11d446a82385e1a9ffcb874",
            "cde67c47bca142aca31144af9a3ad3a3",
            "9f90d26030e64d568879ff10789e4880",
            "5e4f9802bb1944db9acb1c8711ed443b",
            "460117d79ab54495ae7f98f20792ef6a",
            "bf6c69377fff440eaf50dc70a4da3913",
            "3110297e6c5a4abb98baeb42583c6341",
            "48e887228e9543d2a3e086f7073f3026"
          ]
        },
        "outputId": "614ae85d-ca14-475e-acb6-6ac48771a6b7"
      },
      "outputs": [
        {
          "output_type": "stream",
          "name": "stderr",
          "text": [
            "/usr/local/lib/python3.7/dist-packages/torchvision/models/_utils.py:209: UserWarning: The parameter 'pretrained' is deprecated since 0.13 and will be removed in 0.15, please use 'weights' instead.\n",
            "  f\"The parameter '{pretrained_param}' is deprecated since 0.13 and will be removed in 0.15, \"\n",
            "/usr/local/lib/python3.7/dist-packages/torchvision/models/_utils.py:223: UserWarning: Arguments other than a weight enum or `None` for 'weights' are deprecated since 0.13 and will be removed in 0.15. The current behavior is equivalent to passing `weights=AlexNet_Weights.IMAGENET1K_V1`. You can also use `weights=AlexNet_Weights.DEFAULT` to get the most up-to-date weights.\n",
            "  warnings.warn(msg)\n",
            "Downloading: \"https://download.pytorch.org/models/alexnet-owt-7be5be79.pth\" to /root/.cache/torch/hub/checkpoints/alexnet-owt-7be5be79.pth\n"
          ]
        },
        {
          "output_type": "display_data",
          "data": {
            "text/plain": [
              "  0%|          | 0.00/233M [00:00<?, ?B/s]"
            ],
            "application/vnd.jupyter.widget-view+json": {
              "version_major": 2,
              "version_minor": 0,
              "model_id": "ce2698b8e0e44cd9b383815afdff5d57"
            }
          },
          "metadata": {}
        },
        {
          "output_type": "stream",
          "name": "stdout",
          "text": [
            "AlexNet(\n",
            "  (features): Sequential(\n",
            "    (0): Conv2d(3, 64, kernel_size=(11, 11), stride=(4, 4), padding=(2, 2))\n",
            "    (1): ReLU(inplace=True)\n",
            "    (2): MaxPool2d(kernel_size=3, stride=2, padding=0, dilation=1, ceil_mode=False)\n",
            "    (3): Conv2d(64, 192, kernel_size=(5, 5), stride=(1, 1), padding=(2, 2))\n",
            "    (4): ReLU(inplace=True)\n",
            "    (5): MaxPool2d(kernel_size=3, stride=2, padding=0, dilation=1, ceil_mode=False)\n",
            "    (6): Conv2d(192, 384, kernel_size=(3, 3), stride=(1, 1), padding=(1, 1))\n",
            "    (7): ReLU(inplace=True)\n",
            "    (8): Conv2d(384, 256, kernel_size=(3, 3), stride=(1, 1), padding=(1, 1))\n",
            "    (9): ReLU(inplace=True)\n",
            "    (10): Conv2d(256, 256, kernel_size=(3, 3), stride=(1, 1), padding=(1, 1))\n",
            "    (11): ReLU(inplace=True)\n",
            "    (12): MaxPool2d(kernel_size=3, stride=2, padding=0, dilation=1, ceil_mode=False)\n",
            "  )\n",
            "  (avgpool): AdaptiveAvgPool2d(output_size=(6, 6))\n",
            "  (classifier): Sequential(\n",
            "    (0): Dropout(p=0.5, inplace=False)\n",
            "    (1): Linear(in_features=9216, out_features=4096, bias=True)\n",
            "    (2): ReLU(inplace=True)\n",
            "    (3): Dropout(p=0.5, inplace=False)\n",
            "    (4): Linear(in_features=4096, out_features=4096, bias=True)\n",
            "    (5): ReLU(inplace=True)\n",
            "    (6): Linear(in_features=4096, out_features=1000, bias=True)\n",
            "  )\n",
            ")\n"
          ]
        }
      ],
      "source": [
        "# loading pre-train model (AlexNet) from torchvision\n",
        "model = models.alexnet(pretrained = True)\n",
        "print(model)"
      ]
    },
    {
      "cell_type": "code",
      "source": [
        "#自選一張圖片測試\n",
        "https://www.kaggle.com/datasets/arjunashok33/miniimagenet\n",
        "# read image\n",
        "image = Image.open('./drive/MyDrive/Practice1/n02099601_100.jpg')\n",
        "display(image)\n",
        "\n",
        "# RGB\n",
        "pix = image.load()\n",
        "print(pix[100,100])"
      ],
      "metadata": {
        "id": "g5ZwcD7dRwm9",
        "colab": {
          "base_uri": "https://localhost:8080/",
          "height": 358
        },
        "outputId": "3e4d640e-a743-4610-88c2-0bb48b2fcab2"
      },
      "id": "g5ZwcD7dRwm9",
      "execution_count": 6,
      "outputs": [
        {
          "output_type": "error",
          "ename": "FileNotFoundError",
          "evalue": "ignored",
          "traceback": [
            "\u001b[0;31m---------------------------------------------------------------------------\u001b[0m",
            "\u001b[0;31mFileNotFoundError\u001b[0m                         Traceback (most recent call last)",
            "\u001b[0;32m<ipython-input-6-2df607ebf7d0>\u001b[0m in \u001b[0;36m<module>\u001b[0;34m\u001b[0m\n\u001b[1;32m      1\u001b[0m \u001b[0;31m# read image\u001b[0m\u001b[0;34m\u001b[0m\u001b[0;34m\u001b[0m\u001b[0;34m\u001b[0m\u001b[0m\n\u001b[0;32m----> 2\u001b[0;31m \u001b[0mimage\u001b[0m \u001b[0;34m=\u001b[0m \u001b[0mImage\u001b[0m\u001b[0;34m.\u001b[0m\u001b[0mopen\u001b[0m\u001b[0;34m(\u001b[0m\u001b[0;34m'./drive/MyDrive/Practice1/n02099601_100.jpg'\u001b[0m\u001b[0;34m)\u001b[0m\u001b[0;34m\u001b[0m\u001b[0;34m\u001b[0m\u001b[0m\n\u001b[0m\u001b[1;32m      3\u001b[0m \u001b[0mdisplay\u001b[0m\u001b[0;34m(\u001b[0m\u001b[0mimage\u001b[0m\u001b[0;34m)\u001b[0m\u001b[0;34m\u001b[0m\u001b[0;34m\u001b[0m\u001b[0m\n\u001b[1;32m      4\u001b[0m \u001b[0;34m\u001b[0m\u001b[0m\n\u001b[1;32m      5\u001b[0m \u001b[0;31m# RGB\u001b[0m\u001b[0;34m\u001b[0m\u001b[0;34m\u001b[0m\u001b[0;34m\u001b[0m\u001b[0m\n",
            "\u001b[0;32m/usr/local/lib/python3.7/dist-packages/PIL/Image.py\u001b[0m in \u001b[0;36mopen\u001b[0;34m(fp, mode)\u001b[0m\n\u001b[1;32m   2841\u001b[0m \u001b[0;34m\u001b[0m\u001b[0m\n\u001b[1;32m   2842\u001b[0m     \u001b[0;32mif\u001b[0m \u001b[0mfilename\u001b[0m\u001b[0;34m:\u001b[0m\u001b[0;34m\u001b[0m\u001b[0;34m\u001b[0m\u001b[0m\n\u001b[0;32m-> 2843\u001b[0;31m         \u001b[0mfp\u001b[0m \u001b[0;34m=\u001b[0m \u001b[0mbuiltins\u001b[0m\u001b[0;34m.\u001b[0m\u001b[0mopen\u001b[0m\u001b[0;34m(\u001b[0m\u001b[0mfilename\u001b[0m\u001b[0;34m,\u001b[0m \u001b[0;34m\"rb\"\u001b[0m\u001b[0;34m)\u001b[0m\u001b[0;34m\u001b[0m\u001b[0;34m\u001b[0m\u001b[0m\n\u001b[0m\u001b[1;32m   2844\u001b[0m         \u001b[0mexclusive_fp\u001b[0m \u001b[0;34m=\u001b[0m \u001b[0;32mTrue\u001b[0m\u001b[0;34m\u001b[0m\u001b[0;34m\u001b[0m\u001b[0m\n\u001b[1;32m   2845\u001b[0m \u001b[0;34m\u001b[0m\u001b[0m\n",
            "\u001b[0;31mFileNotFoundError\u001b[0m: [Errno 2] No such file or directory: './drive/MyDrive/Practice1/n02099601_100.jpg'"
          ]
        }
      ]
    },
    {
      "cell_type": "code",
      "source": [
        "#這邊提供三張sample images: https://www.dropbox.com/t/Kwnjronf3rXCNRDn"
      ],
      "metadata": {
        "id": "fKOI6qG-r-NQ"
      },
      "id": "fKOI6qG-r-NQ",
      "execution_count": null,
      "outputs": []
    },
    {
      "cell_type": "code",
      "source": [
        "#defite a transform function\n",
        "img_transforms = transforms.Compose([\n",
        "    transforms.ToTensor(),\n",
        "    transforms.Resize((224, 224)),  \n",
        "    transforms.Normalize(\n",
        "            mean=[0.485, 0.456, 0.406], \n",
        "            std=[0.229, 0.224, 0.225])])"
      ],
      "metadata": {
        "id": "LX3sjm8tSnL7"
      },
      "id": "LX3sjm8tSnL7",
      "execution_count": 7,
      "outputs": []
    },
    {
      "cell_type": "code",
      "source": [
        "image_tensor = img_transforms(image)\n",
        "image_tensor = image_tensor.unsqueeze(0)\n",
        "image_tensor.shape"
      ],
      "metadata": {
        "id": "aoT0YyTjRy5K",
        "colab": {
          "base_uri": "https://localhost:8080/",
          "height": 202
        },
        "outputId": "72402b1c-998d-4d78-982c-ff4b200b1052"
      },
      "id": "aoT0YyTjRy5K",
      "execution_count": 8,
      "outputs": [
        {
          "output_type": "error",
          "ename": "NameError",
          "evalue": "ignored",
          "traceback": [
            "\u001b[0;31m---------------------------------------------------------------------------\u001b[0m",
            "\u001b[0;31mNameError\u001b[0m                                 Traceback (most recent call last)",
            "\u001b[0;32m<ipython-input-8-f271807991c6>\u001b[0m in \u001b[0;36m<module>\u001b[0;34m\u001b[0m\n\u001b[0;32m----> 1\u001b[0;31m \u001b[0mimage_tensor\u001b[0m \u001b[0;34m=\u001b[0m \u001b[0mimg_transforms\u001b[0m\u001b[0;34m(\u001b[0m\u001b[0mimage\u001b[0m\u001b[0;34m)\u001b[0m\u001b[0;34m\u001b[0m\u001b[0;34m\u001b[0m\u001b[0m\n\u001b[0m\u001b[1;32m      2\u001b[0m \u001b[0mimage_tensor\u001b[0m \u001b[0;34m=\u001b[0m \u001b[0mimage_tensor\u001b[0m\u001b[0;34m.\u001b[0m\u001b[0munsqueeze\u001b[0m\u001b[0;34m(\u001b[0m\u001b[0;36m0\u001b[0m\u001b[0;34m)\u001b[0m\u001b[0;34m\u001b[0m\u001b[0;34m\u001b[0m\u001b[0m\n\u001b[1;32m      3\u001b[0m \u001b[0mimage_tensor\u001b[0m\u001b[0;34m.\u001b[0m\u001b[0mshape\u001b[0m\u001b[0;34m\u001b[0m\u001b[0;34m\u001b[0m\u001b[0m\n",
            "\u001b[0;31mNameError\u001b[0m: name 'image' is not defined"
          ]
        }
      ]
    },
    {
      "cell_type": "code",
      "execution_count": null,
      "id": "a77441e7",
      "metadata": {
        "id": "a77441e7",
        "colab": {
          "base_uri": "https://localhost:8080/"
        },
        "outputId": "a4ab085b-2265-4217-a2bd-37478a6e82ad"
      },
      "outputs": [
        {
          "output_type": "stream",
          "name": "stdout",
          "text": [
            "torch.Size([1, 1000])\n"
          ]
        }
      ],
      "source": [
        "output = model(image_tensor)\n",
        "print(output.shape)"
      ]
    },
    {
      "cell_type": "code",
      "source": [
        "output = output.squeeze()\n",
        "_, indices = torch.sort(output, descending=True)\n",
        "probs = F.softmax(output, dim=-1)\n",
        "for index in indices[:5]:\n",
        "        print(f\"Label {index}:  ({probs[index].item():.2f})\")"
      ],
      "metadata": {
        "id": "opiLR8gPRyNN",
        "colab": {
          "base_uri": "https://localhost:8080/"
        },
        "outputId": "530ea798-16b7-408b-bc8e-c3d63b89606a"
      },
      "id": "opiLR8gPRyNN",
      "execution_count": null,
      "outputs": [
        {
          "output_type": "stream",
          "name": "stdout",
          "text": [
            "Label 207:  (0.87)\n",
            "Label 213:  (0.10)\n",
            "Label 852:  (0.02)\n",
            "Label 244:  (0.00)\n",
            "Label 219:  (0.00)\n"
          ]
        }
      ]
    },
    {
      "cell_type": "code",
      "source": [
        "class sample_dataset(torch.utils.data.Dataset):\n",
        "  def __init__(self, FileList, root='./', image_size=224, mode='Train'):\n",
        "    super(sample_dataset, self).__init__()\n",
        "    self.fns = FileList\n",
        "    #in this sample ,all of our picture is golden retriever , which is label 207.\n",
        "    self.y =  [207]*len(FileList)\n",
        "    self.mode = mode\n",
        "    self.root = root\n",
        "    self.image_size = image_size\n",
        "    self.mean_transform = transforms.Compose(\n",
        "    [\n",
        "        transforms.Resize((image_size, image_size)),\n",
        "        transforms.ToTensor(),\n",
        "        transforms.Normalize(mean = (0.485, 0.456, 0.406), std = (0.229, 0.224, 0.225))\n",
        "    ])\n",
        "    self.transform = transforms.Compose(\n",
        "    [\n",
        "        transforms.Resize((image_size, image_size)),\n",
        "        transforms.ColorJitter(brightness=0.4, contrast=0.4, saturation=0.4, hue=0.4),\n",
        "        transforms.ToTensor(),\n",
        "        transforms.Normalize(mean = (0.485, 0.456, 0.406), std = (0.229, 0.224, 0.225))\n",
        "    ])\n",
        "    self.n_images = len(self.fns)\n",
        "        \n",
        "  def __getitem__(self, index):\n",
        "    im = Image.open(self.root + self.fns[index])\n",
        "    if self.mode=='Train':\n",
        "      im = self.transform(im)\n",
        "    else:\n",
        "      im = self.mean_transform(im)\n",
        "    return im,self.y[index]\n",
        "\n",
        "  def __len__(self):\n",
        "    return self.n_images"
      ],
      "metadata": {
        "id": "ewqFOH3z_r3q"
      },
      "id": "ewqFOH3z_r3q",
      "execution_count": null,
      "outputs": []
    },
    {
      "cell_type": "code",
      "source": [
        "#the path to image\n",
        "train_root = './drive/MyDrive/Practice1/n02099601/'\n",
        "#search all image name.\n",
        "train_filename = os.listdir(train_root) \n",
        "batch_size = 4\n",
        "train_dataset = sample_dataset(FileList=train_filename,root=train_root,image_size=224,mode=\"test\")\n",
        "train_loader = torch.utils.data.DataLoader(train_dataset, batch_size=batch_size, shuffle=True)"
      ],
      "metadata": {
        "id": "czemEBbODcIE"
      },
      "id": "czemEBbODcIE",
      "execution_count": null,
      "outputs": []
    },
    {
      "cell_type": "code",
      "source": [
        "#4 means four images in this iteration.\n",
        "dataiter = iter(train_loader)\n",
        "data = dataiter.next()\n",
        "data[0].shape"
      ],
      "metadata": {
        "colab": {
          "base_uri": "https://localhost:8080/"
        },
        "id": "KO2bzvpAIS-I",
        "outputId": "77894966-53f5-44d0-eed8-01df5a2dbe8d"
      },
      "id": "KO2bzvpAIS-I",
      "execution_count": null,
      "outputs": [
        {
          "output_type": "execute_result",
          "data": {
            "text/plain": [
              "torch.Size([4, 3, 224, 224])"
            ]
          },
          "metadata": {},
          "execution_count": 26
        }
      ]
    },
    {
      "cell_type": "code",
      "source": [
        "output = model(data[0])\n",
        "output = output.squeeze()\n",
        "print(output.shape)"
      ],
      "metadata": {
        "colab": {
          "base_uri": "https://localhost:8080/"
        },
        "id": "7nCvNOsPIhos",
        "outputId": "7bbaf2c8-c2c0-4a67-cc46-98d23213bb35"
      },
      "id": "7nCvNOsPIhos",
      "execution_count": null,
      "outputs": [
        {
          "output_type": "stream",
          "name": "stdout",
          "text": [
            "torch.Size([4, 1000])\n"
          ]
        }
      ]
    },
    {
      "cell_type": "code",
      "source": [
        "_, indices = torch.sort(output, descending=True)\n",
        "probs = F.softmax(output, dim=-1)\n",
        "for i in range(batch_size):\n",
        "  print(i+1,\"picture\")\n",
        "  for index in indices[i,:5]:\n",
        "    print(f\"Label {index}:  ({probs[i,index].item():.2f})\")"
      ],
      "metadata": {
        "colab": {
          "base_uri": "https://localhost:8080/"
        },
        "id": "sNBI2Lj3Ii5o",
        "outputId": "be62e542-4edf-44d6-c038-788da21f3e9a"
      },
      "id": "sNBI2Lj3Ii5o",
      "execution_count": null,
      "outputs": [
        {
          "output_type": "stream",
          "name": "stdout",
          "text": [
            "1 picture\n",
            "Label 207:  (0.90)\n",
            "Label 219:  (0.05)\n",
            "Label 852:  (0.01)\n",
            "Label 213:  (0.01)\n",
            "Label 260:  (0.00)\n",
            "2 picture\n",
            "Label 207:  (0.84)\n",
            "Label 208:  (0.10)\n",
            "Label 216:  (0.02)\n",
            "Label 215:  (0.01)\n",
            "Label 220:  (0.01)\n",
            "3 picture\n",
            "Label 169:  (0.52)\n",
            "Label 207:  (0.12)\n",
            "Label 248:  (0.05)\n",
            "Label 244:  (0.05)\n",
            "Label 250:  (0.05)\n",
            "4 picture\n",
            "Label 169:  (0.62)\n",
            "Label 160:  (0.23)\n",
            "Label 176:  (0.04)\n",
            "Label 222:  (0.03)\n",
            "Label 207:  (0.02)\n"
          ]
        }
      ]
    },
    {
      "cell_type": "code",
      "source": [
        "#top1 and top5 accuracy:\n",
        "def evaluteTop1(model, loader):\n",
        "  model.eval() \n",
        "  correct = 0\n",
        "  total = len(loader.dataset)\n",
        "  for x,y in loader:\n",
        "    with torch.no_grad():\n",
        "      logits = model(x)\n",
        "      pred = logits.argmax(dim=1)\n",
        "      correct += torch.eq(pred, y).sum().float().item()\n",
        "  return correct / total\n",
        "\n",
        "\n",
        "def evaluteTop5(model, loader):\n",
        "  model.eval()\n",
        "  correct = 0\n",
        "  total = len(loader.dataset)\n",
        "  for x, y in loader:\n",
        "    with torch.no_grad():\n",
        "      logits = model(x)\n",
        "      maxk = max((1,5))\n",
        "      y_resize = y.view(-1,1)\n",
        "      _, pred = logits.topk(maxk, 1, True, True)\n",
        "      correct += torch.eq(pred, y_resize).sum().float().item()\n",
        "  return correct / total"
      ],
      "metadata": {
        "id": "ja7RxH4yLwi8"
      },
      "id": "ja7RxH4yLwi8",
      "execution_count": null,
      "outputs": []
    },
    {
      "cell_type": "code",
      "source": [
        "evaluteTop1(model,train_loader)"
      ],
      "metadata": {
        "colab": {
          "base_uri": "https://localhost:8080/"
        },
        "id": "MOAcqRIXOUfx",
        "outputId": "720c7381-f000-41b4-da75-60b8e5f40604"
      },
      "id": "MOAcqRIXOUfx",
      "execution_count": null,
      "outputs": [
        {
          "output_type": "execute_result",
          "data": {
            "text/plain": [
              "0.74"
            ]
          },
          "metadata": {},
          "execution_count": 30
        }
      ]
    },
    {
      "cell_type": "code",
      "source": [
        "evaluteTop5(model,train_loader)"
      ],
      "metadata": {
        "colab": {
          "base_uri": "https://localhost:8080/"
        },
        "id": "g9p2ziDzN5zx",
        "outputId": "39dd74d3-d653-49d8-87b3-128bb385ce2b"
      },
      "id": "g9p2ziDzN5zx",
      "execution_count": null,
      "outputs": [
        {
          "output_type": "execute_result",
          "data": {
            "text/plain": [
              "0.98"
            ]
          },
          "metadata": {},
          "execution_count": 31
        }
      ]
    }
  ],
  "metadata": {
    "kernelspec": {
      "display_name": "Python 3",
      "language": "python",
      "name": "python3"
    },
    "language_info": {
      "codemirror_mode": {
        "name": "ipython",
        "version": 3
      },
      "file_extension": ".py",
      "mimetype": "text/x-python",
      "name": "python",
      "nbconvert_exporter": "python",
      "pygments_lexer": "ipython3",
      "version": "3.8.8"
    },
    "colab": {
      "provenance": [],
      "collapsed_sections": [],
      "include_colab_link": true
    },
    "widgets": {
      "application/vnd.jupyter.widget-state+json": {
        "ce2698b8e0e44cd9b383815afdff5d57": {
          "model_module": "@jupyter-widgets/controls",
          "model_name": "HBoxModel",
          "model_module_version": "1.5.0",
          "state": {
            "_dom_classes": [],
            "_model_module": "@jupyter-widgets/controls",
            "_model_module_version": "1.5.0",
            "_model_name": "HBoxModel",
            "_view_count": null,
            "_view_module": "@jupyter-widgets/controls",
            "_view_module_version": "1.5.0",
            "_view_name": "HBoxView",
            "box_style": "",
            "children": [
              "IPY_MODEL_bd8a008259d84e75a45040384ac7f96d",
              "IPY_MODEL_6f326cdf9f29496fa58bca96bafada32",
              "IPY_MODEL_994b07f9c11d446a82385e1a9ffcb874"
            ],
            "layout": "IPY_MODEL_cde67c47bca142aca31144af9a3ad3a3"
          }
        },
        "bd8a008259d84e75a45040384ac7f96d": {
          "model_module": "@jupyter-widgets/controls",
          "model_name": "HTMLModel",
          "model_module_version": "1.5.0",
          "state": {
            "_dom_classes": [],
            "_model_module": "@jupyter-widgets/controls",
            "_model_module_version": "1.5.0",
            "_model_name": "HTMLModel",
            "_view_count": null,
            "_view_module": "@jupyter-widgets/controls",
            "_view_module_version": "1.5.0",
            "_view_name": "HTMLView",
            "description": "",
            "description_tooltip": null,
            "layout": "IPY_MODEL_9f90d26030e64d568879ff10789e4880",
            "placeholder": "​",
            "style": "IPY_MODEL_5e4f9802bb1944db9acb1c8711ed443b",
            "value": "100%"
          }
        },
        "6f326cdf9f29496fa58bca96bafada32": {
          "model_module": "@jupyter-widgets/controls",
          "model_name": "FloatProgressModel",
          "model_module_version": "1.5.0",
          "state": {
            "_dom_classes": [],
            "_model_module": "@jupyter-widgets/controls",
            "_model_module_version": "1.5.0",
            "_model_name": "FloatProgressModel",
            "_view_count": null,
            "_view_module": "@jupyter-widgets/controls",
            "_view_module_version": "1.5.0",
            "_view_name": "ProgressView",
            "bar_style": "success",
            "description": "",
            "description_tooltip": null,
            "layout": "IPY_MODEL_460117d79ab54495ae7f98f20792ef6a",
            "max": 244408911,
            "min": 0,
            "orientation": "horizontal",
            "style": "IPY_MODEL_bf6c69377fff440eaf50dc70a4da3913",
            "value": 244408911
          }
        },
        "994b07f9c11d446a82385e1a9ffcb874": {
          "model_module": "@jupyter-widgets/controls",
          "model_name": "HTMLModel",
          "model_module_version": "1.5.0",
          "state": {
            "_dom_classes": [],
            "_model_module": "@jupyter-widgets/controls",
            "_model_module_version": "1.5.0",
            "_model_name": "HTMLModel",
            "_view_count": null,
            "_view_module": "@jupyter-widgets/controls",
            "_view_module_version": "1.5.0",
            "_view_name": "HTMLView",
            "description": "",
            "description_tooltip": null,
            "layout": "IPY_MODEL_3110297e6c5a4abb98baeb42583c6341",
            "placeholder": "​",
            "style": "IPY_MODEL_48e887228e9543d2a3e086f7073f3026",
            "value": " 233M/233M [00:02&lt;00:00, 87.2MB/s]"
          }
        },
        "cde67c47bca142aca31144af9a3ad3a3": {
          "model_module": "@jupyter-widgets/base",
          "model_name": "LayoutModel",
          "model_module_version": "1.2.0",
          "state": {
            "_model_module": "@jupyter-widgets/base",
            "_model_module_version": "1.2.0",
            "_model_name": "LayoutModel",
            "_view_count": null,
            "_view_module": "@jupyter-widgets/base",
            "_view_module_version": "1.2.0",
            "_view_name": "LayoutView",
            "align_content": null,
            "align_items": null,
            "align_self": null,
            "border": null,
            "bottom": null,
            "display": null,
            "flex": null,
            "flex_flow": null,
            "grid_area": null,
            "grid_auto_columns": null,
            "grid_auto_flow": null,
            "grid_auto_rows": null,
            "grid_column": null,
            "grid_gap": null,
            "grid_row": null,
            "grid_template_areas": null,
            "grid_template_columns": null,
            "grid_template_rows": null,
            "height": null,
            "justify_content": null,
            "justify_items": null,
            "left": null,
            "margin": null,
            "max_height": null,
            "max_width": null,
            "min_height": null,
            "min_width": null,
            "object_fit": null,
            "object_position": null,
            "order": null,
            "overflow": null,
            "overflow_x": null,
            "overflow_y": null,
            "padding": null,
            "right": null,
            "top": null,
            "visibility": null,
            "width": null
          }
        },
        "9f90d26030e64d568879ff10789e4880": {
          "model_module": "@jupyter-widgets/base",
          "model_name": "LayoutModel",
          "model_module_version": "1.2.0",
          "state": {
            "_model_module": "@jupyter-widgets/base",
            "_model_module_version": "1.2.0",
            "_model_name": "LayoutModel",
            "_view_count": null,
            "_view_module": "@jupyter-widgets/base",
            "_view_module_version": "1.2.0",
            "_view_name": "LayoutView",
            "align_content": null,
            "align_items": null,
            "align_self": null,
            "border": null,
            "bottom": null,
            "display": null,
            "flex": null,
            "flex_flow": null,
            "grid_area": null,
            "grid_auto_columns": null,
            "grid_auto_flow": null,
            "grid_auto_rows": null,
            "grid_column": null,
            "grid_gap": null,
            "grid_row": null,
            "grid_template_areas": null,
            "grid_template_columns": null,
            "grid_template_rows": null,
            "height": null,
            "justify_content": null,
            "justify_items": null,
            "left": null,
            "margin": null,
            "max_height": null,
            "max_width": null,
            "min_height": null,
            "min_width": null,
            "object_fit": null,
            "object_position": null,
            "order": null,
            "overflow": null,
            "overflow_x": null,
            "overflow_y": null,
            "padding": null,
            "right": null,
            "top": null,
            "visibility": null,
            "width": null
          }
        },
        "5e4f9802bb1944db9acb1c8711ed443b": {
          "model_module": "@jupyter-widgets/controls",
          "model_name": "DescriptionStyleModel",
          "model_module_version": "1.5.0",
          "state": {
            "_model_module": "@jupyter-widgets/controls",
            "_model_module_version": "1.5.0",
            "_model_name": "DescriptionStyleModel",
            "_view_count": null,
            "_view_module": "@jupyter-widgets/base",
            "_view_module_version": "1.2.0",
            "_view_name": "StyleView",
            "description_width": ""
          }
        },
        "460117d79ab54495ae7f98f20792ef6a": {
          "model_module": "@jupyter-widgets/base",
          "model_name": "LayoutModel",
          "model_module_version": "1.2.0",
          "state": {
            "_model_module": "@jupyter-widgets/base",
            "_model_module_version": "1.2.0",
            "_model_name": "LayoutModel",
            "_view_count": null,
            "_view_module": "@jupyter-widgets/base",
            "_view_module_version": "1.2.0",
            "_view_name": "LayoutView",
            "align_content": null,
            "align_items": null,
            "align_self": null,
            "border": null,
            "bottom": null,
            "display": null,
            "flex": null,
            "flex_flow": null,
            "grid_area": null,
            "grid_auto_columns": null,
            "grid_auto_flow": null,
            "grid_auto_rows": null,
            "grid_column": null,
            "grid_gap": null,
            "grid_row": null,
            "grid_template_areas": null,
            "grid_template_columns": null,
            "grid_template_rows": null,
            "height": null,
            "justify_content": null,
            "justify_items": null,
            "left": null,
            "margin": null,
            "max_height": null,
            "max_width": null,
            "min_height": null,
            "min_width": null,
            "object_fit": null,
            "object_position": null,
            "order": null,
            "overflow": null,
            "overflow_x": null,
            "overflow_y": null,
            "padding": null,
            "right": null,
            "top": null,
            "visibility": null,
            "width": null
          }
        },
        "bf6c69377fff440eaf50dc70a4da3913": {
          "model_module": "@jupyter-widgets/controls",
          "model_name": "ProgressStyleModel",
          "model_module_version": "1.5.0",
          "state": {
            "_model_module": "@jupyter-widgets/controls",
            "_model_module_version": "1.5.0",
            "_model_name": "ProgressStyleModel",
            "_view_count": null,
            "_view_module": "@jupyter-widgets/base",
            "_view_module_version": "1.2.0",
            "_view_name": "StyleView",
            "bar_color": null,
            "description_width": ""
          }
        },
        "3110297e6c5a4abb98baeb42583c6341": {
          "model_module": "@jupyter-widgets/base",
          "model_name": "LayoutModel",
          "model_module_version": "1.2.0",
          "state": {
            "_model_module": "@jupyter-widgets/base",
            "_model_module_version": "1.2.0",
            "_model_name": "LayoutModel",
            "_view_count": null,
            "_view_module": "@jupyter-widgets/base",
            "_view_module_version": "1.2.0",
            "_view_name": "LayoutView",
            "align_content": null,
            "align_items": null,
            "align_self": null,
            "border": null,
            "bottom": null,
            "display": null,
            "flex": null,
            "flex_flow": null,
            "grid_area": null,
            "grid_auto_columns": null,
            "grid_auto_flow": null,
            "grid_auto_rows": null,
            "grid_column": null,
            "grid_gap": null,
            "grid_row": null,
            "grid_template_areas": null,
            "grid_template_columns": null,
            "grid_template_rows": null,
            "height": null,
            "justify_content": null,
            "justify_items": null,
            "left": null,
            "margin": null,
            "max_height": null,
            "max_width": null,
            "min_height": null,
            "min_width": null,
            "object_fit": null,
            "object_position": null,
            "order": null,
            "overflow": null,
            "overflow_x": null,
            "overflow_y": null,
            "padding": null,
            "right": null,
            "top": null,
            "visibility": null,
            "width": null
          }
        },
        "48e887228e9543d2a3e086f7073f3026": {
          "model_module": "@jupyter-widgets/controls",
          "model_name": "DescriptionStyleModel",
          "model_module_version": "1.5.0",
          "state": {
            "_model_module": "@jupyter-widgets/controls",
            "_model_module_version": "1.5.0",
            "_model_name": "DescriptionStyleModel",
            "_view_count": null,
            "_view_module": "@jupyter-widgets/base",
            "_view_module_version": "1.2.0",
            "_view_name": "StyleView",
            "description_width": ""
          }
        }
      }
    }
  },
  "nbformat": 4,
  "nbformat_minor": 5
}