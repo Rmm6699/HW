{
  "cells": [
    {
      "cell_type": "markdown",
      "metadata": {
        "id": "view-in-github",
        "colab_type": "text"
      },
      "source": [
        "<a href=\"https://colab.research.google.com/github/Rmm6699/HW/blob/master/W3_TA_neural_network.ipynb\" target=\"_parent\"><img src=\"https://colab.research.google.com/assets/colab-badge.svg\" alt=\"Open In Colab\"/></a>"
      ]
    },
    {
      "cell_type": "code",
      "execution_count": null,
      "id": "binary-slave",
      "metadata": {
        "id": "binary-slave",
        "outputId": "f532e415-b992-49dd-e0c6-6474b51be5e7"
      },
      "outputs": [
        {
          "name": "stdout",
          "output_type": "stream",
          "text": [
            "Initial w:\t[-0.32221988  0.60497355]\n",
            "iter, loss,  w\n",
            "0,\t62.35,\t[0.21138892 1.8259209 ]\n",
            "1,\t39.67,\t[0.6916368 2.0191863]\n",
            "2,\t34.85,\t[1.1238599 2.0497785]\n",
            "3,\t31.29,\t[1.5128607 2.054621 ]\n",
            "4,\t28.42,\t[1.8629614 2.0553875]\n",
            "5,\t26.09,\t[2.178052  2.0555089]\n",
            "6,\t24.20,\t[2.4616334 2.0555282]\n",
            "7,\t22.67,\t[2.716857  2.0555313]\n",
            "8,\t21.44,\t[2.946558  2.0555317]\n",
            "9,\t20.43,\t[3.1532888 2.0555317]\n",
            "10,\t19.62,\t[3.3393466 2.0555317]\n",
            "11,\t18.97,\t[3.5067987 2.0555317]\n",
            "12,\t18.43,\t[3.6575055 2.0555317]\n",
            "13,\t18.00,\t[3.7931418 2.0555317]\n",
            "14,\t17.65,\t[3.9152143 2.0555317]\n",
            "15,\t17.37,\t[4.0250797 2.0555317]\n",
            "16,\t17.14,\t[4.1239586 2.0555317]\n",
            "17,\t16.95,\t[4.2129493 2.0555317]\n",
            "18,\t16.80,\t[4.293041  2.0555317]\n",
            "19,\t16.68,\t[4.3651237 2.0555317]\n"
          ]
        }
      ],
      "source": [
        "import torch \n",
        "import numpy as np\n",
        "\n",
        "## data\n",
        "X = np.linspace(-5,5,200)\n",
        "real_theta0 = 5\n",
        "real_theta1 = 2\n",
        "\n",
        "# sample noise from N(0,1)\n",
        "N = 200\n",
        "noise = np.random.randn(N) * 4\n",
        "y = real_theta0 + real_theta1*X + noise\n",
        "##\n",
        "\n",
        "X = torch.FloatTensor(X)\n",
        "y = torch.FloatTensor(y)\n",
        "\n",
        "# Initialize w from N(0,1). \n",
        "w = torch.randn(2).requires_grad_(True) \n",
        "print(f\"Initial w:\\t{w.detach().numpy()}\")\n",
        "\n",
        "def model(X,w):\n",
        "    return w[0] + X * w[1]\n",
        "\n",
        "def cost_function(y_hat,y):\n",
        "    return torch.mean((y_hat-y)**2)\n",
        "\n",
        "iterations = 20\n",
        "alpha = 0.05 # learning rate\n",
        "\n",
        "# start training \n",
        "print('iter, loss,  w')\n",
        "for i in range(iterations):\n",
        "    y_hat = model(X,w)\n",
        "    loss = cost_function(y_hat,y)\n",
        "    loss.backward()\n",
        "\n",
        "    # update w with gradient descent\n",
        "    w.data = w.data - alpha * w.grad\n",
        "    print('{},\\t{:.2f},\\t{}'.format(i, loss.item(), w.view(2).detach().numpy()))\n",
        "\n",
        "    # clear gradients\n",
        "    w.grad.detach()\n",
        "    w.grad.zero_()"
      ]
    },
    {
      "cell_type": "markdown",
      "id": "arabic-practice",
      "metadata": {
        "id": "arabic-practice"
      },
      "source": [
        "## Inclass Exercise: Binary Classification\n",
        "In this exercise, you have to implement a neural network to complete a binary classification task.\n",
        "\n",
        "During the training step, you might want to **print the current loss** to make sure the convergence of your model.\n",
        "\n",
        "Please define your network and carefully choose the activation and loss function.\n",
        "\n",
        "When the training stage is finished, use `plot_decision_boundary` function to visualize the decision boundary of your model."
      ]
    },
    {
      "cell_type": "code",
      "execution_count": null,
      "id": "right-silicon",
      "metadata": {
        "id": "right-silicon",
        "outputId": "7b2ae377-10ca-4bd1-b9f8-50120d051ff6"
      },
      "outputs": [
        {
          "data": {
            "image/png": "[encoded data removed]",
            "text/plain": [
              "<Figure size 432x288 with 1 Axes>"
            ]
          },
          "metadata": {
            "needs_background": "light"
          },
          "output_type": "display_data"
        },
        {
          "name": "stdout",
          "output_type": "stream",
          "text": [
            "X shape (400, 2)\n",
            "y shape (400,)\n"
          ]
        }
      ],
      "source": [
        "import torch\n",
        "import torch.nn as nn\n",
        "import numpy as np\n",
        "import sklearn.datasets\n",
        "import matplotlib.pyplot as plt\n",
        "\n",
        "X, y = sklearn.datasets.make_moons(400, noise=0.1)\n",
        "X_a = X[y==0]\n",
        "X_b = X[y==1]\n",
        "plt.scatter(X_a[:,0],X_a[:,1])\n",
        "plt.scatter(X_b[:,0],X_b[:,1])\n",
        "plt.show()\n",
        "\n",
        "print('X shape', X.shape)\n",
        "print('y shape', y.shape)"
      ]
    },
    {
      "cell_type": "code",
      "execution_count": null,
      "id": "insured-record",
      "metadata": {
        "id": "insured-record",
        "outputId": "abe1cf18-b3c3-4719-89ec-d481ff40f4b7"
      },
      "outputs": [
        {
          "name": "stdout",
          "output_type": "stream",
          "text": [
            "Loss: 0.6781, Accuracy: 0.5400\n",
            "Loss: 0.5957, Accuracy: 0.7600\n",
            "Loss: 0.4942, Accuracy: 0.7900\n",
            "Loss: 0.3852, Accuracy: 0.8175\n",
            "Loss: 0.3183, Accuracy: 0.8575\n",
            "Loss: 0.3044, Accuracy: 0.8725\n",
            "Loss: 0.2966, Accuracy: 0.8850\n",
            "Loss: 0.2805, Accuracy: 0.8900\n",
            "Loss: 0.2745, Accuracy: 0.8975\n",
            "Loss: 0.2896, Accuracy: 0.8700\n",
            "Loss: 0.2822, Accuracy: 0.8650\n",
            "Loss: 0.2571, Accuracy: 0.8900\n",
            "Loss: 0.2380, Accuracy: 0.8975\n",
            "Loss: 0.2298, Accuracy: 0.8975\n",
            "Loss: 0.2289, Accuracy: 0.8925\n",
            "Loss: 0.2308, Accuracy: 0.8900\n",
            "Loss: 0.2330, Accuracy: 0.8875\n",
            "Loss: 0.2362, Accuracy: 0.8825\n",
            "Loss: 0.2290, Accuracy: 0.8950\n",
            "Loss: 0.2199, Accuracy: 0.9025\n",
            "Loss: 0.2156, Accuracy: 0.9025\n",
            "Loss: 0.2099, Accuracy: 0.9025\n",
            "Loss: 0.2032, Accuracy: 0.9175\n",
            "Loss: 0.2002, Accuracy: 0.9175\n",
            "Loss: 0.2016, Accuracy: 0.9125\n",
            "Loss: 0.2034, Accuracy: 0.9200\n",
            "Loss: 0.1998, Accuracy: 0.9125\n",
            "Loss: 0.1962, Accuracy: 0.9175\n",
            "Loss: 0.1948, Accuracy: 0.9275\n",
            "Loss: 0.1924, Accuracy: 0.9150\n",
            "Loss: 0.1866, Accuracy: 0.9275\n",
            "Loss: 0.1796, Accuracy: 0.9275\n",
            "Loss: 0.1749, Accuracy: 0.9250\n",
            "Loss: 0.1700, Accuracy: 0.9375\n",
            "Loss: 0.1617, Accuracy: 0.9375\n",
            "Loss: 0.1534, Accuracy: 0.9400\n",
            "Loss: 0.1464, Accuracy: 0.9475\n",
            "Loss: 0.1389, Accuracy: 0.9500\n",
            "Loss: 0.1297, Accuracy: 0.9625\n",
            "Loss: 0.1173, Accuracy: 0.9625\n",
            "Loss: 0.1051, Accuracy: 0.9725\n",
            "Loss: 0.0939, Accuracy: 0.9750\n",
            "Loss: 0.0811, Accuracy: 0.9850\n",
            "Loss: 0.0685, Accuracy: 0.9850\n",
            "Loss: 0.0580, Accuracy: 0.9900\n",
            "Loss: 0.0490, Accuracy: 0.9925\n",
            "Loss: 0.0410, Accuracy: 0.9925\n",
            "Loss: 0.0344, Accuracy: 0.9950\n",
            "Loss: 0.0286, Accuracy: 0.9950\n",
            "Loss: 0.0242, Accuracy: 0.9975\n",
            "Loss: 0.0205, Accuracy: 0.9975\n",
            "Loss: 0.0178, Accuracy: 0.9975\n",
            "Loss: 0.0154, Accuracy: 0.9975\n",
            "Loss: 0.0137, Accuracy: 1.0000\n",
            "Loss: 0.0120, Accuracy: 1.0000\n",
            "Loss: 0.0107, Accuracy: 0.9975\n",
            "Loss: 0.0096, Accuracy: 0.9975\n",
            "Loss: 0.0086, Accuracy: 1.0000\n",
            "Loss: 0.0079, Accuracy: 1.0000\n",
            "Loss: 0.0071, Accuracy: 1.0000\n",
            "Loss: 0.0065, Accuracy: 1.0000\n",
            "Loss: 0.0060, Accuracy: 1.0000\n",
            "Loss: 0.0055, Accuracy: 1.0000\n",
            "Loss: 0.0052, Accuracy: 1.0000\n",
            "Loss: 0.0048, Accuracy: 1.0000\n",
            "Loss: 0.0045, Accuracy: 1.0000\n",
            "Loss: 0.0042, Accuracy: 1.0000\n",
            "Loss: 0.0039, Accuracy: 1.0000\n",
            "Loss: 0.0037, Accuracy: 1.0000\n",
            "Loss: 0.0035, Accuracy: 1.0000\n",
            "Loss: 0.0034, Accuracy: 1.0000\n",
            "Loss: 0.0032, Accuracy: 1.0000\n",
            "Loss: 0.0031, Accuracy: 1.0000\n",
            "Loss: 0.0030, Accuracy: 1.0000\n",
            "Loss: 0.0028, Accuracy: 1.0000\n",
            "Loss: 0.0027, Accuracy: 1.0000\n",
            "Loss: 0.0026, Accuracy: 1.0000\n",
            "Loss: 0.0025, Accuracy: 1.0000\n",
            "Loss: 0.0024, Accuracy: 1.0000\n",
            "Loss: 0.0024, Accuracy: 1.0000\n",
            "Loss: 0.0023, Accuracy: 1.0000\n",
            "Loss: 0.0022, Accuracy: 1.0000\n",
            "Loss: 0.0022, Accuracy: 1.0000\n",
            "Loss: 0.0021, Accuracy: 1.0000\n",
            "Loss: 0.0021, Accuracy: 1.0000\n",
            "Loss: 0.0020, Accuracy: 1.0000\n",
            "Loss: 0.0020, Accuracy: 1.0000\n",
            "Loss: 0.0019, Accuracy: 1.0000\n",
            "Loss: 0.0019, Accuracy: 1.0000\n",
            "Loss: 0.0018, Accuracy: 1.0000\n",
            "Loss: 0.0018, Accuracy: 1.0000\n",
            "Loss: 0.0017, Accuracy: 1.0000\n",
            "Loss: 0.0017, Accuracy: 1.0000\n",
            "Loss: 0.0017, Accuracy: 1.0000\n",
            "Loss: 0.0016, Accuracy: 1.0000\n",
            "Loss: 0.0016, Accuracy: 1.0000\n",
            "Loss: 0.0016, Accuracy: 1.0000\n",
            "Loss: 0.0016, Accuracy: 1.0000\n",
            "Loss: 0.0015, Accuracy: 1.0000\n",
            "Loss: 0.0015, Accuracy: 1.0000\n"
          ]
        }
      ],
      "source": [
        "# Step 1: convert numpy array to torch tensor\n",
        "tensor_x, tensor_y = torch.FloatTensor(X), torch.FloatTensor(y)\n",
        "\n",
        "# Step 2: define your network\n",
        "model = nn.Sequential(\n",
        "    nn.Linear(2, 10),\n",
        "    nn.ReLU(),\n",
        "    nn.Linear(10, 5),\n",
        "    nn.ReLU(),\n",
        "    nn.Linear(5, 1),\n",
        "    nn.Sigmoid()\n",
        ")\n",
        "\n",
        "# Step 3: choose a optimizer and loss function\n",
        "optimizer = torch.optim.Adam(model.parameters(), lr=0.1)\n",
        "loss_function = nn.BCELoss()\n",
        "\n",
        "# Step 4: start training\n",
        "iterations = 100\n",
        "for _ in range(iterations):\n",
        "    output = model(tensor_x).flatten()\n",
        "    y_pred = (output > 0.5) * 1. \n",
        "    acc = torch.mean((y_pred==tensor_y)*1.)\n",
        "    loss = loss_function(output, tensor_y)\n",
        "    optimizer.zero_grad()\n",
        "    loss.backward()\n",
        "    optimizer.step()\n",
        "    print(\"Loss: %.4f, Accuracy: %.4f\" % (loss.data.numpy(), acc.detach().numpy()))"
      ]
    },
    {
      "cell_type": "code",
      "execution_count": null,
      "id": "sacred-result",
      "metadata": {
        "id": "sacred-result",
        "outputId": "eb97c720-b40a-4bc1-c368-33926e2cef7e"
      },
      "outputs": [
        {
          "data": {
            "image/png": "[encoded data removed]",
            "text/plain": [
              "<Figure size 432x288 with 1 Axes>"
            ]
          },
          "metadata": {
            "needs_background": "light"
          },
          "output_type": "display_data"
        }
      ],
      "source": [
        "# Reference: https://medium.com/@prudhvirajnitjsr/simple-classifier-using-pytorch-37fba175c25c\n",
        "def predict(model, x):\n",
        "    # Convert into numpy element to tensor\n",
        "    x = torch.from_numpy(x).type(torch.FloatTensor)\n",
        "    # Predict and return ans\n",
        "    ans = model(x)\n",
        "    return ans.detach().numpy()\n",
        "\n",
        "def plot_decision_boundary(model, X, y):\n",
        "    def pred_func(x): return predict(model, x)\n",
        "\n",
        "    # Set min and max values and give it some padding\n",
        "    x_min, x_max = X[:, 0].min() - .5, X[:, 0].max() + .5\n",
        "    y_min, y_max = X[:, 1].min() - .5, X[:, 1].max() + .5\n",
        "    h = 0.01\n",
        "    # Generate a grid of points with distance h between them\n",
        "    xx, yy = np.meshgrid(np.arange(x_min, x_max, h),\n",
        "                         np.arange(y_min, y_max, h))\n",
        "    # Predict the function value for the whole gid\n",
        "    Z = pred_func(np.c_[xx.ravel(), yy.ravel()])\n",
        "    Z = Z.reshape(xx.shape)\n",
        "    # Plot the contour and training examples\n",
        "    plt.contourf(xx, yy, Z, cmap=\"Spectral\")\n",
        "    X_a = X[y == 0]\n",
        "    X_b = X[y == 1]\n",
        "    plt.scatter(X_a[:, 0], X_a[:, 1], c=\"white\", s=15)\n",
        "    plt.scatter(X_b[:, 0], X_b[:, 1], c=\"c\", s=15)\n",
        "    plt.show()\n",
        "    \n",
        "# plot decision boundary\n",
        "plot_decision_boundary(model, X, y)"
      ]
    },
    {
      "cell_type": "markdown",
      "id": "metropolitan-james",
      "metadata": {
        "id": "metropolitan-james"
      },
      "source": [
        "## Handling large dataset: Mini-batch training\n",
        "\n",
        "In real world, we always have to deal with datasets with large scale (e.g. millions of data).\n",
        "\n",
        "In these cases, it is impractical for using gradient descent to optmize our parameters. \n",
        "\n",
        "Therefore, a more widely used method is to split the dataset into small batches and compute gradients based on the subset.\n",
        "\n",
        "To utilize mimi-batch training, you need \n",
        "* Aggregate X and Y into `TensorDataset`\n",
        "* Create `DataLoader` object and specify your batch size"
      ]
    },
    {
      "cell_type": "code",
      "execution_count": null,
      "id": "duplicate-saint",
      "metadata": {
        "id": "duplicate-saint",
        "outputId": "9516eb69-f6b7-4925-8393-edc8e62d7fa9",
        "colab": {
          "referenced_widgets": [
            "14517ebbb81b47098d2ea7871d0904f4",
            "7be1f66aee224ee6b7aa1fde0354f9b6",
            "e030a8f476bb448e9f47f4f30b11dae8",
            "34d8213ac16a46bdbfd2ea369455cddf"
          ]
        }
      },
      "outputs": [
        {
          "name": "stdout",
          "output_type": "stream",
          "text": [
            "Downloading http://yann.lecun.com/exdb/mnist/train-images-idx3-ubyte.gz to ./mnist/MNIST\\raw\\train-images-idx3-ubyte.gz\n"
          ]
        },
        {
          "data": {
            "application/vnd.jupyter.widget-view+json": {
              "model_id": "14517ebbb81b47098d2ea7871d0904f4",
              "version_major": 2,
              "version_minor": 0
            },
            "text/plain": [
              "HBox(children=(FloatProgress(value=1.0, bar_style='info', max=1.0), HTML(value='')))"
            ]
          },
          "metadata": {},
          "output_type": "display_data"
        },
        {
          "name": "stdout",
          "output_type": "stream",
          "text": [
            "Extracting ./mnist/MNIST\\raw\\train-images-idx3-ubyte.gz to ./mnist/MNIST\\raw\n",
            "Downloading http://yann.lecun.com/exdb/mnist/train-labels-idx1-ubyte.gz to ./mnist/MNIST\\raw\\train-labels-idx1-ubyte.gz\n"
          ]
        },
        {
          "data": {
            "application/vnd.jupyter.widget-view+json": {
              "model_id": "7be1f66aee224ee6b7aa1fde0354f9b6",
              "version_major": 2,
              "version_minor": 0
            },
            "text/plain": [
              "HBox(children=(FloatProgress(value=1.0, bar_style='info', max=1.0), HTML(value='')))"
            ]
          },
          "metadata": {},
          "output_type": "display_data"
        },
        {
          "name": "stdout",
          "output_type": "stream",
          "text": [
            "Extracting ./mnist/MNIST\\raw\\train-labels-idx1-ubyte.gz to ./mnist/MNIST\\raw\n",
            "Downloading http://yann.lecun.com/exdb/mnist/t10k-images-idx3-ubyte.gz to ./mnist/MNIST\\raw\\t10k-images-idx3-ubyte.gz\n"
          ]
        },
        {
          "data": {
            "application/vnd.jupyter.widget-view+json": {
              "model_id": "e030a8f476bb448e9f47f4f30b11dae8",
              "version_major": 2,
              "version_minor": 0
            },
            "text/plain": [
              "HBox(children=(FloatProgress(value=1.0, bar_style='info', max=1.0), HTML(value='')))"
            ]
          },
          "metadata": {},
          "output_type": "display_data"
        },
        {
          "name": "stdout",
          "output_type": "stream",
          "text": [
            "Extracting ./mnist/MNIST\\raw\\t10k-images-idx3-ubyte.gz to ./mnist/MNIST\\raw\n",
            "Downloading http://yann.lecun.com/exdb/mnist/t10k-labels-idx1-ubyte.gz to ./mnist/MNIST\\raw\\t10k-labels-idx1-ubyte.gz\n"
          ]
        },
        {
          "data": {
            "application/vnd.jupyter.widget-view+json": {
              "model_id": "34d8213ac16a46bdbfd2ea369455cddf",
              "version_major": 2,
              "version_minor": 0
            },
            "text/plain": [
              "HBox(children=(FloatProgress(value=1.0, bar_style='info', max=1.0), HTML(value='')))"
            ]
          },
          "metadata": {},
          "output_type": "display_data"
        },
        {
          "name": "stdout",
          "output_type": "stream",
          "text": [
            "Extracting ./mnist/MNIST\\raw\\t10k-labels-idx1-ubyte.gz to ./mnist/MNIST\\raw\n",
            "Processing...\n",
            "\n",
            "\n",
            "\n",
            "Done!\n",
            "Training size: torch.Size([60000, 28, 28])\n",
            "Testing size: torch.Size([10000, 28, 28])\n"
          ]
        },
        {
          "name": "stderr",
          "output_type": "stream",
          "text": [
            "C:\\Users\\USER\\.conda\\envs\\py3.7\\lib\\site-packages\\torchvision\\datasets\\mnist.py:480: UserWarning: The given NumPy array is not writeable, and PyTorch does not support non-writeable tensors. This means you can write to the underlying (supposedly non-writeable) NumPy array using the tensor. You may want to copy the array to protect its data or make it writeable before converting it to a tensor. This type of warning will be suppressed for the rest of this program. (Triggered internally at  ..\\torch\\csrc\\utils\\tensor_numpy.cpp:141.)\n",
            "  return torch.from_numpy(parsed.astype(m[2], copy=False)).view(*s)\n"
          ]
        }
      ],
      "source": [
        "import torchvision\n",
        "from torch.utils.data import DataLoader, TensorDataset\n",
        "from torchvision import datasets, transforms\n",
        "\n",
        "# 獲取訓練集dataset  \n",
        "transform = transforms.Compose(\n",
        "    [transforms.ToTensor(),\n",
        "     transforms.Normalize((0.5,), (0.5,)),]\n",
        ")\n",
        "training_data = torchvision.datasets.MNIST(  \n",
        "             root='./mnist/', # dataset儲存路徑  \n",
        "             train=True, # True表示是train訓練集，False表示test測試集  \n",
        "             transform=transform, # 將原資料規範化到（0,1）區間  \n",
        "             download=True,  \n",
        "             )  \n",
        "test_data = torchvision.datasets.MNIST(  \n",
        "             root='./mnist/', # dataset儲存路徑  \n",
        "             train=False, # True表示是train訓練集，False表示test測試集  \n",
        "             transform=transform, # 將原資料規範化到（0,1）區間  \n",
        "             download=True,  \n",
        "             )  \n",
        "\n",
        "train_x, train_y = training_data.data, training_data.targets\n",
        "test_x, test_y = test_data.data, test_data.targets\n",
        "print(\"Training size:\",train_x.shape)\n",
        "print(\"Testing size:\",test_x.shape)"
      ]
    },
    {
      "cell_type": "code",
      "execution_count": null,
      "id": "oriental-liberty",
      "metadata": {
        "id": "oriental-liberty",
        "outputId": "7452ab1b-9510-47fc-dc9c-14be5ec56231"
      },
      "outputs": [
        {
          "name": "stdout",
          "output_type": "stream",
          "text": [
            "\n"
          ]
        },
        {
          "data": {
            "image/png": "[encoded data removed]",
            "text/plain": [
              "<Figure size 720x504 with 5 Axes>"
            ]
          },
          "metadata": {
            "needs_background": "light"
          },
          "output_type": "display_data"
        }
      ],
      "source": [
        "import numpy as np \n",
        "import matplotlib.pyplot as plt \n",
        "import torch \n",
        "import torch.nn as nn\n",
        "\n",
        "samples = np.random.randint(0,train_x.size(0),size=5)\n",
        "plt.figure(figsize=(10,7))\n",
        "for i in range(1,6):\n",
        "    plt.subplot(f\"15{i}\")\n",
        "    plt.imshow(train_x[samples[i-1]].numpy(),cmap=\"binary\")\n",
        "    plt.title(f\"Label:{train_y[samples[i-1]]}\")"
      ]
    },
    {
      "cell_type": "code",
      "execution_count": null,
      "id": "focal-company",
      "metadata": {
        "id": "focal-company",
        "outputId": "65f68c47-9ba5-49b2-d2d8-714b887c5213"
      },
      "outputs": [
        {
          "name": "stdout",
          "output_type": "stream",
          "text": [
            "torch.Size([32, 28, 28])\n",
            "torch.Size([32])\n"
          ]
        }
      ],
      "source": [
        "# combine X and Y into tensordataset\n",
        "train_dataset = TensorDataset(train_x, train_y)\n",
        "\n",
        "# create a dataloader\n",
        "# Note: you CAN NOT feed torch.tensor into dataloader\n",
        "train_loader = DataLoader(\n",
        "    dataset=train_dataset,\n",
        "    batch_size=32,\n",
        "    shuffle=True,\n",
        "    num_workers=4\n",
        ")\n",
        "\n",
        "for batch in train_loader:\n",
        "    # batch is a tuple containing x and y\n",
        "    batch_x, batch_y = batch\n",
        "    print(batch_x.shape)\n",
        "    print(batch_y.shape)\n",
        "    break"
      ]
    },
    {
      "cell_type": "code",
      "execution_count": null,
      "id": "material-apollo",
      "metadata": {
        "id": "material-apollo",
        "outputId": "2e8ef7e8-d4b8-4e8e-be54-1c7ebd59a4cb"
      },
      "outputs": [
        {
          "name": "stdout",
          "output_type": "stream",
          "text": [
            "Loss: 10.3002, Accuracy: 0.0938\n",
            "Loss: 0.1255, Accuracy: 0.9688\n",
            "Loss: 0.1247, Accuracy: 0.9375\n",
            "Loss: 0.2716, Accuracy: 0.9062\n",
            "Loss: 0.2138, Accuracy: 0.9375\n",
            "Loss: 0.2291, Accuracy: 0.9062\n",
            "Loss: 0.1102, Accuracy: 0.9688\n"
          ]
        }
      ],
      "source": [
        "# define model and other configs\n",
        "model = nn.Sequential(\n",
        "          nn.Linear(28*28,256),\n",
        "          nn.LeakyReLU(negative_slope=0.02),\n",
        "          nn.Linear(256,128),\n",
        "          nn.LeakyReLU(negative_slope=0.02),\n",
        "          nn.Linear(128,10)\n",
        "        )\n",
        "loss_func = nn.CrossEntropyLoss()\n",
        "optimizer = torch.optim.Adam(model.parameters())\n",
        "\n",
        "# combine dataloader with model training\n",
        "num_epochs = 1\n",
        "for epoch in range(num_epochs):\n",
        "    for batch_idx, batch in enumerate(train_loader):\n",
        "        batch_x, batch_y = batch\n",
        "        batch_x = batch_x.float()\n",
        "        output = model(batch_x.view(-1,28*28))\n",
        "        loss = loss_func(output,batch_y)\n",
        "        optimizer.zero_grad()\n",
        "        loss.backward()\n",
        "        optimizer.step()\n",
        "        if batch_idx % 300 ==0:\n",
        "            pred_y = torch.max(output,1)[1].data.squeeze()\n",
        "            accuracy = sum(pred_y==batch_y) / float(batch_y.size(0))\n",
        "            print(\"Loss: %.4f, Accuracy: %.4f\" % (loss.item(), accuracy))"
      ]
    }
  ],
  "metadata": {
    "kernelspec": {
      "display_name": "Python 3",
      "language": "python",
      "name": "python3"
    },
    "language_info": {
      "codemirror_mode": {
        "name": "ipython",
        "version": 3
      },
      "file_extension": ".py",
      "mimetype": "text/x-python",
      "name": "python",
      "nbconvert_exporter": "python",
      "pygments_lexer": "ipython3",
      "version": "3.7.9"
    },
    "toc": {
      "base_numbering": 1,
      "nav_menu": {},
      "number_sections": true,
      "sideBar": true,
      "skip_h1_title": false,
      "title_cell": "Table of Contents",
      "title_sidebar": "Contents",
      "toc_cell": false,
      "toc_position": {},
      "toc_section_display": true,
      "toc_window_display": false
    },
    "varInspector": {
      "cols": {
        "lenName": 16,
        "lenType": 16,
        "lenVar": 40
      },
      "kernels_config": {
        "python": {
          "delete_cmd_postfix": "",
          "delete_cmd_prefix": "del ",
          "library": "var_list.py",
          "varRefreshCmd": "print(var_dic_list())"
        },
        "r": {
          "delete_cmd_postfix": ") ",
          "delete_cmd_prefix": "rm(",
          "library": "var_list.r",
          "varRefreshCmd": "cat(var_dic_list()) "
        }
      },
      "types_to_exclude": [
        "module",
        "function",
        "builtin_function_or_method",
        "instance",
        "_Feature"
      ],
      "window_display": true
    },
    "colab": {
      "provenance": [],
      "include_colab_link": true
    }
  },
  "nbformat": 4,
  "nbformat_minor": 5
}