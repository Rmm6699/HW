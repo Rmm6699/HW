{
  "cells": [
    {
      "cell_type": "markdown",
      "metadata": {
        "id": "view-in-github",
        "colab_type": "text"
      },
      "source": [
        "<a href=\"https://colab.research.google.com/github/Rmm6699/HW/blob/master/W1_TA_sklearn.ipynb\" target=\"_parent\"><img src=\"https://colab.research.google.com/assets/colab-badge.svg\" alt=\"Open In Colab\"/></a>"
      ]
    },
    {
      "cell_type": "code",
      "execution_count": null,
      "metadata": {
        "id": "-Rw-9W2Sorkc"
      },
      "outputs": [],
      "source": [
        "import numpy as np \n",
        "import pandas as pd \n",
        "import matplotlib.pyplot as plt\n",
        "from sklearn import datasets\n",
        "from sklearn.model_selection import train_test_split\n",
        "from sklearn.metrics import accuracy_score, ConfusionMatrixDisplay"
      ]
    },
    {
      "cell_type": "code",
      "execution_count": null,
      "metadata": {
        "id": "HQrswRYVorkd"
      },
      "outputs": [],
      "source": [
        "def show_digits(imgs, preds=None):\n",
        "    fig = plt.figure(figsize=(16, 10))\n",
        "    for i in range(8):\n",
        "        ax = fig.add_subplot(1, 8, i+1)\n",
        "        ax.imshow(imgs[i].reshape(8, 8), cmap=plt.cm.gray)\n",
        "        ax.set_axis_off()\n",
        "        if preds is not None:\n",
        "            ax.set_title('pred: {}'.format(preds[i]))\n",
        "    plt.show()"
      ]
    },
    {
      "cell_type": "markdown",
      "metadata": {
        "id": "qrBzhSbzorke"
      },
      "source": [
        "## Data preprocessing & Split dataset"
      ]
    },
    {
      "cell_type": "code",
      "execution_count": null,
      "metadata": {
        "id": "py5vRkgGorkf",
        "outputId": "02feca25-7b53-45c7-8ce2-3d0340a5ee68"
      },
      "outputs": [
        {
          "data": {
            "image/png": "[encoded data removed]",
            "text/plain": [
              "<Figure size 1152x720 with 8 Axes>"
            ]
          },
          "metadata": {
            "needs_background": "light"
          },
          "output_type": "display_data"
        },
        {
          "name": "stdout",
          "output_type": "stream",
          "text": [
            "Size of dataset -> X: (1797, 64), Y: (1797,)\n",
            "X:\n",
            " [[ 0.  0.  5. 13.  9.  1.  0.  0.  0.  0. 13. 15. 10. 15.  5.  0.  0.  3.\n",
            "  15.  2.  0. 11.  8.  0.  0.  4. 12.  0.  0.  8.  8.  0.  0.  5.  8.  0.\n",
            "   0.  9.  8.  0.  0.  4. 11.  0.  1. 12.  7.  0.  0.  2. 14.  5. 10. 12.\n",
            "   0.  0.  0.  0.  6. 13. 10.  0.  0.  0.]\n",
            " [ 0.  0.  0. 12. 13.  5.  0.  0.  0.  0.  0. 11. 16.  9.  0.  0.  0.  0.\n",
            "   3. 15. 16.  6.  0.  0.  0.  7. 15. 16. 16.  2.  0.  0.  0.  0.  1. 16.\n",
            "  16.  3.  0.  0.  0.  0.  1. 16. 16.  6.  0.  0.  0.  0.  1. 16. 16.  6.\n",
            "   0.  0.  0.  0.  0. 11. 16. 10.  0.  0.]]\n",
            "Y:\n",
            " [0 1]\n"
          ]
        }
      ],
      "source": [
        "digits = datasets.load_digits()\n",
        "show_digits(digits.data)\n",
        "print('Size of dataset -> X: {}, Y: {}'.format(digits.data.shape, digits.target.shape))\n",
        "print('X:\\n', digits.data[:2])\n",
        "print('Y:\\n', digits.target[:2])"
      ]
    },
    {
      "cell_type": "code",
      "execution_count": null,
      "metadata": {
        "id": "TRFBDxx6orkg",
        "outputId": "15cb8426-3478-47aa-9a1a-ce92e11aa4d7"
      },
      "outputs": [
        {
          "name": "stdout",
          "output_type": "stream",
          "text": [
            "Size of training dataset -> X: (1347, 64), Y: (1347,)\n",
            "Size of testing dataset  -> X: (450, 64), Y: (450,)\n"
          ]
        }
      ],
      "source": [
        "train_x, test_x, train_y, test_y = train_test_split(digits.data, digits.target, test_size=0.25, shuffle=True, random_state=2022)\n",
        "train_x.shape, train_y.shape\n",
        "print('Size of training dataset -> X: {}, Y: {}'.format(train_x.shape, train_y.shape))\n",
        "print('Size of testing dataset  -> X: {}, Y: {}'.format(test_x.shape, test_y.shape))"
      ]
    },
    {
      "cell_type": "markdown",
      "metadata": {
        "id": "5HQeoPgBorkh"
      },
      "source": [
        "## Basic Classifier Model"
      ]
    },
    {
      "cell_type": "markdown",
      "metadata": {
        "id": "abDnZDUQorkh"
      },
      "source": [
        "### 1. KNN (K-Nearest Neighbors, [doc.](https://scikit-learn.org/stable/modules/generated/sklearn.neighbors.KNeighborsClassifier.html)) \n",
        "*   n_neighbors: number of neighbors to use by default for k neighbors queries, default=5"
      ]
    },
    {
      "cell_type": "code",
      "execution_count": null,
      "metadata": {
        "id": "FvvgK505orkh",
        "outputId": "62dfb0c2-429a-4965-e4fa-7c90b19f4cca"
      },
      "outputs": [
        {
          "name": "stdout",
          "output_type": "stream",
          "text": [
            "Accuracy of testing dataset: 0.9778\n"
          ]
        },
        {
          "data": {
            "image/png": "[encoded data removed]",
            "text/plain": [
              "<Figure size 1152x720 with 8 Axes>"
            ]
          },
          "metadata": {
            "needs_background": "light"
          },
          "output_type": "display_data"
        }
      ],
      "source": [
        "from sklearn.neighbors import KNeighborsClassifier\n",
        "\n",
        "# Create the model\n",
        "clf = KNeighborsClassifier(n_neighbors=5)\n",
        "\n",
        "# Learn the digits on the train subset\n",
        "clf.fit(train_x, train_y)\n",
        "\n",
        "# Predict the value of the digit on the testing subset\n",
        "preds = clf.predict(test_x)\n",
        "\n",
        "# Calculate accuracy\n",
        "accuracy = accuracy_score(test_y, preds)\n",
        "print('Accuracy of testing dataset: {:.4f}'.format(accuracy))\n",
        "\n",
        "#  Visualize the first 8 test samples and show their predicted digit value in the title\n",
        "show_digits(test_x, preds)"
      ]
    },
    {
      "cell_type": "code",
      "execution_count": null,
      "metadata": {
        "id": "Q7Vw0Fmworki",
        "outputId": "05f4e691-613d-43e9-8cd9-8fa65527952c"
      },
      "outputs": [
        {
          "name": "stdout",
          "output_type": "stream",
          "text": [
            "Confusion matrix:\n",
            " [[45  0  0  0  0  0  0  0  0  0]\n",
            " [ 0 49  0  0  0  0  0  0  0  0]\n",
            " [ 0  0 40  1  0  0  0  0  0  0]\n",
            " [ 0  0  0 45  0  0  0  1  0  0]\n",
            " [ 0  0  0  0 47  0  0  0  0  0]\n",
            " [ 0  0  0  0  0 51  1  0  0  2]\n",
            " [ 0  1  0  0  0  0 44  0  0  0]\n",
            " [ 0  0  0  0  0  0  0 42  0  0]\n",
            " [ 0  1  0  0  0  0  0  0 39  0]\n",
            " [ 0  1  0  1  1  0  0  0  0 38]]\n"
          ]
        },
        {
          "data": {
            "image/png": "[encoded data removed]",
            "text/plain": [
              "<Figure size 432x288 with 2 Axes>"
            ]
          },
          "metadata": {
            "needs_background": "light"
          },
          "output_type": "display_data"
        }
      ],
      "source": [
        "# Confusion matrix visualization \n",
        "cm = ConfusionMatrixDisplay.from_estimator(clf, test_x, test_y)\n",
        "cm.figure_.suptitle(\"Confusion Matrix\")\n",
        "print(\"Confusion matrix:\\n\", cm.confusion_matrix)\n",
        "plt.show()"
      ]
    },
    {
      "cell_type": "markdown",
      "metadata": {
        "id": "1Tq4-ECCorki"
      },
      "source": [
        "### 2. Logistic regression ([doc.](https://scikit-learn.org/stable/modules/generated/sklearn.linear_model.LogisticRegression.html))\n",
        "*   penalty: Used to specify the norm used in the penalization, {l1, l2, elasticnet, none}, default=’l2’"
      ]
    },
    {
      "cell_type": "code",
      "execution_count": null,
      "metadata": {
        "id": "2lCs8AMSorki",
        "outputId": "05b0e11e-a188-4231-d268-a4509911fe26"
      },
      "outputs": [
        {
          "name": "stdout",
          "output_type": "stream",
          "text": [
            "Accuracy of testing dataset: 0.9378\n"
          ]
        },
        {
          "data": {
            "image/png": "[encoded data removed]",
            "text/plain": [
              "<Figure size 1152x720 with 8 Axes>"
            ]
          },
          "metadata": {
            "needs_background": "light"
          },
          "output_type": "display_data"
        }
      ],
      "source": [
        "from sklearn.linear_model import LogisticRegression\n",
        "\n",
        "# Create the model\n",
        "clf = LogisticRegression(penalty='none')\n",
        "\n",
        "# Learn the digits on the train subset\n",
        "clf.fit(train_x, train_y)\n",
        "\n",
        "# Predict the value of the digit on the testing subset\n",
        "preds = clf.predict(test_x)\n",
        "\n",
        "# Calculate accuracy\n",
        "accuracy = accuracy_score(test_y, preds)\n",
        "print('Accuracy of testing dataset: {:.4f}'.format(accuracy))\n",
        "\n",
        "#  Visualize the first 8 test samples and show their predicted digit value in the title\n",
        "show_digits(test_x, preds)"
      ]
    },
    {
      "cell_type": "markdown",
      "metadata": {
        "id": "1p65VfFSorkj"
      },
      "source": [
        "### 3. SVM (Support Vector Machines, [doc.](https://scikit-learn.org/stable/modules/generated/sklearn.svm.SVC.html#sklearn.svm.SVC))\n",
        "*   gamma: kernel coefficient for ‘rbf’, ‘poly’ and ‘sigmoid’, {scale, auto} or float, default=’scale’\n",
        "*   C: regularization parameter, the strength of the regularization is inversely proportional to C, default=1.0\n",
        "*   kernel: specifies the kernel type to be used in the algorithm, {linear, poly, rbf, sigmoid, precomputed}, default=’rbf’"
      ]
    },
    {
      "cell_type": "code",
      "execution_count": null,
      "metadata": {
        "id": "CIBDxdCIorkj",
        "outputId": "ad9d6518-bb9a-4ae1-ebab-20639a718600"
      },
      "outputs": [
        {
          "name": "stdout",
          "output_type": "stream",
          "text": [
            "Accuracy of testing dataset: 0.9778\n"
          ]
        },
        {
          "data": {
            "image/png": "[encoded data removed]",
            "text/plain": [
              "<Figure size 1152x720 with 8 Axes>"
            ]
          },
          "metadata": {
            "needs_background": "light"
          },
          "output_type": "display_data"
        }
      ],
      "source": [
        "from sklearn import svm\n",
        "\n",
        "# Create the model\n",
        "clf = svm.SVC(gamma='auto', C=1., kernel='linear')\n",
        "\n",
        "# Learn the digits on the train subset\n",
        "clf.fit(train_x, train_y)\n",
        "\n",
        "# Predict the value of the digit on the testing subset\n",
        "preds = clf.predict(test_x)\n",
        "\n",
        "# Calculate accuracy\n",
        "accuracy = accuracy_score(test_y, preds)\n",
        "print('Accuracy of testing dataset: {:.4f}'.format(accuracy))\n",
        "\n",
        "#  Visualize the first 8 test samples and show their predicted digit value in the title\n",
        "show_digits(test_x, preds)"
      ]
    },
    {
      "cell_type": "markdown",
      "metadata": {
        "id": "wi7suWs5orkk"
      },
      "source": [
        "### 4. Decision Tree ([doc.](https://scikit-learn.org/stable/modules/generated/sklearn.tree.DecisionTreeClassifier.html))\n",
        "*   criterion: The function to measure the quality of a split. Supported criteria are “gini” for the Gini impurity and “entropy” for the information gain. {“gini”, “entropy”}, default=”gini”\n",
        "*   max_depth: The maximum depth of the tree. If None, then nodes are expanded until all leaves are pure or until all leaves contain less than min_samples_split samples."
      ]
    },
    {
      "cell_type": "code",
      "execution_count": null,
      "metadata": {
        "id": "Pmb1-W1Yorkk",
        "outputId": "cf297cc1-18d3-416f-e440-5f5a86d6e93e"
      },
      "outputs": [
        {
          "name": "stdout",
          "output_type": "stream",
          "text": [
            "Accuracy of testing dataset: 0.8422\n"
          ]
        },
        {
          "data": {
            "image/png": "[encoded data removed]",
            "text/plain": [
              "<Figure size 1152x720 with 8 Axes>"
            ]
          },
          "metadata": {
            "needs_background": "light"
          },
          "output_type": "display_data"
        }
      ],
      "source": [
        "from sklearn.tree import DecisionTreeClassifier\n",
        "\n",
        "# Create the model\n",
        "clf = DecisionTreeClassifier(max_depth=8, criterion='gini')\n",
        "\n",
        "# Learn the digits on the train subset\n",
        "clf.fit(train_x, train_y)\n",
        "\n",
        "# Predict the value of the digit on the testing subset\n",
        "preds = clf.predict(test_x)\n",
        "\n",
        "# Calculate accuracy\n",
        "accuracy = accuracy_score(test_y, preds)\n",
        "print('Accuracy of testing dataset: {:.4f}'.format(accuracy))\n",
        "\n",
        "#  Visualize the first 8 test samples and show their predicted digit value in the title\n",
        "show_digits(test_x, preds)"
      ]
    },
    {
      "cell_type": "markdown",
      "metadata": {
        "id": "Z6qlhskiorkk"
      },
      "source": [
        "### 5. Random Forest ([doc.](https://scikit-learn.org/stable/modules/generated/sklearn.ensembleRandomForestClassifier.html))\n",
        "*   n_estimators: the number of trees in the forest, default=100\n",
        "*   max_depth: the maximum depth of the tree, default=None\n",
        "\n"
      ]
    },
    {
      "cell_type": "code",
      "execution_count": null,
      "metadata": {
        "id": "Xnnj9XxPorkk",
        "outputId": "b68ea47a-c85a-4409-856e-3df1f2be0841"
      },
      "outputs": [
        {
          "name": "stdout",
          "output_type": "stream",
          "text": [
            "Accuracy of testing dataset: 0.9689\n"
          ]
        },
        {
          "data": {
            "image/png": "[encoded data removed]",
            "text/plain": [
              "<Figure size 1152x720 with 8 Axes>"
            ]
          },
          "metadata": {
            "needs_background": "light"
          },
          "output_type": "display_data"
        }
      ],
      "source": [
        "from sklearn.ensemble import RandomForestClassifier\n",
        "\n",
        "# Create the model\n",
        "clf = RandomForestClassifier(n_estimators=100)\n",
        "\n",
        "# Learn the digits on the train subset\n",
        "clf.fit(train_x, train_y)\n",
        "\n",
        "# Predict the value of the digit on the testing subset\n",
        "preds = clf.predict(test_x)\n",
        "\n",
        "# Calculate accuracy\n",
        "accuracy = accuracy_score(test_y, preds)\n",
        "print('Accuracy of testing dataset: {:.4f}'.format(accuracy))\n",
        "\n",
        "#  Visualize the first 8 test samples and show their predicted digit value in the title\n",
        "show_digits(test_x, preds)"
      ]
    },
    {
      "cell_type": "markdown",
      "metadata": {
        "id": "7FmZJKxforkl"
      },
      "source": [
        "### 5. MLP (Multi-layer Perceptron classifier, [doc.](https://scikit-learn.org/stable/modules/generatedsklearn.neural_network.MLPClassifier.html))\n",
        "*   hidden_layer_sizes: The ith element represents the number of neurons in the ith hidden layer, default(100,)\n",
        "*   activation: activation function, {identity, logistic, tanh, relu}, , default=’adam’\n",
        "*   solver: optimizer, {lbfgs, sgd, adam}, default=’adam’\n",
        "*   alpha: L2 penalty (regularization term) parameter, default=0.0001\n",
        "*   batch_size: size of minibatches, default=’auto’"
      ]
    },
    {
      "cell_type": "code",
      "execution_count": null,
      "metadata": {
        "id": "W_JINbCXorkl",
        "outputId": "9a4e5779-c7e7-4185-fe50-28f8504791c6"
      },
      "outputs": [
        {
          "name": "stdout",
          "output_type": "stream",
          "text": [
            "Accuracy of testing dataset: 0.9733\n"
          ]
        },
        {
          "data": {
            "image/png": "[encoded data removed]",
            "text/plain": [
              "<Figure size 1152x720 with 8 Axes>"
            ]
          },
          "metadata": {
            "needs_background": "light"
          },
          "output_type": "display_data"
        }
      ],
      "source": [
        "from sklearn.neural_network import MLPClassifier\n",
        "\n",
        "# Create the model\n",
        "clf = MLPClassifier(hidden_layer_sizes=(512, 128, 32), learning_rate_init=1e-4, activation='relu', solver='adam', batch_size=64, max_iter=100, random_state=1)\n",
        "\n",
        "# Learn the digits on the train subset\n",
        "clf.fit(train_x, train_y)\n",
        "\n",
        "# Predict the value of the digit on the testing subset\n",
        "preds = clf.predict(test_x)\n",
        "\n",
        "# Calculate accuracy\n",
        "accuracy = accuracy_score(test_y, preds)\n",
        "print('Accuracy of testing dataset: {:.4f}'.format(accuracy))\n",
        "\n",
        "#  Visualize the first 8 test samples and show their predicted digit value in the title\n",
        "show_digits(test_x, preds)"
      ]
    },
    {
      "cell_type": "markdown",
      "metadata": {
        "id": "lPnVwP64orkl"
      },
      "source": [
        "## Gradient Boosting Models"
      ]
    },
    {
      "cell_type": "markdown",
      "metadata": {
        "id": "t4GwFRoeorkm"
      },
      "source": [
        "### 1. XGBoost ([doc.](https://xgboost.readthedocs.io/en/latest/python/python_api.html))\n",
        "*   n_estimators: number of boosting rounds\n",
        "*   learning_rate: boosting learning rate\n",
        "*   max_depth: maximum tree depth for base learners\n",
        "*   objective: specify the learning task and the corresponding learning objective or a custom objective function to be used"
      ]
    },
    {
      "cell_type": "code",
      "execution_count": null,
      "metadata": {
        "id": "lTnkUPT8orkm",
        "outputId": "50c71012-dfd5-4f5c-eeb7-c54c9916f1e1"
      },
      "outputs": [
        {
          "name": "stdout",
          "output_type": "stream",
          "text": [
            "[21:30:37] WARNING: C:/Users/Administrator/workspace/xgboost-win64_release_1.5.0/src/learner.cc:1115: Starting in XGBoost 1.3.0, the default evaluation metric used with the objective 'multi:softprob' was changed from 'merror' to 'mlogloss'. Explicitly set eval_metric if you'd like to restore the old behavior.\n",
            "Accuracy of testing dataset: 0.9556\n"
          ]
        },
        {
          "data": {
            "image/png": "[encoded data removed]",
            "text/plain": [
              "<Figure size 1152x720 with 8 Axes>"
            ]
          },
          "metadata": {
            "needs_background": "light"
          },
          "output_type": "display_data"
        }
      ],
      "source": [
        "from xgboost import XGBClassifier\n",
        "\n",
        "# Create the model\n",
        "clf = XGBClassifier(n_estimators=200, learning_rate=0.1, max_depth=6, objective='multi:logistic', use_label_encoder=False)\n",
        "\n",
        "# Learn the digits on the train subset\n",
        "clf.fit(train_x, train_y)\n",
        "\n",
        "# Predict the value of the digit on the testing subset\n",
        "preds = clf.predict(test_x)\n",
        "\n",
        "# Calculate accuracy\n",
        "accuracy = accuracy_score(test_y, preds)\n",
        "print('Accuracy of testing dataset: {:.4f}'.format(accuracy))\n",
        "\n",
        "#  Visualize the first 8 test samples and show their predicted digit value in the title\n",
        "show_digits(test_x, preds)"
      ]
    },
    {
      "cell_type": "markdown",
      "metadata": {
        "id": "uG6M8v-8orkm"
      },
      "source": [
        "### 2. LightGBM ([doc.](https://lightgbm.readthedocs.io/en/latest/Parameters.html))\n",
        "*   objective: specifies the application of your model, {regression, binary, multiclass},default='regression'\n",
        "*   boosting: defines the type of algorithm you want to run, {gdbt, rf, dart, goss} default=gdbt\n",
        "*   learning_rate : controls the magnitude of this change in the estimates, typical values: 0.1, 0.001, 0.003…\n",
        "*   max_depth: the maximum depth of tree. This parameter is used to handle model overfitting. If you feelthat your model is overfitted, you should to lower max_depth"
      ]
    },
    {
      "cell_type": "code",
      "execution_count": null,
      "metadata": {
        "id": "t3UA27sYorkm",
        "outputId": "2cf0520b-0f4b-489e-a80e-b597ab5a2e2f"
      },
      "outputs": [
        {
          "name": "stdout",
          "output_type": "stream",
          "text": [
            "Accuracy of testing dataset: 0.9622\n"
          ]
        },
        {
          "data": {
            "image/png": "[encoded data removed]",
            "text/plain": [
              "<Figure size 1152x720 with 8 Axes>"
            ]
          },
          "metadata": {
            "needs_background": "light"
          },
          "output_type": "display_data"
        }
      ],
      "source": [
        "from lightgbm import LGBMClassifier\n",
        "\n",
        "# Create the model\n",
        "clf = LGBMClassifier(n_estimators=200, learning_rate=0.1, max_depth=6, objective='multiclass', boosting_type='gbdt')\n",
        "\n",
        "# Learn the digits on the train subset\n",
        "clf.fit(train_x, train_y)\n",
        "\n",
        "# Predict the value of the digit on the testing subset\n",
        "preds = clf.predict(test_x)\n",
        "\n",
        "# Calculate accuracy\n",
        "accuracy = accuracy_score(test_y, preds)\n",
        "print('Accuracy of testing dataset: {:.4f}'.format(accuracy))\n",
        "\n",
        "#  Visualize the first 8 test samples and show their predicted digit value in the title\n",
        "show_digits(test_x, preds)"
      ]
    },
    {
      "cell_type": "markdown",
      "metadata": {
        "id": "U0gr0nFqorkn"
      },
      "source": [
        "### 3. CatBoost ([doc.](https://catboost.ai/docs/concepts/python-reference_parameters-list.html#python-reference_parameters-list))\n",
        "*   iterations: the maximum number of trees that can be built when solving machine learning problems, default=1000\n",
        "*   learning_rate: the learning rate, used for reducing the gradient step\n",
        "*   depth: depth of the tree, default=6\n",
        "*   loss_function: the metric to use in training, the specified value also determines the machine learning problem to solve\n"
      ]
    },
    {
      "cell_type": "code",
      "execution_count": null,
      "metadata": {
        "id": "yoZNkQZ_orkn",
        "outputId": "a0473c6b-3832-4592-bb17-4870005d9488"
      },
      "outputs": [
        {
          "name": "stdout",
          "output_type": "stream",
          "text": [
            "Accuracy of testing dataset: 0.9689\n"
          ]
        },
        {
          "data": {
            "image/png": "[encoded data removed]",
            "text/plain": [
              "<Figure size 1152x720 with 8 Axes>"
            ]
          },
          "metadata": {
            "needs_background": "light"
          },
          "output_type": "display_data"
        }
      ],
      "source": [
        "from catboost import CatBoostClassifier\n",
        "\n",
        "# Create the model\n",
        "clf = CatBoostClassifier(iterations=200, learning_rate=0.1, depth=6, loss_function='MultiClass', verbose=False)\n",
        "\n",
        "# Learn the digits on the train subset\n",
        "clf.fit(train_x, train_y)\n",
        "\n",
        "# Predict the value of the digit on the testing subset\n",
        "preds = clf.predict(test_x)\n",
        "\n",
        "# Calculate accuracy\n",
        "accuracy = accuracy_score(test_y, preds)\n",
        "print('Accuracy of testing dataset: {:.4f}'.format(accuracy))\n",
        "\n",
        "#  Visualize the first 8 test samples and show their predicted digit value in the title\n",
        "show_digits(test_x, preds)"
      ]
    },
    {
      "cell_type": "markdown",
      "metadata": {
        "id": "tSa9xNjEorkn"
      },
      "source": [
        "## Performance Evaluation"
      ]
    },
    {
      "cell_type": "markdown",
      "metadata": {
        "id": "fHfVQ1Lzorkn"
      },
      "source": [
        "### 1. Split train/valid/test sets\n",
        "*   已分割 training dataset (75%, 1347 samples) 與 testing dataset (25%, 450 samples)\n",
        "*   再從training dataset再分割成\n",
        "    *   train: 90%\n",
        "    *   validation: 10% \n",
        "*   訓練 train set 並使用 validation set 驗證"
      ]
    },
    {
      "cell_type": "code",
      "execution_count": null,
      "metadata": {
        "id": "JTyzfMMAorko",
        "outputId": "08f1f2cc-f270-45fd-ad9b-3651f272e45f"
      },
      "outputs": [
        {
          "name": "stdout",
          "output_type": "stream",
          "text": [
            "Accuracy of every iterations:  [0.9778 1.     0.9926 0.9926 0.963  0.9926 0.9926 1.     0.9778 0.9926]\n",
            "Average accuracy:  0.9881\n"
          ]
        }
      ],
      "source": [
        "valid_scores = []\n",
        "for i in range(10):\n",
        "    x_train, x_valid, y_train, y_valid = train_test_split(train_x, train_y, test_size=0.10, shuffle=True)\n",
        "    knn = KNeighborsClassifier(n_neighbors=5)\n",
        "    knn.fit(x_train, y_train)\n",
        "    \n",
        "    preds = knn.predict(x_valid)\n",
        "    score = accuracy_score(y_valid, preds)\n",
        "    valid_scores.append(score)\n",
        "valid_scores = np.array(valid_scores) \n",
        "\n",
        "print('Accuracy of every iterations: ', valid_scores.round(4))\n",
        "# use average accuracy as an estimate of out-of-sample accuracy\n",
        "print('Average accuracy: ', valid_scores.mean().round(4))"
      ]
    },
    {
      "cell_type": "markdown",
      "metadata": {
        "id": "yn_-8tY6orko"
      },
      "source": [
        "### 2. Cross Validation\n",
        "  (1)  方法：透過不同的訓練、測試資料組合，代入模型中作預測及驗證\n",
        "\n",
        "  (2)  效果：提供更多數據去作驗證，作為模型選擇判斷的依據\n",
        "\n",
        "  (3)  目的：衡量模型的表現、調整參數\n",
        "\n",
        "  (4)  包含：\n",
        "\n",
        "  *   Resubstitution (自我一致性評估法)：使用相同的資料進行訓練和測試\n",
        "\n",
        "  *   Holdout CV：隨機取得p%資料為Training data、剩下的 (1-p)% Testing data\n",
        "  \n",
        "        ![連結文字](https://drive.google.com/uc?id=18a01qRmpDkXJwUMOwv0wdqUslvOkm6OG)\n",
        "  *   Leave-one-out CV (LOOCV)：每次都將一筆資料視為Testing data，剩下的為Training data\n",
        "\n",
        "        ![連結文字](https://drive.google.com/uc?id=1qJE-8_PBuk1bzHEWJMSRIoyqYt58ZUad)\n",
        "  *   K-fold CV：將資料隨機平均分成k個集合，某一個集合當做Testing data，剩下的k-1個集合為Training data\n",
        "  \n",
        "        ![連結文字](https://drive.google.com/uc?id=1gQJS5gK22zOHP7WuMQtreOQtVBGsFPiQ)\n",
        "\n",
        "  K-fold Cross Validation 執行流程:\n",
        "  *   Split the dataset into K equal partitions (or \"folds\").\n",
        "  *   Use fold 1 as the testing set and the union of the other folds as the training set.\n",
        "  *   Calculate testing accuracy.\n",
        "  *   Repeat steps 2 and 3 K times, using a different fold as the testing set each time.\n",
        "  *   Use the average testing accuracy as the estimate of out-of-sample accuracy.\n",
        "\n",
        "      ![連結文字](https://raw.githubusercontent.com/justmarkham/scikit-learn-videos/8b8efe556d545ac12a76181ca0a2c3e52d3060b3/images/07_cross_validation_diagram.png)"
      ]
    },
    {
      "cell_type": "code",
      "execution_count": null,
      "metadata": {
        "id": "sHwDof0corko",
        "outputId": "e31dd954-3b02-4906-f6cf-0f2610c98357"
      },
      "outputs": [
        {
          "name": "stdout",
          "output_type": "stream",
          "text": [
            "Iteration                               Training set observations                               Testing set observations\n",
            "       1        [ 5  6  7  8  9 10 11 12 13 14 15 16 17 18 19 20 21 22 23 24]\t          [0 1 2 3 4]          \n",
            "       2        [ 0  1  2  3  4 10 11 12 13 14 15 16 17 18 19 20 21 22 23 24]\t          [5 6 7 8 9]          \n",
            "       3        [ 0  1  2  3  4  5  6  7  8  9 15 16 17 18 19 20 21 22 23 24]\t        [10 11 12 13 14]       \n",
            "       4        [ 0  1  2  3  4  5  6  7  8  9 10 11 12 13 14 20 21 22 23 24]\t        [15 16 17 18 19]       \n",
            "       5        [ 0  1  2  3  4  5  6  7  8  9 10 11 12 13 14 15 16 17 18 19]\t        [20 21 22 23 24]       \n"
          ]
        }
      ],
      "source": [
        "from sklearn.model_selection import KFold\n",
        "kf = KFold(n_splits=5, shuffle=False).split(range(25))\n",
        "\n",
        "# print the contents of each training and testing set\n",
        "print('{} {:^85} {}'.format('Iteration', 'Training set observations', 'Testing set observations'))\n",
        "for iteration, data in enumerate(kf, start=1):\n",
        "    print('{:^15} {}\\t {:^30}'.format(iteration, data[0], str(data[1])))"
      ]
    },
    {
      "cell_type": "code",
      "execution_count": null,
      "metadata": {
        "id": "fVRYC9KYorko",
        "outputId": "e0ac219d-188a-4928-8704-954a585369ba"
      },
      "outputs": [
        {
          "name": "stdout",
          "output_type": "stream",
          "text": [
            "Accuracy of every iterations:  [0.9852 0.9704 0.9926 0.9926 0.9778 0.9852 0.963  1.     1.     0.9925]\n",
            "Average accuracy:  0.9859\n"
          ]
        }
      ],
      "source": [
        "kf = KFold(n_splits=10, shuffle=True, random_state=1)\n",
        "\n",
        "valid_scores = []\n",
        "for train_idx, valid_idx in kf.split(train_x):\n",
        "    cv_train_x, cv_train_y = train_x[train_idx], train_y[train_idx]\n",
        "    cv_valid_x, cv_valid_y = train_x[valid_idx], train_y[valid_idx]\n",
        "    \n",
        "    knn = KNeighborsClassifier(n_neighbors=5)\n",
        "    knn.fit(cv_train_x, cv_train_y)\n",
        "    \n",
        "    preds = knn.predict(cv_valid_x)\n",
        "    score = accuracy_score(cv_valid_y, preds)\n",
        "    valid_scores.append(score)\n",
        "valid_scores = np.array(valid_scores) \n",
        "\n",
        "print('Accuracy of every iterations: ', valid_scores.round(4))\n",
        "# use average accuracy as an estimate of out-of-sample accuracy\n",
        "print('Average accuracy: ', valid_scores.mean().round(4))"
      ]
    },
    {
      "cell_type": "markdown",
      "metadata": {
        "id": "uJ4TKsUDorkp"
      },
      "source": [
        "The simplest way to use cross-validation is to call the [cross_val_score](https://scikit-learn.org/stable/modules/generated/sklearn.model_selection.cross_val_score.html) helper function on the estimator and the dataset.\n",
        "\n",
        "  *   cv: determine the cross-validation splitting strategy (like parameter k in K-fold)\n",
        "  *   scoring: including {AUC, accuracy, precision, recall, MAE, MSE, RMSE...}, see the documentation of callable function [(link)](https://scikit-learn.org/stable/modules/model_evaluation.html#scoring-parameter)\n",
        "\n"
      ]
    },
    {
      "cell_type": "code",
      "execution_count": null,
      "metadata": {
        "id": "_HIWh7BKorkp",
        "outputId": "1d9fcfd1-92e8-4e93-9d33-f32929f74c0b"
      },
      "outputs": [
        {
          "name": "stdout",
          "output_type": "stream",
          "text": [
            "Accuracy of every iterations:  [0.9852 0.9704 0.9926 0.9926 0.9778 0.9852 0.963  1.     1.     0.9925]\n",
            "Average accuracy:  0.9859\n"
          ]
        }
      ],
      "source": [
        "from sklearn.model_selection import cross_val_score\n",
        "\n",
        "# 10-fold cross-validation with K=5 for KNN (the n_neighbors parameter)\n",
        "knn = KNeighborsClassifier(n_neighbors=5)\n",
        "valid_scores = cross_val_score(knn, train_x, train_y, cv=KFold(n_splits=10, shuffle=True, random_state=1), scoring='accuracy')\n",
        "print('Accuracy of every iterations: ', valid_scores.round(4))\n",
        "\n",
        "# use average accuracy as an estimate of out-of-sample accuracy\n",
        "print('Average accuracy: ', valid_scores.mean().round(4))"
      ]
    },
    {
      "cell_type": "markdown",
      "metadata": {
        "id": "s8m_jNOtorkp"
      },
      "source": [
        "### 3. Metrics\n",
        "  (1) MSE (Mean Squared Error): [sklearn.metrics.mean_squared_error(y_true, y_pred, squared=True)](https://scikit-learn.org/stable/modules/generated/sklearn.metrics.mean_squared_error.html)\n",
        "\n",
        "   <img src=\"https://drive.google.com/uc?id=1C3d8KZjFrKAYyCjfyc2dvBqoQVwnEhtI\" width=\"300\" />\n",
        "\n",
        "\n",
        "  (2) MAE (Mean Absolute Error): [sklearn.metrics.mean_absolute_error(y_true, y_pred)](https://scikit-learn.org/stable/modules/generated/sklearn.metrics.mean_absolute_error.html)\n",
        "\n",
        "  <img src=\"https://i.imgur.com/m3l77On.png\" width=\"300\" />\n",
        "\n",
        "  (3) RMSE (Root Mean Squared Error): [sklearn.metrics.mean_squared_error(y_true, y_pred, squared=False)](https://scikit-learn.org/stable/modules/generated/sklearn.metrics.mean_squared_error.html)\n",
        "\n",
        "  <img src=\"https://drive.google.com/uc?id=17HHID04sFs22VIpxYiUkLtVthsp2zay9\" width=\"300\" />\n",
        "\n",
        "\n",
        "  (4)Precision: [sklearn.metrics.precision_score(y_true, y_pred)](https://scikit-learn.org/stable/modules/generated/sklearn.metrics.precision_score.html)\n",
        "\n",
        "  ![連結文字](https://drive.google.com/uc?id=1yptUYDnLKQK_N6PaG9c1-tCZzxlrBquo)\n",
        "\n",
        "\n",
        "  (5) Recall: [sklearn.metrics.recall_score(y_true, y_pred)](https://scikit-learn.org/stable/modules/generated/sklearn.metrics.recall_score.html)\n",
        "\n",
        "  ![連結文字](https://drive.google.com/uc?id=15Do95o0Jb52c_zw7uhbgnvLW0RJgB7p3)\n",
        "\n",
        "\n",
        "  (6) AUC (Area under the ROC Curve): [sklearn.metrics.auc(y_true, y_pred)](https://scikit-learn.org/stable/modules/generated/sklearn.metrics.auc.html)"
      ]
    },
    {
      "cell_type": "markdown",
      "metadata": {
        "id": "Yq7cWW9iorkp"
      },
      "source": [
        "## Hyperparamer Tuning"
      ]
    },
    {
      "cell_type": "markdown",
      "metadata": {
        "id": "4rqvLMnOorkq"
      },
      "source": [
        "### 1. Grid Search"
      ]
    },
    {
      "cell_type": "code",
      "execution_count": null,
      "metadata": {
        "id": "4R26Eftoorkq",
        "outputId": "cc32f34f-653d-488b-bc6a-c907deecb6c0"
      },
      "outputs": [
        {
          "name": "stdout",
          "output_type": "stream",
          "text": [
            "{'n_neighbors': [1, 2, 3, 4, 5, 6, 7, 8, 9, 10, 11, 12, 13, 14, 15, 16, 17, 18, 19, 20, 21, 22, 23, 24, 25, 26, 27, 28, 29, 30], 'weights': ['uniform', 'distance']}\n",
            "search times: 60\n"
          ]
        }
      ],
      "source": [
        "from sklearn.model_selection import GridSearchCV\n",
        "\n",
        "# define the parameter values that should be searched\n",
        "k_range = list(range(1, 31))\n",
        "weight_options = ['uniform', 'distance']\n",
        "\n",
        "# create a parameter grid: map the parameter names to the values that should be searched\n",
        "param_grid = dict(n_neighbors=k_range, weights=weight_options)\n",
        "print(param_grid)\n",
        "\n",
        "cnt = 1\n",
        "for i in param_grid.values():\n",
        "    cnt *= len(i)\n",
        "print('search times:', cnt)"
      ]
    },
    {
      "cell_type": "code",
      "execution_count": null,
      "metadata": {
        "id": "JmMxDlhSorkq",
        "outputId": "fc0e397b-b3fc-455f-dc8c-58b434048e20"
      },
      "outputs": [
        {
          "data": {
            "text/plain": [
              "GridSearchCV(cv=KFold(n_splits=10, random_state=1, shuffle=True),\n",
              "             estimator=KNeighborsClassifier(),\n",
              "             param_grid={'n_neighbors': [1, 2, 3, 4, 5, 6, 7, 8, 9, 10, 11, 12,\n",
              "                                         13, 14, 15, 16, 17, 18, 19, 20, 21, 22,\n",
              "                                         23, 24, 25, 26, 27, 28, 29, 30],\n",
              "                         'weights': ['uniform', 'distance']},\n",
              "             scoring='accuracy')"
            ]
          },
          "execution_count": 20,
          "metadata": {},
          "output_type": "execute_result"
        }
      ],
      "source": [
        "knn = KNeighborsClassifier(n_neighbors=5)\n",
        "\n",
        "# instantiate the grid\n",
        "grid = GridSearchCV(knn, param_grid, cv=KFold(n_splits=10, shuffle=True, random_state=1), scoring='accuracy')\n",
        "\n",
        "# fit the grid with data\n",
        "grid.fit(train_x, train_y)"
      ]
    },
    {
      "cell_type": "code",
      "execution_count": null,
      "metadata": {
        "id": "0kQUW3YPorkq",
        "outputId": "202e5248-7981-44a0-bde4-beb982466be3"
      },
      "outputs": [
        {
          "data": {
            "text/html": [
              "<div>\n",
              "<style scoped>\n",
              "    .dataframe tbody tr th:only-of-type {\n",
              "        vertical-align: middle;\n",
              "    }\n",
              "\n",
              "    .dataframe tbody tr th {\n",
              "        vertical-align: top;\n",
              "    }\n",
              "\n",
              "    .dataframe thead th {\n",
              "        text-align: right;\n",
              "    }\n",
              "</style>\n",
              "<table border=\"1\" class=\"dataframe\">\n",
              "  <thead>\n",
              "    <tr style=\"text-align: right;\">\n",
              "      <th></th>\n",
              "      <th>mean_test_score</th>\n",
              "      <th>std_test_score</th>\n",
              "      <th>params</th>\n",
              "    </tr>\n",
              "  </thead>\n",
              "  <tbody>\n",
              "    <tr>\n",
              "      <th>0</th>\n",
              "      <td>0.988132</td>\n",
              "      <td>0.007555</td>\n",
              "      <td>{'n_neighbors': 1, 'weights': 'uniform'}</td>\n",
              "    </tr>\n",
              "    <tr>\n",
              "      <th>1</th>\n",
              "      <td>0.988132</td>\n",
              "      <td>0.007555</td>\n",
              "      <td>{'n_neighbors': 1, 'weights': 'distance'}</td>\n",
              "    </tr>\n",
              "    <tr>\n",
              "      <th>2</th>\n",
              "      <td>0.982941</td>\n",
              "      <td>0.010497</td>\n",
              "      <td>{'n_neighbors': 2, 'weights': 'uniform'}</td>\n",
              "    </tr>\n",
              "    <tr>\n",
              "      <th>3</th>\n",
              "      <td>0.988132</td>\n",
              "      <td>0.007555</td>\n",
              "      <td>{'n_neighbors': 2, 'weights': 'distance'}</td>\n",
              "    </tr>\n",
              "    <tr>\n",
              "      <th>4</th>\n",
              "      <td>0.988889</td>\n",
              "      <td>0.010075</td>\n",
              "      <td>{'n_neighbors': 3, 'weights': 'uniform'}</td>\n",
              "    </tr>\n",
              "    <tr>\n",
              "      <th>5</th>\n",
              "      <td>0.988889</td>\n",
              "      <td>0.010075</td>\n",
              "      <td>{'n_neighbors': 3, 'weights': 'distance'}</td>\n",
              "    </tr>\n",
              "    <tr>\n",
              "      <th>6</th>\n",
              "      <td>0.983693</td>\n",
              "      <td>0.011844</td>\n",
              "      <td>{'n_neighbors': 4, 'weights': 'uniform'}</td>\n",
              "    </tr>\n",
              "    <tr>\n",
              "      <th>7</th>\n",
              "      <td>0.988889</td>\n",
              "      <td>0.009515</td>\n",
              "      <td>{'n_neighbors': 4, 'weights': 'distance'}</td>\n",
              "    </tr>\n",
              "    <tr>\n",
              "      <th>8</th>\n",
              "      <td>0.985920</td>\n",
              "      <td>0.011686</td>\n",
              "      <td>{'n_neighbors': 5, 'weights': 'uniform'}</td>\n",
              "    </tr>\n",
              "    <tr>\n",
              "      <th>9</th>\n",
              "      <td>0.985920</td>\n",
              "      <td>0.011686</td>\n",
              "      <td>{'n_neighbors': 5, 'weights': 'distance'}</td>\n",
              "    </tr>\n",
              "    <tr>\n",
              "      <th>10</th>\n",
              "      <td>0.982941</td>\n",
              "      <td>0.008781</td>\n",
              "      <td>{'n_neighbors': 6, 'weights': 'uniform'}</td>\n",
              "    </tr>\n",
              "    <tr>\n",
              "      <th>11</th>\n",
              "      <td>0.987407</td>\n",
              "      <td>0.011499</td>\n",
              "      <td>{'n_neighbors': 6, 'weights': 'distance'}</td>\n",
              "    </tr>\n",
              "    <tr>\n",
              "      <th>12</th>\n",
              "      <td>0.982200</td>\n",
              "      <td>0.011073</td>\n",
              "      <td>{'n_neighbors': 7, 'weights': 'uniform'}</td>\n",
              "    </tr>\n",
              "    <tr>\n",
              "      <th>13</th>\n",
              "      <td>0.982941</td>\n",
              "      <td>0.009953</td>\n",
              "      <td>{'n_neighbors': 7, 'weights': 'distance'}</td>\n",
              "    </tr>\n",
              "    <tr>\n",
              "      <th>14</th>\n",
              "      <td>0.981465</td>\n",
              "      <td>0.012043</td>\n",
              "      <td>{'n_neighbors': 8, 'weights': 'uniform'}</td>\n",
              "    </tr>\n",
              "    <tr>\n",
              "      <th>15</th>\n",
              "      <td>0.985915</td>\n",
              "      <td>0.010176</td>\n",
              "      <td>{'n_neighbors': 8, 'weights': 'distance'}</td>\n",
              "    </tr>\n",
              "    <tr>\n",
              "      <th>16</th>\n",
              "      <td>0.982195</td>\n",
              "      <td>0.008875</td>\n",
              "      <td>{'n_neighbors': 9, 'weights': 'uniform'}</td>\n",
              "    </tr>\n",
              "    <tr>\n",
              "      <th>17</th>\n",
              "      <td>0.983682</td>\n",
              "      <td>0.008625</td>\n",
              "      <td>{'n_neighbors': 9, 'weights': 'distance'}</td>\n",
              "    </tr>\n",
              "    <tr>\n",
              "      <th>18</th>\n",
              "      <td>0.982200</td>\n",
              "      <td>0.010033</td>\n",
              "      <td>{'n_neighbors': 10, 'weights': 'uniform'}</td>\n",
              "    </tr>\n",
              "    <tr>\n",
              "      <th>19</th>\n",
              "      <td>0.985915</td>\n",
              "      <td>0.009034</td>\n",
              "      <td>{'n_neighbors': 10, 'weights': 'distance'}</td>\n",
              "    </tr>\n",
              "    <tr>\n",
              "      <th>20</th>\n",
              "      <td>0.982941</td>\n",
              "      <td>0.008132</td>\n",
              "      <td>{'n_neighbors': 11, 'weights': 'uniform'}</td>\n",
              "    </tr>\n",
              "    <tr>\n",
              "      <th>21</th>\n",
              "      <td>0.983687</td>\n",
              "      <td>0.009236</td>\n",
              "      <td>{'n_neighbors': 11, 'weights': 'distance'}</td>\n",
              "    </tr>\n",
              "    <tr>\n",
              "      <th>22</th>\n",
              "      <td>0.977745</td>\n",
              "      <td>0.012817</td>\n",
              "      <td>{'n_neighbors': 12, 'weights': 'uniform'}</td>\n",
              "    </tr>\n",
              "    <tr>\n",
              "      <th>23</th>\n",
              "      <td>0.984428</td>\n",
              "      <td>0.007716</td>\n",
              "      <td>{'n_neighbors': 12, 'weights': 'distance'}</td>\n",
              "    </tr>\n",
              "    <tr>\n",
              "      <th>24</th>\n",
              "      <td>0.978485</td>\n",
              "      <td>0.007705</td>\n",
              "      <td>{'n_neighbors': 13, 'weights': 'uniform'}</td>\n",
              "    </tr>\n",
              "    <tr>\n",
              "      <th>25</th>\n",
              "      <td>0.980713</td>\n",
              "      <td>0.008871</td>\n",
              "      <td>{'n_neighbors': 13, 'weights': 'distance'}</td>\n",
              "    </tr>\n",
              "    <tr>\n",
              "      <th>26</th>\n",
              "      <td>0.974782</td>\n",
              "      <td>0.012014</td>\n",
              "      <td>{'n_neighbors': 14, 'weights': 'uniform'}</td>\n",
              "    </tr>\n",
              "    <tr>\n",
              "      <th>27</th>\n",
              "      <td>0.982941</td>\n",
              "      <td>0.007427</td>\n",
              "      <td>{'n_neighbors': 14, 'weights': 'distance'}</td>\n",
              "    </tr>\n",
              "    <tr>\n",
              "      <th>28</th>\n",
              "      <td>0.975522</td>\n",
              "      <td>0.010479</td>\n",
              "      <td>{'n_neighbors': 15, 'weights': 'uniform'}</td>\n",
              "    </tr>\n",
              "    <tr>\n",
              "      <th>29</th>\n",
              "      <td>0.980713</td>\n",
              "      <td>0.008229</td>\n",
              "      <td>{'n_neighbors': 15, 'weights': 'distance'}</td>\n",
              "    </tr>\n",
              "    <tr>\n",
              "      <th>30</th>\n",
              "      <td>0.977756</td>\n",
              "      <td>0.011454</td>\n",
              "      <td>{'n_neighbors': 16, 'weights': 'uniform'}</td>\n",
              "    </tr>\n",
              "    <tr>\n",
              "      <th>31</th>\n",
              "      <td>0.982952</td>\n",
              "      <td>0.011002</td>\n",
              "      <td>{'n_neighbors': 16, 'weights': 'distance'}</td>\n",
              "    </tr>\n",
              "    <tr>\n",
              "      <th>32</th>\n",
              "      <td>0.974041</td>\n",
              "      <td>0.011085</td>\n",
              "      <td>{'n_neighbors': 17, 'weights': 'uniform'}</td>\n",
              "    </tr>\n",
              "    <tr>\n",
              "      <th>33</th>\n",
              "      <td>0.978491</td>\n",
              "      <td>0.009606</td>\n",
              "      <td>{'n_neighbors': 17, 'weights': 'distance'}</td>\n",
              "    </tr>\n",
              "    <tr>\n",
              "      <th>34</th>\n",
              "      <td>0.973300</td>\n",
              "      <td>0.013304</td>\n",
              "      <td>{'n_neighbors': 18, 'weights': 'uniform'}</td>\n",
              "    </tr>\n",
              "    <tr>\n",
              "      <th>35</th>\n",
              "      <td>0.979243</td>\n",
              "      <td>0.012288</td>\n",
              "      <td>{'n_neighbors': 18, 'weights': 'distance'}</td>\n",
              "    </tr>\n",
              "    <tr>\n",
              "      <th>36</th>\n",
              "      <td>0.973295</td>\n",
              "      <td>0.010015</td>\n",
              "      <td>{'n_neighbors': 19, 'weights': 'uniform'}</td>\n",
              "    </tr>\n",
              "    <tr>\n",
              "      <th>37</th>\n",
              "      <td>0.977004</td>\n",
              "      <td>0.010165</td>\n",
              "      <td>{'n_neighbors': 19, 'weights': 'distance'}</td>\n",
              "    </tr>\n",
              "    <tr>\n",
              "      <th>38</th>\n",
              "      <td>0.971067</td>\n",
              "      <td>0.010674</td>\n",
              "      <td>{'n_neighbors': 20, 'weights': 'uniform'}</td>\n",
              "    </tr>\n",
              "    <tr>\n",
              "      <th>39</th>\n",
              "      <td>0.975517</td>\n",
              "      <td>0.009373</td>\n",
              "      <td>{'n_neighbors': 20, 'weights': 'distance'}</td>\n",
              "    </tr>\n",
              "    <tr>\n",
              "      <th>40</th>\n",
              "      <td>0.971802</td>\n",
              "      <td>0.008605</td>\n",
              "      <td>{'n_neighbors': 21, 'weights': 'uniform'}</td>\n",
              "    </tr>\n",
              "    <tr>\n",
              "      <th>41</th>\n",
              "      <td>0.973284</td>\n",
              "      <td>0.006757</td>\n",
              "      <td>{'n_neighbors': 21, 'weights': 'distance'}</td>\n",
              "    </tr>\n",
              "    <tr>\n",
              "      <th>42</th>\n",
              "      <td>0.969574</td>\n",
              "      <td>0.008379</td>\n",
              "      <td>{'n_neighbors': 22, 'weights': 'uniform'}</td>\n",
              "    </tr>\n",
              "    <tr>\n",
              "      <th>43</th>\n",
              "      <td>0.972543</td>\n",
              "      <td>0.008117</td>\n",
              "      <td>{'n_neighbors': 22, 'weights': 'distance'}</td>\n",
              "    </tr>\n",
              "    <tr>\n",
              "      <th>44</th>\n",
              "      <td>0.967347</td>\n",
              "      <td>0.010018</td>\n",
              "      <td>{'n_neighbors': 23, 'weights': 'uniform'}</td>\n",
              "    </tr>\n",
              "    <tr>\n",
              "      <th>45</th>\n",
              "      <td>0.972548</td>\n",
              "      <td>0.009366</td>\n",
              "      <td>{'n_neighbors': 23, 'weights': 'distance'}</td>\n",
              "    </tr>\n",
              "    <tr>\n",
              "      <th>46</th>\n",
              "      <td>0.964378</td>\n",
              "      <td>0.009219</td>\n",
              "      <td>{'n_neighbors': 24, 'weights': 'uniform'}</td>\n",
              "    </tr>\n",
              "    <tr>\n",
              "      <th>47</th>\n",
              "      <td>0.969574</td>\n",
              "      <td>0.009600</td>\n",
              "      <td>{'n_neighbors': 24, 'weights': 'distance'}</td>\n",
              "    </tr>\n",
              "    <tr>\n",
              "      <th>48</th>\n",
              "      <td>0.964378</td>\n",
              "      <td>0.009219</td>\n",
              "      <td>{'n_neighbors': 25, 'weights': 'uniform'}</td>\n",
              "    </tr>\n",
              "    <tr>\n",
              "      <th>49</th>\n",
              "      <td>0.971808</td>\n",
              "      <td>0.009792</td>\n",
              "      <td>{'n_neighbors': 25, 'weights': 'distance'}</td>\n",
              "    </tr>\n",
              "    <tr>\n",
              "      <th>50</th>\n",
              "      <td>0.964378</td>\n",
              "      <td>0.011367</td>\n",
              "      <td>{'n_neighbors': 26, 'weights': 'uniform'}</td>\n",
              "    </tr>\n",
              "    <tr>\n",
              "      <th>51</th>\n",
              "      <td>0.970321</td>\n",
              "      <td>0.009339</td>\n",
              "      <td>{'n_neighbors': 26, 'weights': 'distance'}</td>\n",
              "    </tr>\n",
              "    <tr>\n",
              "      <th>52</th>\n",
              "      <td>0.965119</td>\n",
              "      <td>0.011491</td>\n",
              "      <td>{'n_neighbors': 27, 'weights': 'uniform'}</td>\n",
              "    </tr>\n",
              "    <tr>\n",
              "      <th>53</th>\n",
              "      <td>0.968087</td>\n",
              "      <td>0.009381</td>\n",
              "      <td>{'n_neighbors': 27, 'weights': 'distance'}</td>\n",
              "    </tr>\n",
              "    <tr>\n",
              "      <th>54</th>\n",
              "      <td>0.962897</td>\n",
              "      <td>0.010453</td>\n",
              "      <td>{'n_neighbors': 28, 'weights': 'uniform'}</td>\n",
              "    </tr>\n",
              "    <tr>\n",
              "      <th>55</th>\n",
              "      <td>0.969580</td>\n",
              "      <td>0.010152</td>\n",
              "      <td>{'n_neighbors': 28, 'weights': 'distance'}</td>\n",
              "    </tr>\n",
              "    <tr>\n",
              "      <th>56</th>\n",
              "      <td>0.963626</td>\n",
              "      <td>0.011708</td>\n",
              "      <td>{'n_neighbors': 29, 'weights': 'uniform'}</td>\n",
              "    </tr>\n",
              "    <tr>\n",
              "      <th>57</th>\n",
              "      <td>0.966600</td>\n",
              "      <td>0.011112</td>\n",
              "      <td>{'n_neighbors': 29, 'weights': 'distance'}</td>\n",
              "    </tr>\n",
              "    <tr>\n",
              "      <th>58</th>\n",
              "      <td>0.964373</td>\n",
              "      <td>0.010882</td>\n",
              "      <td>{'n_neighbors': 30, 'weights': 'uniform'}</td>\n",
              "    </tr>\n",
              "    <tr>\n",
              "      <th>59</th>\n",
              "      <td>0.965860</td>\n",
              "      <td>0.011567</td>\n",
              "      <td>{'n_neighbors': 30, 'weights': 'distance'}</td>\n",
              "    </tr>\n",
              "  </tbody>\n",
              "</table>\n",
              "</div>"
            ],
            "text/plain": [
              "    mean_test_score  std_test_score  \\\n",
              "0          0.988132        0.007555   \n",
              "1          0.988132        0.007555   \n",
              "2          0.982941        0.010497   \n",
              "3          0.988132        0.007555   \n",
              "4          0.988889        0.010075   \n",
              "5          0.988889        0.010075   \n",
              "6          0.983693        0.011844   \n",
              "7          0.988889        0.009515   \n",
              "8          0.985920        0.011686   \n",
              "9          0.985920        0.011686   \n",
              "10         0.982941        0.008781   \n",
              "11         0.987407        0.011499   \n",
              "12         0.982200        0.011073   \n",
              "13         0.982941        0.009953   \n",
              "14         0.981465        0.012043   \n",
              "15         0.985915        0.010176   \n",
              "16         0.982195        0.008875   \n",
              "17         0.983682        0.008625   \n",
              "18         0.982200        0.010033   \n",
              "19         0.985915        0.009034   \n",
              "20         0.982941        0.008132   \n",
              "21         0.983687        0.009236   \n",
              "22         0.977745        0.012817   \n",
              "23         0.984428        0.007716   \n",
              "24         0.978485        0.007705   \n",
              "25         0.980713        0.008871   \n",
              "26         0.974782        0.012014   \n",
              "27         0.982941        0.007427   \n",
              "28         0.975522        0.010479   \n",
              "29         0.980713        0.008229   \n",
              "30         0.977756        0.011454   \n",
              "31         0.982952        0.011002   \n",
              "32         0.974041        0.011085   \n",
              "33         0.978491        0.009606   \n",
              "34         0.973300        0.013304   \n",
              "35         0.979243        0.012288   \n",
              "36         0.973295        0.010015   \n",
              "37         0.977004        0.010165   \n",
              "38         0.971067        0.010674   \n",
              "39         0.975517        0.009373   \n",
              "40         0.971802        0.008605   \n",
              "41         0.973284        0.006757   \n",
              "42         0.969574        0.008379   \n",
              "43         0.972543        0.008117   \n",
              "44         0.967347        0.010018   \n",
              "45         0.972548        0.009366   \n",
              "46         0.964378        0.009219   \n",
              "47         0.969574        0.009600   \n",
              "48         0.964378        0.009219   \n",
              "49         0.971808        0.009792   \n",
              "50         0.964378        0.011367   \n",
              "51         0.970321        0.009339   \n",
              "52         0.965119        0.011491   \n",
              "53         0.968087        0.009381   \n",
              "54         0.962897        0.010453   \n",
              "55         0.969580        0.010152   \n",
              "56         0.963626        0.011708   \n",
              "57         0.966600        0.011112   \n",
              "58         0.964373        0.010882   \n",
              "59         0.965860        0.011567   \n",
              "\n",
              "                                        params  \n",
              "0     {'n_neighbors': 1, 'weights': 'uniform'}  \n",
              "1    {'n_neighbors': 1, 'weights': 'distance'}  \n",
              "2     {'n_neighbors': 2, 'weights': 'uniform'}  \n",
              "3    {'n_neighbors': 2, 'weights': 'distance'}  \n",
              "4     {'n_neighbors': 3, 'weights': 'uniform'}  \n",
              "5    {'n_neighbors': 3, 'weights': 'distance'}  \n",
              "6     {'n_neighbors': 4, 'weights': 'uniform'}  \n",
              "7    {'n_neighbors': 4, 'weights': 'distance'}  \n",
              "8     {'n_neighbors': 5, 'weights': 'uniform'}  \n",
              "9    {'n_neighbors': 5, 'weights': 'distance'}  \n",
              "10    {'n_neighbors': 6, 'weights': 'uniform'}  \n",
              "11   {'n_neighbors': 6, 'weights': 'distance'}  \n",
              "12    {'n_neighbors': 7, 'weights': 'uniform'}  \n",
              "13   {'n_neighbors': 7, 'weights': 'distance'}  \n",
              "14    {'n_neighbors': 8, 'weights': 'uniform'}  \n",
              "15   {'n_neighbors': 8, 'weights': 'distance'}  \n",
              "16    {'n_neighbors': 9, 'weights': 'uniform'}  \n",
              "17   {'n_neighbors': 9, 'weights': 'distance'}  \n",
              "18   {'n_neighbors': 10, 'weights': 'uniform'}  \n",
              "19  {'n_neighbors': 10, 'weights': 'distance'}  \n",
              "20   {'n_neighbors': 11, 'weights': 'uniform'}  \n",
              "21  {'n_neighbors': 11, 'weights': 'distance'}  \n",
              "22   {'n_neighbors': 12, 'weights': 'uniform'}  \n",
              "23  {'n_neighbors': 12, 'weights': 'distance'}  \n",
              "24   {'n_neighbors': 13, 'weights': 'uniform'}  \n",
              "25  {'n_neighbors': 13, 'weights': 'distance'}  \n",
              "26   {'n_neighbors': 14, 'weights': 'uniform'}  \n",
              "27  {'n_neighbors': 14, 'weights': 'distance'}  \n",
              "28   {'n_neighbors': 15, 'weights': 'uniform'}  \n",
              "29  {'n_neighbors': 15, 'weights': 'distance'}  \n",
              "30   {'n_neighbors': 16, 'weights': 'uniform'}  \n",
              "31  {'n_neighbors': 16, 'weights': 'distance'}  \n",
              "32   {'n_neighbors': 17, 'weights': 'uniform'}  \n",
              "33  {'n_neighbors': 17, 'weights': 'distance'}  \n",
              "34   {'n_neighbors': 18, 'weights': 'uniform'}  \n",
              "35  {'n_neighbors': 18, 'weights': 'distance'}  \n",
              "36   {'n_neighbors': 19, 'weights': 'uniform'}  \n",
              "37  {'n_neighbors': 19, 'weights': 'distance'}  \n",
              "38   {'n_neighbors': 20, 'weights': 'uniform'}  \n",
              "39  {'n_neighbors': 20, 'weights': 'distance'}  \n",
              "40   {'n_neighbors': 21, 'weights': 'uniform'}  \n",
              "41  {'n_neighbors': 21, 'weights': 'distance'}  \n",
              "42   {'n_neighbors': 22, 'weights': 'uniform'}  \n",
              "43  {'n_neighbors': 22, 'weights': 'distance'}  \n",
              "44   {'n_neighbors': 23, 'weights': 'uniform'}  \n",
              "45  {'n_neighbors': 23, 'weights': 'distance'}  \n",
              "46   {'n_neighbors': 24, 'weights': 'uniform'}  \n",
              "47  {'n_neighbors': 24, 'weights': 'distance'}  \n",
              "48   {'n_neighbors': 25, 'weights': 'uniform'}  \n",
              "49  {'n_neighbors': 25, 'weights': 'distance'}  \n",
              "50   {'n_neighbors': 26, 'weights': 'uniform'}  \n",
              "51  {'n_neighbors': 26, 'weights': 'distance'}  \n",
              "52   {'n_neighbors': 27, 'weights': 'uniform'}  \n",
              "53  {'n_neighbors': 27, 'weights': 'distance'}  \n",
              "54   {'n_neighbors': 28, 'weights': 'uniform'}  \n",
              "55  {'n_neighbors': 28, 'weights': 'distance'}  \n",
              "56   {'n_neighbors': 29, 'weights': 'uniform'}  \n",
              "57  {'n_neighbors': 29, 'weights': 'distance'}  \n",
              "58   {'n_neighbors': 30, 'weights': 'uniform'}  \n",
              "59  {'n_neighbors': 30, 'weights': 'distance'}  "
            ]
          },
          "execution_count": 21,
          "metadata": {},
          "output_type": "execute_result"
        }
      ],
      "source": [
        "# view the results\n",
        "pd.DataFrame(grid.cv_results_)[['mean_test_score', 'std_test_score', 'params']]"
      ]
    },
    {
      "cell_type": "code",
      "execution_count": null,
      "metadata": {
        "id": "dtCychC1orkq",
        "outputId": "164da85d-ec74-47ec-f884-0d8f443c1a83"
      },
      "outputs": [
        {
          "name": "stdout",
          "output_type": "stream",
          "text": [
            "0.9889\n",
            "{'n_neighbors': 3, 'weights': 'uniform'}\n",
            "\n",
            "Accuracy of grid search model:  0.98\n"
          ]
        }
      ],
      "source": [
        "# examine the best model\n",
        "print(grid.best_score_.round(4))\n",
        "print(grid.best_params_)\n",
        "\n",
        "# make predictions of grid search model\n",
        "preds = grid.predict(test_x)\n",
        "accuracy = accuracy_score(test_y, preds)\n",
        "print('\\nAccuracy of grid search model: ', accuracy.round(4))"
      ]
    },
    {
      "cell_type": "code",
      "execution_count": null,
      "metadata": {
        "id": "GaCcs5KVorkr",
        "outputId": "5e1aa593-12c6-48d4-d4e6-8b82abaa8ffe"
      },
      "outputs": [
        {
          "data": {
            "text/html": [
              "<div>\n",
              "<style scoped>\n",
              "    .dataframe tbody tr th:only-of-type {\n",
              "        vertical-align: middle;\n",
              "    }\n",
              "\n",
              "    .dataframe tbody tr th {\n",
              "        vertical-align: top;\n",
              "    }\n",
              "\n",
              "    .dataframe thead th {\n",
              "        text-align: right;\n",
              "    }\n",
              "</style>\n",
              "<table border=\"1\" class=\"dataframe\">\n",
              "  <thead>\n",
              "    <tr style=\"text-align: right;\">\n",
              "      <th></th>\n",
              "      <th>mean_test_score</th>\n",
              "      <th>std_test_score</th>\n",
              "      <th>params</th>\n",
              "    </tr>\n",
              "  </thead>\n",
              "  <tbody>\n",
              "    <tr>\n",
              "      <th>0</th>\n",
              "      <td>0.982952</td>\n",
              "      <td>0.011002</td>\n",
              "      <td>{'weights': 'distance', 'n_neighbors': 16}</td>\n",
              "    </tr>\n",
              "    <tr>\n",
              "      <th>1</th>\n",
              "      <td>0.969574</td>\n",
              "      <td>0.008379</td>\n",
              "      <td>{'weights': 'uniform', 'n_neighbors': 22}</td>\n",
              "    </tr>\n",
              "    <tr>\n",
              "      <th>2</th>\n",
              "      <td>0.973300</td>\n",
              "      <td>0.013304</td>\n",
              "      <td>{'weights': 'uniform', 'n_neighbors': 18}</td>\n",
              "    </tr>\n",
              "    <tr>\n",
              "      <th>3</th>\n",
              "      <td>0.965119</td>\n",
              "      <td>0.011491</td>\n",
              "      <td>{'weights': 'uniform', 'n_neighbors': 27}</td>\n",
              "    </tr>\n",
              "    <tr>\n",
              "      <th>4</th>\n",
              "      <td>0.963626</td>\n",
              "      <td>0.011708</td>\n",
              "      <td>{'weights': 'uniform', 'n_neighbors': 29}</td>\n",
              "    </tr>\n",
              "    <tr>\n",
              "      <th>5</th>\n",
              "      <td>0.985915</td>\n",
              "      <td>0.009034</td>\n",
              "      <td>{'weights': 'distance', 'n_neighbors': 10}</td>\n",
              "    </tr>\n",
              "    <tr>\n",
              "      <th>6</th>\n",
              "      <td>0.972543</td>\n",
              "      <td>0.008117</td>\n",
              "      <td>{'weights': 'distance', 'n_neighbors': 22}</td>\n",
              "    </tr>\n",
              "    <tr>\n",
              "      <th>7</th>\n",
              "      <td>0.974782</td>\n",
              "      <td>0.012014</td>\n",
              "      <td>{'weights': 'uniform', 'n_neighbors': 14}</td>\n",
              "    </tr>\n",
              "    <tr>\n",
              "      <th>8</th>\n",
              "      <td>0.984428</td>\n",
              "      <td>0.007716</td>\n",
              "      <td>{'weights': 'distance', 'n_neighbors': 12}</td>\n",
              "    </tr>\n",
              "    <tr>\n",
              "      <th>9</th>\n",
              "      <td>0.975522</td>\n",
              "      <td>0.010479</td>\n",
              "      <td>{'weights': 'uniform', 'n_neighbors': 15}</td>\n",
              "    </tr>\n",
              "  </tbody>\n",
              "</table>\n",
              "</div>"
            ],
            "text/plain": [
              "   mean_test_score  std_test_score                                      params\n",
              "0         0.982952        0.011002  {'weights': 'distance', 'n_neighbors': 16}\n",
              "1         0.969574        0.008379   {'weights': 'uniform', 'n_neighbors': 22}\n",
              "2         0.973300        0.013304   {'weights': 'uniform', 'n_neighbors': 18}\n",
              "3         0.965119        0.011491   {'weights': 'uniform', 'n_neighbors': 27}\n",
              "4         0.963626        0.011708   {'weights': 'uniform', 'n_neighbors': 29}\n",
              "5         0.985915        0.009034  {'weights': 'distance', 'n_neighbors': 10}\n",
              "6         0.972543        0.008117  {'weights': 'distance', 'n_neighbors': 22}\n",
              "7         0.974782        0.012014   {'weights': 'uniform', 'n_neighbors': 14}\n",
              "8         0.984428        0.007716  {'weights': 'distance', 'n_neighbors': 12}\n",
              "9         0.975522        0.010479   {'weights': 'uniform', 'n_neighbors': 15}"
            ]
          },
          "execution_count": 23,
          "metadata": {},
          "output_type": "execute_result"
        }
      ],
      "source": [
        "# n_iter=10\n",
        "from sklearn.model_selection import RandomizedSearchCV\n",
        "\n",
        "RSCV = RandomizedSearchCV(knn, param_grid, cv=KFold(n_splits=10, shuffle=True, random_state=1), scoring='accuracy', n_iter=10, random_state=5)\n",
        "RSCV.fit(train_x, train_y)\n",
        "pd.DataFrame(RSCV.cv_results_)[['mean_test_score', 'std_test_score', 'params']]"
      ]
    },
    {
      "cell_type": "code",
      "execution_count": null,
      "metadata": {
        "id": "WdpbLg8morkr",
        "outputId": "93b53d01-2dce-4231-f9a9-13db72a16c92"
      },
      "outputs": [
        {
          "name": "stdout",
          "output_type": "stream",
          "text": [
            "0.9859\n",
            "{'weights': 'distance', 'n_neighbors': 10}\n",
            "\n",
            "Accuracy of grid search model:  0.9778\n"
          ]
        }
      ],
      "source": [
        "# examine the best model\n",
        "print(RSCV.best_score_.round(4))\n",
        "print(RSCV.best_params_)\n",
        "\n",
        "# make predictions of random search model\n",
        "preds = RSCV.predict(test_x)\n",
        "accuracy = accuracy_score(test_y, preds)\n",
        "print('\\nAccuracy of grid search model: ', accuracy.round(4))"
      ]
    },
    {
      "cell_type": "markdown",
      "metadata": {
        "id": "vW0DaVTGorkr"
      },
      "source": [
        "## Summary\n",
        "1. Data preprocessing & Split dataset\n",
        "2. Basic Classifier Models: KNN, Logsitic Regression, Decision Tree, Random Forest, Support Vector Machine, MLP\n",
        "3. GBDT Models: XGBoost, LightGBM, CatBook\n",
        "4. Performance Evaluation: \n",
        "    * Split train/validation/test sets\n",
        "    * Cross validation (K-fold cv)\n",
        "    * Metric (MSE, MAE, RMSE, accuracy, precision, recall, AUC)\n",
        "5. Hyperparamer Tuning:\n",
        "    * Grid Search cv\n",
        "    * Randomized Search cv"
      ]
    }
  ],
  "metadata": {
    "kernelspec": {
      "display_name": "Python 3 (ipykernel)",
      "language": "python",
      "name": "python3"
    },
    "language_info": {
      "codemirror_mode": {
        "name": "ipython",
        "version": 3
      },
      "file_extension": ".py",
      "mimetype": "text/x-python",
      "name": "python",
      "nbconvert_exporter": "python",
      "pygments_lexer": "ipython3",
      "version": "3.9.13"
    },
    "colab": {
      "provenance": [],
      "include_colab_link": true
    }
  },
  "nbformat": 4,
  "nbformat_minor": 0
}